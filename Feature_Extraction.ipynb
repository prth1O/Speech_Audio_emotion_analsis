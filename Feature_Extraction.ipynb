{
 "cells": [
  {
   "cell_type": "code",
   "execution_count": 1,
   "metadata": {
    "id": "VruSIENLYTBO"
   },
   "outputs": [],
   "source": [
    "import pandas as pd\n",
    "import numpy as np\n",
    "import scipy\n",
    "import os\n",
    "import glob"
   ]
  },
  {
   "cell_type": "code",
   "execution_count": null,
   "metadata": {
    "colab": {
     "base_uri": "https://localhost:8080/"
    },
    "id": "PIrm8DIkYrnp",
    "outputId": "b5d96410-1760-45fd-86d6-9e511f9a8b99"
   },
   "outputs": [
    {
     "name": "stdout",
     "output_type": "stream",
     "text": [
      "Collecting Soundfile\n",
      "  Downloading https://files.pythonhosted.org/packages/eb/f2/3cbbbf3b96fb9fa91582c438b574cff3f45b29c772f94c400e2c99ef5db9/SoundFile-0.10.3.post1-py2.py3-none-any.whl\n",
      "Requirement already satisfied: cffi>=1.0 in /usr/local/lib/python3.6/dist-packages (from Soundfile) (1.14.4)\n",
      "Requirement already satisfied: pycparser in /usr/local/lib/python3.6/dist-packages (from cffi>=1.0->Soundfile) (2.20)\n",
      "Installing collected packages: Soundfile\n",
      "Successfully installed Soundfile-0.10.3.post1\n"
     ]
    }
   ],
   "source": [
    "!pip install Soundfile"
   ]
  },
  {
   "cell_type": "code",
   "execution_count": null,
   "metadata": {
    "colab": {
     "base_uri": "https://localhost:8080/"
    },
    "id": "boQ2nGTcYvMH",
    "outputId": "86d0d1aa-2f7a-4ae5-c186-3aed0ba9d876"
   },
   "outputs": [
    {
     "name": "stdout",
     "output_type": "stream",
     "text": [
      "Requirement already satisfied: librosa in /usr/local/lib/python3.6/dist-packages (0.6.3)\n",
      "Requirement already satisfied: decorator>=3.0.0 in /usr/local/lib/python3.6/dist-packages (from librosa) (4.4.2)\n",
      "Requirement already satisfied: six>=1.3 in /usr/local/lib/python3.6/dist-packages (from librosa) (1.15.0)\n",
      "Requirement already satisfied: scipy>=1.0.0 in /usr/local/lib/python3.6/dist-packages (from librosa) (1.4.1)\n",
      "Requirement already satisfied: resampy>=0.2.0 in /usr/local/lib/python3.6/dist-packages (from librosa) (0.2.2)\n",
      "Requirement already satisfied: scikit-learn!=0.19.0,>=0.14.0 in /usr/local/lib/python3.6/dist-packages (from librosa) (0.22.2.post1)\n",
      "Requirement already satisfied: numba>=0.38.0 in /usr/local/lib/python3.6/dist-packages (from librosa) (0.48.0)\n",
      "Requirement already satisfied: audioread>=2.0.0 in /usr/local/lib/python3.6/dist-packages (from librosa) (2.1.9)\n",
      "Requirement already satisfied: numpy>=1.8.0 in /usr/local/lib/python3.6/dist-packages (from librosa) (1.19.4)\n",
      "Requirement already satisfied: joblib>=0.12 in /usr/local/lib/python3.6/dist-packages (from librosa) (1.0.0)\n",
      "Requirement already satisfied: setuptools in /usr/local/lib/python3.6/dist-packages (from numba>=0.38.0->librosa) (50.3.2)\n",
      "Requirement already satisfied: llvmlite<0.32.0,>=0.31.0dev0 in /usr/local/lib/python3.6/dist-packages (from numba>=0.38.0->librosa) (0.31.0)\n"
     ]
    }
   ],
   "source": [
    "!pip install librosa\n"
   ]
  },
  {
   "cell_type": "code",
   "execution_count": 8,
   "metadata": {
    "id": "h3-Kr3vTZaa1"
   },
   "outputs": [],
   "source": [
    "import soundfile\n",
    "import librosa\n",
    "from librosa import feature"
   ]
  },
  {
   "cell_type": "code",
   "execution_count": null,
   "metadata": {},
   "outputs": [],
   "source": []
  },
  {
   "cell_type": "code",
   "execution_count": null,
   "metadata": {
    "colab": {
     "base_uri": "https://localhost:8080/"
    },
    "id": "o11Hni97ZhUX",
    "outputId": "ea046f1c-da8f-47ae-863d-d29de0760329"
   },
   "outputs": [
    {
     "name": "stdout",
     "output_type": "stream",
     "text": [
      "--2020-12-24 07:05:07--  https://zenodo.org/record/1188976/files/Audio_Speech_Actors_01-24.zip\n",
      "Resolving zenodo.org (zenodo.org)... 137.138.76.77\n",
      "Connecting to zenodo.org (zenodo.org)|137.138.76.77|:443... connected.\n",
      "HTTP request sent, awaiting response... 200 OK\n",
      "Length: 208468073 (199M) [application/octet-stream]\n",
      "Saving to: ‘Audio_Speech_Actors_01-24.zip’\n",
      "\n",
      "Audio_Speech_Actors 100%[===================>] 198.81M  12.3MB/s    in 24s     \n",
      "\n",
      "2020-12-24 07:05:32 (8.37 MB/s) - ‘Audio_Speech_Actors_01-24.zip’ saved [208468073/208468073]\n",
      "\n"
     ]
    }
   ],
   "source": [
    "!wget 'https://zenodo.org/record/1188976/files/Audio_Speech_Actors_01-24.zip'"
   ]
  },
  {
   "cell_type": "code",
   "execution_count": null,
   "metadata": {
    "id": "oleGgmAHaANW"
   },
   "outputs": [],
   "source": [
    "!unzip /content/Audio_Speech_Actors_01-24.zip"
   ]
  },
  {
   "cell_type": "code",
   "execution_count": null,
   "metadata": {
    "colab": {
     "base_uri": "https://localhost:8080/"
    },
    "id": "hPd8bMc1xnkc",
    "outputId": "8cdd6749-b853-49b1-dabd-e025e47cbc77"
   },
   "outputs": [
    {
     "name": "stdout",
     "output_type": "stream",
     "text": [
      "566M\t/content/AudioData\n"
     ]
    }
   ],
   "source": [
    "!du -h '/content/AudioData'"
   ]
  },
  {
   "cell_type": "code",
   "execution_count": null,
   "metadata": {
    "id": "wHexbcjYadM9"
   },
   "outputs": [],
   "source": [
    "!mkdir /content/AudioData"
   ]
  },
  {
   "cell_type": "code",
   "execution_count": null,
   "metadata": {
    "id": "9tvBHr-ZaiHJ"
   },
   "outputs": [],
   "source": [
    "!mv /content/Actor*/*.wav '/content/AudioData'"
   ]
  },
  {
   "cell_type": "code",
   "execution_count": null,
   "metadata": {
    "id": "JfyBS9t-av_m"
   },
   "outputs": [],
   "source": [
    "!rm -r  /content/Actor_*"
   ]
  },
  {
   "cell_type": "code",
   "execution_count": null,
   "metadata": {
    "id": "1bk4HFs-bVqg"
   },
   "outputs": [],
   "source": [
    "RawD=os.listdir('/content/drive/MyDrive/Proj DATA/AudioWAV')"
   ]
  },
  {
   "cell_type": "code",
   "execution_count": null,
   "metadata": {
    "colab": {
     "base_uri": "https://localhost:8080/"
    },
    "id": "5Fp7u53ccSYJ",
    "outputId": "43216171-7748-4fa9-ccf2-3f8386a05881"
   },
   "outputs": [
    {
     "name": "stdout",
     "output_type": "stream",
     "text": [
      "1087_IEO_ANG_LO.wav\n"
     ]
    }
   ],
   "source": [
    "cat=RawD[0]\n",
    "print(RawD[10])"
   ]
  },
  {
   "cell_type": "code",
   "execution_count": null,
   "metadata": {
    "id": "d0fopCM7PwFB"
   },
   "outputs": [],
   "source": []
  },
  {
   "cell_type": "code",
   "execution_count": null,
   "metadata": {
    "id": "2wdkTJBScXNM"
   },
   "outputs": [],
   "source": [
    "category=[]\n",
    "for names in RawD:\n",
    "\n",
    "    category.append(names[0:4])"
   ]
  },
  {
   "cell_type": "code",
   "execution_count": null,
   "metadata": {
    "colab": {
     "base_uri": "https://localhost:8080/"
    },
    "id": "CGN9e7oneHws",
    "outputId": "4fe20f62-95a1-4532-8f9b-efb465cdeba1"
   },
   "outputs": [
    {
     "data": {
      "text/plain": [
       "['1087',\n",
       " '1086',\n",
       " '1087',\n",
       " '1087',\n",
       " '1087',\n",
       " '1086',\n",
       " '1087',\n",
       " '1087',\n",
       " '1086',\n",
       " '1087']"
      ]
     },
     "execution_count": 46,
     "metadata": {
      "tags": []
     },
     "output_type": "execute_result"
    }
   ],
   "source": [
    "category[0:10]"
   ]
  },
  {
   "cell_type": "markdown",
   "metadata": {
    "id": "mcMqscEse89h"
   },
   "source": [
    "#Labling"
   ]
  },
  {
   "cell_type": "code",
   "execution_count": null,
   "metadata": {
    "id": "ddn1L1vpfDPP"
   },
   "outputs": [],
   "source": [
    "\n",
    "def labaling(name):\n",
    "    lables={ '1':'neutral',' 2':'neutral', '3' : 'happy', '4': 'sad', '5': 'angry', '6': 'fearful' ,'7' :'disgust', '8': 'happy'}\n",
    "    \n",
    "    tag=name[7]\n",
    "    for keys,tags in lables.items():\n",
    "        if tag in keys :\n",
    "            return tags\n",
    "\n",
    "    "
   ]
  },
  {
   "cell_type": "code",
   "execution_count": null,
   "metadata": {
    "id": "1ml4z5midgFk"
   },
   "outputs": [],
   "source": [
    "\n",
    "def labaling_D(name):\n",
    "    lables={ 'NEU':'neutral', 'HAP' : 'happy', 'SAD': 'sad', 'ANG': 'angry', 'FEA': 'fearful' ,'DIS' :'disgust'}\n",
    "    \n",
    "    tag=name[9:12]\n",
    "    for keys,tags in lables.items():\n",
    "        if tag in keys :\n",
    "            return tags\n",
    "\n",
    "    "
   ]
  },
  {
   "cell_type": "code",
   "execution_count": null,
   "metadata": {
    "id": "WBMVgzFfxX0u"
   },
   "outputs": [],
   "source": [
    "SnA=pd.read_csv('/content/drive/MyDrive/Proj DATA/VideoDemographics.csv')"
   ]
  },
  {
   "cell_type": "code",
   "execution_count": null,
   "metadata": {
    "colab": {
     "base_uri": "https://localhost:8080/"
    },
    "id": "lFfsnefpxl-Q",
    "outputId": "8af2d10b-fd02-4f97-d12b-19678201d202"
   },
   "outputs": [
    {
     "name": "stdout",
     "output_type": "stream",
     "text": [
      "<class 'pandas.core.frame.DataFrame'>\n",
      "RangeIndex: 91 entries, 0 to 90\n",
      "Data columns (total 5 columns):\n",
      " #   Column     Non-Null Count  Dtype \n",
      "---  ------     --------------  ----- \n",
      " 0   ActorID    91 non-null     int64 \n",
      " 1   Age        91 non-null     int64 \n",
      " 2   Sex        91 non-null     object\n",
      " 3   Race       91 non-null     object\n",
      " 4   Ethnicity  91 non-null     object\n",
      "dtypes: int64(2), object(3)\n",
      "memory usage: 3.7+ KB\n"
     ]
    }
   ],
   "source": [
    "SnA.info()"
   ]
  },
  {
   "cell_type": "code",
   "execution_count": null,
   "metadata": {
    "colab": {
     "base_uri": "https://localhost:8080/"
    },
    "id": "2PtxoITBxl8l",
    "outputId": "7110fc38-23f6-4ad2-a2c8-6a98648247ea"
   },
   "outputs": [
    {
     "name": "stdout",
     "output_type": "stream",
     "text": [
      "29 Male\n"
     ]
    }
   ],
   "source": [
    "name=int('1005')\n",
    "id=SnA['ActorID'].tolist()\n",
    "for i in range(len(id)):\n",
    "    if id[i]==name:\n",
    "        print(SnA['Age'].tolist()[i],SnA['Sex'].tolist()[i])"
   ]
  },
  {
   "cell_type": "code",
   "execution_count": null,
   "metadata": {
    "colab": {
     "base_uri": "https://localhost:8080/"
    },
    "id": "eHlP0vlN4400",
    "outputId": "2774aac9-9b60-407b-9dcf-14b7a1aae194"
   },
   "outputs": [
    {
     "data": {
      "text/plain": [
       "1005"
      ]
     },
     "execution_count": 35,
     "metadata": {
      "tags": []
     },
     "output_type": "execute_result"
    }
   ],
   "source": [
    "id[4]"
   ]
  },
  {
   "cell_type": "code",
   "execution_count": null,
   "metadata": {
    "id": "idvWHj7Mf5tr"
   },
   "outputs": [],
   "source": [
    "def sex_age(basename):\n",
    "    name=int(basename[0:4])\n",
    "    id=SnA['ActorID'].tolist()\n",
    "    for i in range(len(id)):\n",
    "        if id[i]==name:\n",
    "            return [SnA['Age'].tolist()[i],SnA['Sex'].tolist()[i]]\n"
   ]
  },
  {
   "cell_type": "code",
   "execution_count": null,
   "metadata": {
    "colab": {
     "base_uri": "https://localhost:8080/",
     "height": 162
    },
    "id": "SrvTpzik6GZP",
    "outputId": "dc10100f-b528-458d-ae2a-a1cfa5271ca7"
   },
   "outputs": [
    {
     "ename": "NameError",
     "evalue": "ignored",
     "output_type": "error",
     "traceback": [
      "\u001b[0;31m---------------------------------------------------------------------------\u001b[0m",
      "\u001b[0;31mNameError\u001b[0m                                 Traceback (most recent call last)",
      "\u001b[0;32m<ipython-input-1-3f7c1ecf0821>\u001b[0m in \u001b[0;36m<module>\u001b[0;34m()\u001b[0m\n\u001b[0;32m----> 1\u001b[0;31m \u001b[0msex_age\u001b[0m\u001b[0;34m(\u001b[0m\u001b[0;34m'1087_IEO_ANG_LO.wav'\u001b[0m\u001b[0;34m)\u001b[0m\u001b[0;34m\u001b[0m\u001b[0;34m\u001b[0m\u001b[0m\n\u001b[0m",
      "\u001b[0;31mNameError\u001b[0m: name 'sex_age' is not defined"
     ]
    }
   ],
   "source": [
    "sex_age('1087_IEO_ANG_LO.wav')"
   ]
  },
  {
   "cell_type": "code",
   "execution_count": null,
   "metadata": {
    "id": "D9gOXFA-6GXM"
   },
   "outputs": [],
   "source": []
  },
  {
   "cell_type": "code",
   "execution_count": null,
   "metadata": {
    "colab": {
     "base_uri": "https://localhost:8080/",
     "height": 35
    },
    "id": "UHDkYZCdj0FE",
    "outputId": "549205de-a55a-430c-8dbd-ed5e793c6442"
   },
   "outputs": [
    {
     "data": {
      "application/vnd.google.colaboratory.intrinsic+json": {
       "type": "string"
      },
      "text/plain": [
       "'angry'"
      ]
     },
     "execution_count": 10,
     "metadata": {
      "tags": []
     },
     "output_type": "execute_result"
    }
   ],
   "source": [
    "labaling_D('1065_IEO_ANG_LO.wav')"
   ]
  },
  {
   "cell_type": "markdown",
   "metadata": {
    "id": "YPpNEvVqzZsq"
   },
   "source": [
    "## feature extraction"
   ]
  },
  {
   "cell_type": "markdown",
   "metadata": {
    "id": "rwoy9JQLmV-_"
   },
   "source": [
    "## Read File"
   ]
  },
  {
   "cell_type": "markdown",
   "metadata": {
    "id": "8zSarqod1Hky"
   },
   "source": [
    "New Function\n"
   ]
  },
  {
   "cell_type": "code",
   "execution_count": null,
   "metadata": {
    "id": "YeGcL1ui-Ndl"
   },
   "outputs": [],
   "source": [
    "path='/content/drive/MyDrive/Proj DATA/AudioWAV_cremad'\n",
    "audio_F=glob.glob(path+'*.wav')"
   ]
  },
  {
   "cell_type": "code",
   "execution_count": null,
   "metadata": {
    "id": "6ReT94aU_tMI"
   },
   "outputs": [],
   "source": [
    "fn_list_1=[\n",
    "           feature.mfcc,\n",
    "           feature.chroma_stft,\n",
    "           feature.melspectrogram,\n",
    "           feature.spectral_contrast,\n",
    "           feature.spectral_rolloff,\n",
    "           feature.tonnetz\n",
    "]\n",
    "\n",
    "\n",
    "\n",
    "def Get_feature_vec(y,sr,basename):\n",
    "    feat_vec_1=[np.mean(funct(y,sr)) for funct in fn_list_1 ]\n",
    "    feat_vec_lable=[funct(basename) for funct in fn_lable]\n",
    "\n",
    "    feature_vec=feat_vec_1+feat_vec_lable\n",
    "    return feature_vec,"
   ]
  },
  {
   "cell_type": "code",
   "execution_count": null,
   "metadata": {
    "colab": {
     "base_uri": "https://localhost:8080/"
    },
    "id": "kpXkGh1XKgiV",
    "outputId": "c060b8dd-c56e-4b51-8cd1-c6b1f26524c5"
   },
   "outputs": [
    {
     "name": "stdout",
     "output_type": "stream",
     "text": [
      "- - - - - - - - - - - - - - - - - - - - - - - - - - - - - - - - - - - - - - - - - - - - - - - - - - - - - - - - - - - - - - - - - - - - - - - - - - - - - - - - - - - - - - - - - - - - - - - - - - - - - - - - - - - - - - - - - - - - - - - - - - - - - - - - - - - - - - - - - - - - - - - - - - - - - - - - - - - - - - - - - - - - - - - - - - - - - - - - - - - - - - - - - - - - - - - - - - - - - - - - - - - - - - - - - - - - - - - - - - - - - - - - - - - - - - - - - - - - - - - - - - - - - - - - - - - - - - - - - - - - - - - - - - - - - - - - - - - - - - - - - - - - - - - - - - - - - - - - - - - - - - - - - - - - - - - - - - - - - - - - - - - - - - - - - - - - - - - - - - - - - - - - - - - - - - - - - - - - - - - - - - - - - - - - - - - - - - - - - - - - - - - - - - - - - - - - - - - - - - - - - - - - - - - - - - - - - - - - - - - - - - - - - - - - - - - - - - - - - - - - - - - - - - - - - - - - - - - - - - - - - - - - - - - - - - - - - - - - - - - - - - - - - - - - - - - - - - - - - - - - - - - - - - - - - - - - - - - - - - - - - - - - - - - - - - - - - - - - - - - - - - - - - - - - - - - - - - - - - - - - - - - - - - - - - - - - - - - - - - - - - - - - - - - - - - - - - - - - - - - - - - - - - - - - - - - - - - - - - - - - - - - - - - - - - - - - - - - - - - - - - - - - - - - - - - - - - - - - - - - - - - - - - - - - - - - - - - - - - - - - - - - - - - - - - - - - - - - - - - - - - - - - - - - - - - - - - - - - - - - - - - - - - - - - - - - - - - - - - - - - - - - - - - - - - - - - - - - - - - - - - - - - - - - - - - - - - - - - - - - - - - - - - - - - - - - - - - - - - - - - - - - - - - - - - - - - - - - - - - - - - - - - - - - - - - - - - - - - - - - - - - - - - - - - - - - - - - - - - - - - - - - - - - - - - - - - - - - - - - - - - - - - - - - - - - - - - - - - - - - - - - - - - - - - - - - - - - - - - - - - - - - - - - - - - - - - - - - - - - - - - - - - - - - - - - - - - - - - - - - - - - - - - - - - - - - - - - - - - - - - - - - - - - - - - - - - - - - - - - - - - - - - - - - - - - - - - - - - - - - - - - - - - - - - - - - - - - - - - - - - - - - - - - - - - - - - - - - - - - - - - - - - - - "
     ]
    },
    {
     "name": "stderr",
     "output_type": "stream",
     "text": [
      "/usr/local/lib/python3.6/dist-packages/librosa/core/pitch.py:145: UserWarning: Trying to estimate tuning from empty frequency set.\n",
      "  warnings.warn('Trying to estimate tuning from empty frequency set.')\n"
     ]
    },
    {
     "name": "stdout",
     "output_type": "stream",
     "text": [
      "- - - - - - - - - - - - - - - - - - - - - - - - - - - - - - - - - - - - - - - - - - - - - - - - - - - - - - - - - - - - - - - - - - - - - - - - - - - - - - - - - - - - - - - - - - - - - - - - - - - - - - - - - - - - - - - - - - - - - - - - - - - - - - - - - - - - - - - - - - - - - - - - - - - - - - - - - - - - - - - - - - - - - - - - - - - - - - - - - - - - - - - - - - - - - - - - - - - - - - - - - - - - - - - - - - - - - - - - - - - - - - - - - - - - - - - - - - - - - - - - - - - - - - - - - - - - - - - - - - - - - - - - - - - - - - - - - - - - - - - - - - - - - - - - - - - - - - - - - - - - - - - - - - - - - - - - - - - - - - - - - - - - - - - - - - - - - - - - - - - - - - - - - - - - - - - - - - - - - - - - - - - - - - - - - - - - - - - - - - - - - - - - - - - - - - - - - - - - - - - - - - - - - - - - - - - - - - - - - - - - - - - - - - - - - - - - - - - - - - - - - - - - - - - - - - - - - - - - - - - - - - - - - - - - - - - - - - - - - - - - - - - - - - - - - - - - - - - - - - - - - - - - - - - - - - - - - - - - - - - - - - - - - - - - - - - - - - - - - - - - - - - - - - - - - - - - - - - - - - - - - - - - - - - - - - - - - - - - - - - - - - - - - - - - - - - - - - - - - - - - - - - - - - - - - - - - - - - - - - - - - - - - - - - - - - - - - - - - - - - - - - - - - - - - - - - - - - - - - - - - - - - - - - - - - - - - - - - - - - - - - - - - - - - - - - - - - - - - - - - - - - - - - - - - - - - - - - - - - - - - - - - - - - - - - - - - - - - - - - - - - - - - - - - - - - - - - - - - - - - - - - - - - - - - - - - - - - - - - - - - - - - - - - - - - - - - - - - - - - - - - - - - - - - - - - - - - - - - - - - - - - - - - - - - - - - - - - - - - - - - - - - - - - - - - - - - - - - - - - - - - - - - - - - - - - - - - - - - - - - - - - - - - - - - - - - - - - - - - - - - - - - - - - - - - - - - - - - - - - - - - - - - - - - - - - - - - - - - - - - - - - - - - - - - - - - - - - - - - - - - - - - - - - - - - - - - - - - - - - - - - - - - - - - - - - - - - - - - - - - - - - - - - - - - - - - - - - - - - - - - - - - - - - - - - - - - - - - - - - - - - - - - - - - - - - - - - - - - - - - - - - - - - - - - - - - - - - - - - - - - - - - - - - - - - - - - - - - - - - - - - - - - - - - - - - - - - - - - - - - - - - - - - - - - - - - - - - - - - - - - - - - - - - - - - - - - - - - - - - - - - - - - - - - - - - - - - - - - - - - - - - - - - - - - - - - - - - - - - - - - - - - - - - - - - - - - - - - - - - - - - - - - - - - - - - - - - - - - - - - - - - - - - - - - - - - - - - - - - - - - - - - - - - - - - - - - - - - - - - - - - - - - - - - - - - - - - - - - - - - - - - - - - - - - - - - - - - - - - - - - - - - - - - - - - - - - - - - - - - - - - - - - - - - - - - - - - - - - - - - - - - - - - - - - - - - - - - - - - - - - - - - - - - - - - - - - - - - - - - - - - - - - - - - - - - - - - - - - - - - - - - - - - - - - - - - - - - - - - - - - - - - - - - - - - - - - - - - - - - - - - - - - - - - - - - - - - - - - - - - - - - - - - - - - - - - - - - - - - - - - - - - - - - - - - - - - - - - - - - - - - - - - - - - - - - - - - - - - - - - - - - - - - - - - - - - - - - - - - - - - - - - - - - - - - - - - - - - - - - - - - - - - - - - - - - - - - - - - - - - - - - - - - - - - - - - - - - - - - - - - - - - - - - - - - - - - - - - - - - - - - - - - - - - - - - - - - - - - - - - - - - - - - - - - - - - - - - - - - - - - - - - - - - - - - - - - - - - - - - - - - - - - - - - - - - - - - - - - - - - - - - - - - - - - - - - - - - - - - - - - - - - - - - - - - - - - - - - - - - - - - - - - - - - - - - - - - - - - - - - - - - - - - - - - - - - - - - - - - - - - - - - - - - - - - - - - - - - - - - - - - - - - - - - - - - - - - - - - - - - - - - - - - - - - - - - - - - - - - - - - - - - - - - - - - - - - - - - - - - - - - - - - - - - - - - - - - - - - - - - - - - - - - - - - - - - - - - - - - - - - - - - - - - - - - - - - - - - - - - - - - - - - - - - - - - - - - - - - - - - - - - - - - - - - - - - - - - - - - - - - - - - - - - - - - - - - - - - - - - - - - - - - - - - - - - - - - - - - - - - - - - - - - - - - - - - - - - - - - - - - - - - - - - - - - - - - - - - - - - - - - - - - - - - - - - - - - - - - - - - - - - - - - - - - - - - - - - - - - - - - - - - - - - - - - - - - - - - - - - - - - - - - - - - - - - - - - - - - - - - - - - - - - - - - - - - - - - - - - - - - - - - - - - - - - - - - - - - - - - - - - - - - - - - - - - - - - - - - - - - - - - - - - - - - - - - - - - - - - - - - - - - - - - - - - - - - - - - - - - - - - - - - - - - - - - - - - - - - - - - - - - - - - - - - - - - - - - - - - - - - - - - - - - - - - - - - - - - - - - - - - - - - - - - - - - - - - - - - - - - - - - - - - - - - - - - - - - - - - - - - - - - - - - - - - - - - - - - - - - - - - - - - - - - - - - - - - - - - - - - - - - - - - - - - - - - - - - - - - - - - - - - - - - - - - - - - - - - - - - - - - - - - - - - - - - - - - - - - - - - - - - - - - - - - - - - - - - - - - - - - - - - - - - - - - - - - - - - - - - - - - - - - - - - - - - - - - - - - - - - - - - - - - - - - - - - - - - - - - - - - - - - - - - - - - - - - - - - - - - - - - - - - - - - - - - - - - - - - - - - - - - - - - - - - - - - - - - - - - - - - - - - - - - - - - - - - - - - - - - - - - - - - - - - - - - - - - - - - - - - - - - - - - - - - - - - - - - - - - - - - - - - - - - - - - - - - - - - - - - - - - - - - - - - - - - - - - - - - - - - - - - - - - - - - - - - - - - - - - - - - - - - - - - - - - - - - - - - - - - - - - - - - - - - - - - - - - - - - - - - - - - - - - - - - - - - - - - - - - - - - - - - - - - - - - - - - - - - - - - - - - - - - - - - - - - - - - - - - - - - - - - - - - - - - - - - - - - - - - - - - - - - - - - - - - - - - - - - - - - - - - - - - - - - - - - - - - - - - - - - - - - - - - - - - - - - - - - - - - - - - - - - - - - - - - - - - - - - - - - - - - - - - - - - - - - - - - - - - - - - - - - - - - - - - - - - - - - - - - - - - - - - - - - - - - - - - - - - - - - - - - - - - - - - - - - - - - - - - - - - - - - - - - - - - - - - - - - - - - - - - - - - - - - - - - - - - - - - - - - - - - - - - - - - - - - - - - - - - - - - - - - - - - - - - - - - - - - - - - - - - - - - - - - - - - - - - - - - - - - - - - - - - - - - - - - - - - - - - - - - - - - - - - - - - - - - - - - - - - - - - - - - - - - - - - - - - - - - - - - - - - - - - - - - - - - - - - - - - - - - - - - - - - - - - - - - - - - - - - - - - - - - - - - - - - - - - - - - - - - - - - - - - - - - - - - - - - - - - - - - - - - - - - - - - - - - - - - - - - - - - - - - - - - - - - - - - - - - - - - - - - - - - - - - - - - - - - - - - - - - - - - - - - - - - - - - - - - - - - - - - - - - - - - - - - - - - - - - - - - - - - - - - - - - - - - - - - - - - - - - - - - - - - - - - - - - - - - - - - - - - - - - - - - - - - - - - - - - - - - - - - - - - - - - - - - - - - - - - - - - - - - - - - - - - - - - - - - - - - - - - - - - - - - - - - - - - - - - - - - - - - - - - - - - - - - - - - - - - - - - - - - - - - - - - - - - - - - - - - - - - - - - - - - - - - - - - - - - - - - - - - - - - - - - - - - - - - - - - - - - - - - - - - - - - - - - - - - - - - - - - - - - - - - - - - - - - - - - - - - - - - - - - - - - - - - - - - - - - - - - - - - - - - - - - - - - - - - - - - - - - - - - - - - - - - - - - - - - - - - - - - - - - - - - - - - - - - - - - - - - - - - - - - - - - - - - - - - - - - - - - - - - - - - - - - - - - - - - - - - - - - - - - - - - - - - - - - - - - - - - - - - - - - - - - - - - - - - - - - - - - - - - - - - - - - - - - - - - - - - - - - - - - - - - - - - - - - - - - - - - - - - - - - - - - - - - - - - - - - - - - - - - - - - - - - - - - - - - - - - - - - - - - - - - - - - - - - - - - - - - - - - - - - - - - - - - - - - - - - - - - - - - - - - - - - - - - - - - - - - - - - - - - - - - - - - - - - - - - - - - - - - - - - - - - - - - - - - - - - - - - - - - - - - - - - - - - - - - - - - - - - - - - - - - - - - - - - - - - - - - - - - - - - - - - - - - - - - - - - - - - - - - - - - - - - - - - - - - - - - - - - - - - - - - - - - - - - - - - - - - - - - - - - - - - - - - - - - - - - - - - - - - - - - - - - - - - - - - - - - - - - - - - - - - - - - - - - - - - - - - - - - - - - - - - - - - - - - - - - - - - - - - - - - - - - - - - - - - - - - - - - - - - - - - - - - - - - - - - - - - - - - - - - - - - - - - - - - - - - - - - - - - - - - - - - - - - - - - - - - - - - - - - - - - - - - - - - - - - - - - - - - - - - - - - - - - - - - - - - - - - - - - - - - - - - - - - - - - - - - - - - - - - - - - - - - - - - - - - - - - - - - - - - - - - - - - - - - - - - - - - - - - - - - - - - - - - - - - - - - - - - - - - - - - - - - - - - - - - - - - - - - - - - - - - - - - - - - - - - - - - - - - - - - - - - - - - - - - - - - - - - - - - - - - - - - - - - - - - - - - - - - - - - - - - - - - - - - - - - - - - - - - - - - - - - - - - - - - - - - - - - - - - - - - - - - - - - - - - - - - - - - - - - - - - - - - - - - - - - - - - - - - - - - - - - - - - - - - - - - - - - - - - - - - - - - - - - - - - - - - - - - - - - - - - - - - - - - - - - - - - - - - - - - - - - - - - - - - - - - - - - - - - - - - - - - - - - - - - - - - - - - - - - - - - - - - - - - - - - - - - - - - - - - - - - - - - - - - - - - - - - - - - - - - - - - - - - - - - - - - - - - - - - - - - - - - - - - - - - - - - - - - - - - - - - - - - - - - - - - - - - - - - - - - - - - - - - - - - - - - - - - - - - - - - - - - - - - - - - - - - - - - - - - - - - - - - - - - - - - - - - - - - - - - - - - - - - - - - - - - - - - - - - - - - - - - - - - - - - - - - - - - - - - - - - - - - - - - - - - - - - - - - - - - - - - - - - - - - - - - - - - - - - - - - - - - - - - - - - - - - - - - - - - - - - - - - - - - - - - - - - - - - - - - - - - - - - - - - - - - - - - - - - - - - - - - - - - - - - - - - - - - - - - - - - - - - - - - - - - - - - - - - - - - - - - - - - - - - - - - - - - - - - - - - - - - - - - - - - - - - - - - - - - - - - - - - - - - - - - - - - - - - - - - - - - - - - - - - - - - - - - - - - - - - - - - - - - - - - - - - - - - - - - - - - - - - - - - - - - - - - - - - - - - - - - - - - - - - - - - - - - - - - - - - - - - - - - - - - - - - - - - - - - - - - - - - - - - - - - - - - - - - - - - - - - - - - - - - - - - - - - - - - - - - - - - - - - - - - - - - - - - - - - - - - - - - - - - - - - - - - - - - - - - - - - - - - - - - - - - - - - - - - - - - - - - - - - - - - - - - - - - - - - - - - - - - - - - - - - - - - - - - - - - - - - - - - - - - - - - - - - - - - - - - - - - - - - - - - - - - - - - - - - - - - - - - - - - - - - - - - - - - - - - - - - - - - - - - - - - - - - - - - - - - - - - - - - - - - - - - - - - - - - - - - - - - - - - - - - - - - - - - - - - - - - - - - - - - - - - - - - - - - - - - - - - - - - - - - - - - - - - - - - - - - - - - - - - - - - - - - - - - - - - - - - - - - - - - - - - - - - - - - - - - - - - - - - - - - - - - - - - - - - - - - - - - - - - - - - - - - - - - - - - - - - - - - - - - - - - - - - - - - - - - - - - - - - - - - - - - - - - - - - - - - - - - - - - - - - - - - - - - - - - - - - - - - - - - - - - - - - - - - - - - - - - - - - - - - - - - - - - - - - - - - - - - - - - - - - - - - - - - - - - - - - - - - - - - - - - - - - - - - - - - - - - - - - - - - - - - - - - - - - - - - - - - - - - - - - - - - - - - - - - - - - - - - - - - - - - - - - - - - - - - - - - - - - - - - - - - - - - - - - - - - - - - - - - - - - - - - - - - - - - - - - - - - - - - - - - - - - - - - - - - - - - - - - - - - - - - - - - - - - - - - - - - - - - - - - - - - - - - - - - - - - - - - - - - - - - - - - - - - - - - - - - - - - - - - - - - - - - - - - - - - - - - - - - - - - - - - - - - - - - - - - - - - - - - - - - - - - - - - - - - - - - - - - - - - - - - - - - - - - - - - - - - - - - - - - - - - - - - - - - - - - - - - - - - - - - - - - - - - - - - - - - - - - - - - - - - - - - - - - - - - - - - - - - - - - - - - - - - - - - - - - - - - - - - - - - - - - - - - - - - - - - - - - - - - - - - - - - - - - - - - - - - - - - - - - - - - - - - - - - - - - - - - - - - - - - - - - - - - - - - - - - - - - - - - - - - - - - - - - - - - - - - - - - - - - - - - - - - - - - - - - - - - - - - - - - - - - - - - - - - - - - - - - - - - - - - - - - - - - - - - - - - - - - - - - - - - - - - - - - - - - - - - - - - - - - - - - - - - - - - - - - - - - - - - - - - - - - - - - - - - - - - - - - - - - - - - - - - - - - - - - - - - - - - - - - - - - - - - - - - - - - - - - - - - - - - - - - - - - - - - - - - - - - - - - - - - - - - - - - - - - - - - - - - - - - - - - - - - - - - - - - - - - - - - - - - - - - - - - - - - - - - - - - - - - - - - - - - - - - - - - - - - - - - - - - - - - - - - - - - - - - - - - - - - - - - - - - - - - - - - - - - - - - - - - - - - - - - - - - - - - - - - - - - - - - - - - - - - - - - - - - - - - - - - - - - - - - - - - - - - - - - - - - - "
     ]
    }
   ],
   "source": [
    "Data=[]\n",
    "for file in audio_F:\n",
    "    y,sr=librosa.load(file,sr=None)\n",
    "    basename = os.path.basename(file)\n",
    "    feat_vec=Get_feature_vec(y,sr,basename)\n",
    "    Data.append(feat_vec)\n",
    "    print('-',end=\" \")"
   ]
  },
  {
   "cell_type": "code",
   "execution_count": null,
   "metadata": {
    "id": "jsIkbu0FLjAo"
   },
   "outputs": [],
   "source": [
    "import csv\n",
    "\n",
    "output = 'Audio_faeture_CREMA_D.csv'\n",
    "header=['mfcc','chroma_stft','melspectogram','spectral_contrast','spectral_rolloff','tonnetz','Emotion','Age','Sex']\n",
    "with open(output,'+w') as f:\n",
    "  csv_writer = csv.writer(f, delimiter = ',')\n",
    "  csv_writer.writerow(header)\n",
    "  csv_writer.writerows(Data)"
   ]
  },
  {
   "cell_type": "code",
   "execution_count": null,
   "metadata": {
    "id": "NuVqWvVSPxTV"
   },
   "outputs": [],
   "source": [
    "!cp -r /content/AudioData '/content/drive/My Drive/Proj DATA/'"
   ]
  },
  {
   "cell_type": "code",
   "execution_count": null,
   "metadata": {
    "id": "nUtZI05CQHtt"
   },
   "outputs": [],
   "source": [
    "dat=pd.read_csv('/content/Audio_CREMA_D.csv')"
   ]
  },
  {
   "cell_type": "code",
   "execution_count": null,
   "metadata": {
    "id": "64NxFwZC0kVS"
   },
   "outputs": [],
   "source": [
    "!cp /content/All_file_detail_with_speech.csv '/content/drive/My Drive/Proj DATA/'"
   ]
  },
  {
   "cell_type": "code",
   "execution_count": null,
   "metadata": {
    "colab": {
     "base_uri": "https://localhost:8080/"
    },
    "id": "so0GQxfVQGyf",
    "outputId": "c3d421c3-7ac5-4e29-f68c-44a40e08ab34"
   },
   "outputs": [
    {
     "data": {
      "text/plain": [
       "(7442, 10)"
      ]
     },
     "execution_count": 41,
     "metadata": {
      "tags": []
     },
     "output_type": "execute_result"
    }
   ],
   "source": [
    "dat.shape"
   ]
  },
  {
   "cell_type": "code",
   "execution_count": null,
   "metadata": {
    "colab": {
     "base_uri": "https://localhost:8080/"
    },
    "id": "OjY7R83VQUJa",
    "outputId": "5305b376-c332-491b-c85e-dba81c1eb387"
   },
   "outputs": [
    {
     "name": "stdout",
     "output_type": "stream",
     "text": [
      "<class 'pandas.core.frame.DataFrame'>\n",
      "RangeIndex: 7442 entries, 0 to 7441\n",
      "Data columns (total 10 columns):\n",
      " #   Column             Non-Null Count  Dtype  \n",
      "---  ------             --------------  -----  \n",
      " 0   mfcc               7442 non-null   float64\n",
      " 1   chroma_stft        7442 non-null   float64\n",
      " 2   melspectogram      7442 non-null   float64\n",
      " 3   spectral_contrast  7442 non-null   float64\n",
      " 4   spectral_rolloff   7442 non-null   float64\n",
      " 5   tonnetz            7442 non-null   float64\n",
      " 6   Emotion            7442 non-null   object \n",
      " 7   Age                7442 non-null   object \n",
      " 8   AGE                7442 non-null   int64  \n",
      " 9   Sex                7442 non-null   object \n",
      "dtypes: float64(6), int64(1), object(3)\n",
      "memory usage: 581.5+ KB\n"
     ]
    }
   ],
   "source": [
    "dat.info()"
   ]
  },
  {
   "cell_type": "code",
   "execution_count": null,
   "metadata": {
    "id": "9jKRP1Pd0Lbk"
   },
   "outputs": [],
   "source": [
    "from google.colab import drive\n",
    "drive.mount('/content/drive')"
   ]
  },
  {
   "cell_type": "code",
   "execution_count": null,
   "metadata": {
    "colab": {
     "base_uri": "https://localhost:8080/",
     "height": 299
    },
    "id": "-cqBgwpnQZBf",
    "outputId": "93ca58b6-fbb7-4216-bd54-ce32b7e27957"
   },
   "outputs": [
    {
     "data": {
      "text/html": [
       "<div>\n",
       "<style scoped>\n",
       "    .dataframe tbody tr th:only-of-type {\n",
       "        vertical-align: middle;\n",
       "    }\n",
       "\n",
       "    .dataframe tbody tr th {\n",
       "        vertical-align: top;\n",
       "    }\n",
       "\n",
       "    .dataframe thead th {\n",
       "        text-align: right;\n",
       "    }\n",
       "</style>\n",
       "<table border=\"1\" class=\"dataframe\">\n",
       "  <thead>\n",
       "    <tr style=\"text-align: right;\">\n",
       "      <th></th>\n",
       "      <th>mfcc</th>\n",
       "      <th>chroma_stft</th>\n",
       "      <th>melspectogram</th>\n",
       "      <th>spectral_contrast</th>\n",
       "      <th>spectral_rolloff</th>\n",
       "      <th>tonnetz</th>\n",
       "      <th>Emotion</th>\n",
       "      <th>Age</th>\n",
       "      <th>Sex</th>\n",
       "    </tr>\n",
       "  </thead>\n",
       "  <tbody>\n",
       "    <tr>\n",
       "      <th>0</th>\n",
       "      <td>-12.678627</td>\n",
       "      <td>0.425453</td>\n",
       "      <td>0.034886</td>\n",
       "      <td>16.813704</td>\n",
       "      <td>2524.038462</td>\n",
       "      <td>-0.000856</td>\n",
       "      <td>happy</td>\n",
       "      <td>[62, 'Male']</td>\n",
       "      <td>NaN</td>\n",
       "    </tr>\n",
       "    <tr>\n",
       "      <th>1</th>\n",
       "      <td>-13.014064</td>\n",
       "      <td>0.453561</td>\n",
       "      <td>0.011828</td>\n",
       "      <td>16.266307</td>\n",
       "      <td>2993.476942</td>\n",
       "      <td>-0.007287</td>\n",
       "      <td>sad</td>\n",
       "      <td>[33, 'Male']</td>\n",
       "      <td>NaN</td>\n",
       "    </tr>\n",
       "    <tr>\n",
       "      <th>2</th>\n",
       "      <td>-12.506168</td>\n",
       "      <td>0.468733</td>\n",
       "      <td>0.012873</td>\n",
       "      <td>16.627023</td>\n",
       "      <td>3185.290404</td>\n",
       "      <td>-0.013362</td>\n",
       "      <td>disgust</td>\n",
       "      <td>[62, 'Male']</td>\n",
       "      <td>NaN</td>\n",
       "    </tr>\n",
       "    <tr>\n",
       "      <th>3</th>\n",
       "      <td>-12.529597</td>\n",
       "      <td>0.398632</td>\n",
       "      <td>0.266168</td>\n",
       "      <td>16.830008</td>\n",
       "      <td>3542.724609</td>\n",
       "      <td>-0.009528</td>\n",
       "      <td>sad</td>\n",
       "      <td>[62, 'Male']</td>\n",
       "      <td>NaN</td>\n",
       "    </tr>\n",
       "    <tr>\n",
       "      <th>4</th>\n",
       "      <td>-12.488389</td>\n",
       "      <td>0.413125</td>\n",
       "      <td>0.039846</td>\n",
       "      <td>17.119676</td>\n",
       "      <td>2724.273990</td>\n",
       "      <td>-0.014621</td>\n",
       "      <td>disgust</td>\n",
       "      <td>[62, 'Male']</td>\n",
       "      <td>NaN</td>\n",
       "    </tr>\n",
       "  </tbody>\n",
       "</table>\n",
       "</div>"
      ],
      "text/plain": [
       "        mfcc  chroma_stft  melspectogram  ...  Emotion           Age  Sex\n",
       "0 -12.678627     0.425453       0.034886  ...    happy  [62, 'Male']  NaN\n",
       "1 -13.014064     0.453561       0.011828  ...      sad  [33, 'Male']  NaN\n",
       "2 -12.506168     0.468733       0.012873  ...  disgust  [62, 'Male']  NaN\n",
       "3 -12.529597     0.398632       0.266168  ...      sad  [62, 'Male']  NaN\n",
       "4 -12.488389     0.413125       0.039846  ...  disgust  [62, 'Male']  NaN\n",
       "\n",
       "[5 rows x 9 columns]"
      ]
     },
     "execution_count": 65,
     "metadata": {
      "tags": []
     },
     "output_type": "execute_result"
    }
   ],
   "source": [
    "dat.head()"
   ]
  },
  {
   "cell_type": "code",
   "execution_count": null,
   "metadata": {
    "id": "bd88RIITQz7R"
   },
   "outputs": [],
   "source": [
    "df=pd.read_csv('/content/drive/MyDrive/Proj DATA/Audio_faeture_CREMA_D.csv')"
   ]
  },
  {
   "cell_type": "code",
   "execution_count": null,
   "metadata": {
    "id": "YYPrSYipterl"
   },
   "outputs": [],
   "source": [
    "ss=df['Age'].tolist()\n",
    "age=[]\n",
    "sex=[]\n",
    "for i in range(len(ss)):\n",
    "    age.append(int(ss[i][1:3]))\n",
    "    if ss[i][6:7] in 'Ff':\n",
    "        sex.append('Female')\n",
    "    else:\n",
    "        sex.append('Male')\n",
    "\n",
    "    \n",
    "\n",
    "    \n",
    "    \n"
   ]
  },
  {
   "cell_type": "code",
   "execution_count": null,
   "metadata": {
    "colab": {
     "base_uri": "https://localhost:8080/",
     "height": 162
    },
    "id": "SFiX0gfTcUMS",
    "outputId": "89e1e018-e425-4f6e-f995-0844aaeda339"
   },
   "outputs": [
    {
     "ename": "NameError",
     "evalue": "ignored",
     "output_type": "error",
     "traceback": [
      "\u001b[0;31m---------------------------------------------------------------------------\u001b[0m",
      "\u001b[0;31mNameError\u001b[0m                                 Traceback (most recent call last)",
      "\u001b[0;32m<ipython-input-1-f8d1f76a1c6f>\u001b[0m in \u001b[0;36m<module>\u001b[0;34m()\u001b[0m\n\u001b[0;32m----> 1\u001b[0;31m \u001b[0mnp\u001b[0m\u001b[0;34m.\u001b[0m\u001b[0mndarray\u001b[0m\u001b[0;34m(\u001b[0m\u001b[0mshape\u001b[0m\u001b[0;34m=\u001b[0m\u001b[0;34m(\u001b[0m\u001b[0;34m-\u001b[0m\u001b[0;36m1\u001b[0m\u001b[0;34m,\u001b[0m\u001b[0;36m2\u001b[0m\u001b[0;34m,\u001b[0m\u001b[0;36m2\u001b[0m\u001b[0;34m)\u001b[0m\u001b[0;34m,\u001b[0m \u001b[0mdtype\u001b[0m\u001b[0;34m=\u001b[0m\u001b[0mfloat\u001b[0m\u001b[0;34m,\u001b[0m \u001b[0morder\u001b[0m\u001b[0;34m=\u001b[0m\u001b[0;34m'F'\u001b[0m\u001b[0;34m)\u001b[0m\u001b[0;34m\u001b[0m\u001b[0;34m\u001b[0m\u001b[0m\n\u001b[0m",
      "\u001b[0;31mNameError\u001b[0m: name 'np' is not defined"
     ]
    }
   ],
   "source": [
    "np.ndarray(shape=(-1,2,2), dtype=float, order='F')"
   ]
  },
  {
   "cell_type": "code",
   "execution_count": null,
   "metadata": {
    "id": "fyH8muQhnQ5r"
   },
   "outputs": [],
   "source": [
    "df2=pd.DataFrame({'AGE':age,'SEX':sex})"
   ]
  },
  {
   "cell_type": "code",
   "execution_count": null,
   "metadata": {
    "id": "4OdcvlLp-ahF"
   },
   "outputs": [],
   "source": [
    "df['Sex']=df2['SEX']"
   ]
  },
  {
   "cell_type": "code",
   "execution_count": null,
   "metadata": {
    "colab": {
     "base_uri": "https://localhost:8080/"
    },
    "id": "d2xdKSgJcdpT",
    "outputId": "f8009732-f579-49c8-87df-0fe544ad88ae"
   },
   "outputs": [
    {
     "data": {
      "text/plain": [
       "(7442, 10)"
      ]
     },
     "execution_count": 35,
     "metadata": {
      "tags": []
     },
     "output_type": "execute_result"
    }
   ],
   "source": [
    "df.shape"
   ]
  },
  {
   "cell_type": "code",
   "execution_count": null,
   "metadata": {
    "colab": {
     "base_uri": "https://localhost:8080/",
     "height": 299
    },
    "id": "dA3dn_xOAFx8",
    "outputId": "c51440a7-0f08-43f7-f2ec-8f2d809ec0ae"
   },
   "outputs": [
    {
     "data": {
      "text/html": [
       "<div>\n",
       "<style scoped>\n",
       "    .dataframe tbody tr th:only-of-type {\n",
       "        vertical-align: middle;\n",
       "    }\n",
       "\n",
       "    .dataframe tbody tr th {\n",
       "        vertical-align: top;\n",
       "    }\n",
       "\n",
       "    .dataframe thead th {\n",
       "        text-align: right;\n",
       "    }\n",
       "</style>\n",
       "<table border=\"1\" class=\"dataframe\">\n",
       "  <thead>\n",
       "    <tr style=\"text-align: right;\">\n",
       "      <th></th>\n",
       "      <th>mfcc</th>\n",
       "      <th>chroma_stft</th>\n",
       "      <th>melspectogram</th>\n",
       "      <th>spectral_contrast</th>\n",
       "      <th>spectral_rolloff</th>\n",
       "      <th>tonnetz</th>\n",
       "      <th>Emotion</th>\n",
       "      <th>Age</th>\n",
       "      <th>AGE</th>\n",
       "      <th>Sex</th>\n",
       "    </tr>\n",
       "  </thead>\n",
       "  <tbody>\n",
       "    <tr>\n",
       "      <th>0</th>\n",
       "      <td>-12.678627</td>\n",
       "      <td>0.425453</td>\n",
       "      <td>0.034886</td>\n",
       "      <td>16.813704</td>\n",
       "      <td>2524.038462</td>\n",
       "      <td>-0.000856</td>\n",
       "      <td>happy</td>\n",
       "      <td>[62, 'Male']</td>\n",
       "      <td>62</td>\n",
       "      <td>Male</td>\n",
       "    </tr>\n",
       "    <tr>\n",
       "      <th>1</th>\n",
       "      <td>-13.014064</td>\n",
       "      <td>0.453561</td>\n",
       "      <td>0.011828</td>\n",
       "      <td>16.266307</td>\n",
       "      <td>2993.476942</td>\n",
       "      <td>-0.007287</td>\n",
       "      <td>sad</td>\n",
       "      <td>[33, 'Male']</td>\n",
       "      <td>33</td>\n",
       "      <td>Male</td>\n",
       "    </tr>\n",
       "    <tr>\n",
       "      <th>2</th>\n",
       "      <td>-12.506168</td>\n",
       "      <td>0.468733</td>\n",
       "      <td>0.012873</td>\n",
       "      <td>16.627023</td>\n",
       "      <td>3185.290404</td>\n",
       "      <td>-0.013362</td>\n",
       "      <td>disgust</td>\n",
       "      <td>[62, 'Male']</td>\n",
       "      <td>62</td>\n",
       "      <td>Male</td>\n",
       "    </tr>\n",
       "    <tr>\n",
       "      <th>3</th>\n",
       "      <td>-12.529597</td>\n",
       "      <td>0.398632</td>\n",
       "      <td>0.266168</td>\n",
       "      <td>16.830008</td>\n",
       "      <td>3542.724609</td>\n",
       "      <td>-0.009528</td>\n",
       "      <td>sad</td>\n",
       "      <td>[62, 'Male']</td>\n",
       "      <td>62</td>\n",
       "      <td>Male</td>\n",
       "    </tr>\n",
       "    <tr>\n",
       "      <th>4</th>\n",
       "      <td>-12.488389</td>\n",
       "      <td>0.413125</td>\n",
       "      <td>0.039846</td>\n",
       "      <td>17.119676</td>\n",
       "      <td>2724.273990</td>\n",
       "      <td>-0.014621</td>\n",
       "      <td>disgust</td>\n",
       "      <td>[62, 'Male']</td>\n",
       "      <td>62</td>\n",
       "      <td>Male</td>\n",
       "    </tr>\n",
       "  </tbody>\n",
       "</table>\n",
       "</div>"
      ],
      "text/plain": [
       "        mfcc  chroma_stft  melspectogram  ...           Age  AGE   Sex\n",
       "0 -12.678627     0.425453       0.034886  ...  [62, 'Male']   62  Male\n",
       "1 -13.014064     0.453561       0.011828  ...  [33, 'Male']   33  Male\n",
       "2 -12.506168     0.468733       0.012873  ...  [62, 'Male']   62  Male\n",
       "3 -12.529597     0.398632       0.266168  ...  [62, 'Male']   62  Male\n",
       "4 -12.488389     0.413125       0.039846  ...  [62, 'Male']   62  Male\n",
       "\n",
       "[5 rows x 10 columns]"
      ]
     },
     "execution_count": 36,
     "metadata": {
      "tags": []
     },
     "output_type": "execute_result"
    }
   ],
   "source": [
    "df.head()"
   ]
  },
  {
   "cell_type": "code",
   "execution_count": null,
   "metadata": {
    "id": "A00wAwgpcdnr"
   },
   "outputs": [],
   "source": [
    "df.drop(['Sex'],inplace=True,axis=1)"
   ]
  },
  {
   "cell_type": "code",
   "execution_count": null,
   "metadata": {
    "id": "TjGd063cAgDh"
   },
   "outputs": [],
   "source": [
    "df.to_csv('Audio_CREMA_D.csv',index=False)"
   ]
  },
  {
   "cell_type": "code",
   "execution_count": null,
   "metadata": {
    "id": "esWuITEIAv99"
   },
   "outputs": [],
   "source": []
  },
  {
   "cell_type": "code",
   "execution_count": null,
   "metadata": {
    "colab": {
     "base_uri": "https://localhost:8080/"
    },
    "id": "wiUVgU2tAgCQ",
    "outputId": "23657844-8a10-47de-b080-dae7cd7b6377"
   },
   "outputs": [
    {
     "data": {
      "text/plain": [
       "array([[[3.82236377e-316, 6.93578044e-310, 6.93575785e-310,\n",
       "         6.93578044e-310, 6.93578044e-310, 6.93575785e-310]],\n",
       "\n",
       "       [[6.93578044e-310, 0.00000000e+000, 6.93578044e-310,\n",
       "         6.93578044e-310, 0.00000000e+000, 6.93578044e-310]],\n",
       "\n",
       "       [[6.93575785e-310, 6.93578044e-310, 6.93578044e-310,\n",
       "         6.93575785e-310, 6.93578044e-310, 6.93575783e-310]],\n",
       "\n",
       "       [[6.93578044e-310, 6.93578044e-310, 0.00000000e+000,\n",
       "         6.93578044e-310, 6.93575785e-310, 0.00000000e+000]],\n",
       "\n",
       "       [[6.93578044e-310, 6.93575785e-310, 6.93578044e-310,\n",
       "         6.93575783e-310, 6.93578044e-310, 6.93578044e-310]],\n",
       "\n",
       "       [[0.00000000e+000, 6.93578044e-310, 6.93575785e-310,\n",
       "         0.00000000e+000, 6.93578044e-310, 6.93575785e-310]],\n",
       "\n",
       "       [[6.93578044e-310, 6.93575783e-310, 6.93578044e-310,\n",
       "         6.93578044e-310, 6.93575783e-310, 6.93578044e-310]],\n",
       "\n",
       "       [[6.93575785e-310, 0.00000000e+000, 6.93578044e-310,\n",
       "         6.93575785e-310, 0.00000000e+000, 6.93575783e-310]],\n",
       "\n",
       "       [[6.93578044e-310, 6.93578044e-310, 6.93575783e-310,\n",
       "         6.93578044e-310, 6.93575785e-310, 0.00000000e+000]],\n",
       "\n",
       "       [[6.93578044e-310, 6.93575785e-310, 0.00000000e+000,\n",
       "         6.93575785e-310, 6.93578044e-310, 0.00000000e+000]],\n",
       "\n",
       "       [[6.93575783e-310, 6.93578044e-310, 6.93575785e-310,\n",
       "         6.93578044e-310, 6.93578044e-310, 6.93575785e-310]],\n",
       "\n",
       "       [[0.00000000e+000, 6.93575785e-310, 6.93578044e-310,\n",
       "         0.00000000e+000, 6.93575785e-310, 6.93578044e-310]],\n",
       "\n",
       "       [[6.93575785e-310, 6.93578044e-310, 6.93578044e-310,\n",
       "         6.93575785e-310, 6.93578044e-310, 6.93575785e-310]],\n",
       "\n",
       "       [[6.93578044e-310, 0.00000000e+000, 6.93575785e-310,\n",
       "         6.93578044e-310, 0.00000000e+000, 6.93578044e-310]],\n",
       "\n",
       "       [[6.93578044e-310, 6.93575785e-310, 6.93578044e-310,\n",
       "         6.93575785e-310, 6.93578044e-310, 0.00000000e+000]],\n",
       "\n",
       "       [[6.93575785e-310, 6.93578044e-310, 0.00000000e+000,\n",
       "         6.93578044e-310, 6.93578044e-310, 0.00000000e+000]]])"
      ]
     },
     "execution_count": 10,
     "metadata": {
      "tags": []
     },
     "output_type": "execute_result"
    }
   ],
   "source": [
    "np.ndarray(shape=(16,1,6), dtype=float)"
   ]
  },
  {
   "cell_type": "code",
   "execution_count": null,
   "metadata": {
    "id": "IogJmoovckRN"
   },
   "outputs": [],
   "source": [
    "y=[3.82236377e-316, 6.93578044e-310, 6.93575785e-310,\n",
    "         6.93578044e-310, 6.93578044e-310, 6.93575785e-310]\n",
    "         \n"
   ]
  },
  {
   "cell_type": "code",
   "execution_count": null,
   "metadata": {
    "id": "CcPymerHufwr"
   },
   "outputs": [],
   "source": [
    "x=[y,y,y]"
   ]
  },
  {
   "cell_type": "code",
   "execution_count": null,
   "metadata": {
    "colab": {
     "base_uri": "https://localhost:8080/"
    },
    "id": "Ugd0ZKBku2vO",
    "outputId": "445a0e94-7feb-4b1f-908d-a86f214da3cf"
   },
   "outputs": [
    {
     "data": {
      "text/plain": [
       "(3, 6, 1)"
      ]
     },
     "execution_count": 24,
     "metadata": {
      "tags": []
     },
     "output_type": "execute_result"
    }
   ],
   "source": [
    "s=np.array(x,ndmin=3).reshape(len(x),6,1)\n",
    "s.shape"
   ]
  },
  {
   "cell_type": "code",
   "execution_count": null,
   "metadata": {
    "colab": {
     "base_uri": "https://localhost:8080/"
    },
    "id": "W_lp4NJyvcR8",
    "outputId": "d19e10ef-1205-406c-8d6c-8c253a91b20b"
   },
   "outputs": [
    {
     "name": "stdout",
     "output_type": "stream",
     "text": [
      "[[[3.82236377e-316]\n",
      "  [6.93578044e-310]\n",
      "  [6.93575785e-310]\n",
      "  [6.93578044e-310]\n",
      "  [6.93578044e-310]\n",
      "  [6.93575785e-310]]\n",
      "\n",
      " [[3.82236377e-316]\n",
      "  [6.93578044e-310]\n",
      "  [6.93575785e-310]\n",
      "  [6.93578044e-310]\n",
      "  [6.93578044e-310]\n",
      "  [6.93575785e-310]]\n",
      "\n",
      " [[3.82236377e-316]\n",
      "  [6.93578044e-310]\n",
      "  [6.93575785e-310]\n",
      "  [6.93578044e-310]\n",
      "  [6.93578044e-310]\n",
      "  [6.93575785e-310]]]\n"
     ]
    }
   ],
   "source": [
    "print(s)"
   ]
  },
  {
   "cell_type": "code",
   "execution_count": null,
   "metadata": {
    "id": "ZLZctg-rt_FQ"
   },
   "outputs": [],
   "source": [
    "import numpy as np\n"
   ]
  },
  {
   "cell_type": "code",
   "execution_count": null,
   "metadata": {
    "id": "Hl297Cm1udjt"
   },
   "outputs": [],
   "source": [
    "pl='/content/drive/MyDrive/Proj DATA/AudioWAV_cremad/1001_ITS_NEU_XX.wav'\n",
    "SAMPLE_RATE = 16000"
   ]
  },
  {
   "cell_type": "code",
   "execution_count": null,
   "metadata": {
    "id": "yUwj372QLf4X"
   },
   "outputs": [],
   "source": [
    "kl=['/content/drive/MyDrive/Proj DATA/AudioWAV_cremad/1001_DFA_ANG_XX.wav',pl]"
   ]
  },
  {
   "cell_type": "code",
   "execution_count": null,
   "metadata": {
    "colab": {
     "base_uri": "https://localhost:8080/",
     "height": 246
    },
    "id": "npCbkZoPHvu6",
    "outputId": "3041c36a-a3ce-48c3-c9a1-9cdec5b5d815"
   },
   "outputs": [
    {
     "ename": "NameError",
     "evalue": "ignored",
     "output_type": "error",
     "traceback": [
      "\u001b[0;31m---------------------------------------------------------------------------\u001b[0m",
      "\u001b[0;31mNameError\u001b[0m                                 Traceback (most recent call last)",
      "\u001b[0;32m<ipython-input-82-8bd4c9aa83b6>\u001b[0m in \u001b[0;36m<module>\u001b[0;34m()\u001b[0m\n\u001b[1;32m      3\u001b[0m     \u001b[0mmfcc_feature\u001b[0m \u001b[0;34m=\u001b[0m \u001b[0mmfcc\u001b[0m\u001b[0;34m.\u001b[0m\u001b[0mmfcc\u001b[0m\u001b[0;34m(\u001b[0m\u001b[0my\u001b[0m\u001b[0;34m,\u001b[0m\u001b[0msr\u001b[0m\u001b[0;34m,\u001b[0m \u001b[0;36m0.025\u001b[0m\u001b[0;34m,\u001b[0m \u001b[0;36m0.01\u001b[0m\u001b[0;34m,\u001b[0m\u001b[0;36m20\u001b[0m\u001b[0;34m,\u001b[0m\u001b[0mnfft\u001b[0m \u001b[0;34m=\u001b[0m \u001b[0;36m1200\u001b[0m\u001b[0;34m,\u001b[0m \u001b[0mappendEnergy\u001b[0m \u001b[0;34m=\u001b[0m \u001b[0;32mTrue\u001b[0m\u001b[0;34m)\u001b[0m\u001b[0;34m\u001b[0m\u001b[0;34m\u001b[0m\u001b[0m\n\u001b[1;32m      4\u001b[0m     \u001b[0mmfcc_feature\u001b[0m \u001b[0;34m=\u001b[0m \u001b[0mpreprocessing\u001b[0m\u001b[0;34m.\u001b[0m\u001b[0mscale\u001b[0m\u001b[0;34m(\u001b[0m\u001b[0mmfcc_feature\u001b[0m\u001b[0;34m)\u001b[0m\u001b[0;34m\u001b[0m\u001b[0;34m\u001b[0m\u001b[0m\n\u001b[0;32m----> 5\u001b[0;31m     \u001b[0mdelta\u001b[0m \u001b[0;34m=\u001b[0m \u001b[0mcalculate_delta\u001b[0m\u001b[0;34m(\u001b[0m\u001b[0mmfcc_feature\u001b[0m\u001b[0;34m)\u001b[0m\u001b[0;34m\u001b[0m\u001b[0;34m\u001b[0m\u001b[0m\n\u001b[0m\u001b[1;32m      6\u001b[0m     \u001b[0mcombined\u001b[0m \u001b[0;34m=\u001b[0m \u001b[0mnp\u001b[0m\u001b[0;34m.\u001b[0m\u001b[0mhstack\u001b[0m\u001b[0;34m(\u001b[0m\u001b[0;34m(\u001b[0m\u001b[0mmfcc_feature\u001b[0m\u001b[0;34m,\u001b[0m\u001b[0mdelta\u001b[0m\u001b[0;34m)\u001b[0m\u001b[0;34m)\u001b[0m\u001b[0;34m\u001b[0m\u001b[0;34m\u001b[0m\u001b[0m\n\u001b[1;32m      7\u001b[0m     \u001b[0mgl\u001b[0m\u001b[0;34m.\u001b[0m\u001b[0mappend\u001b[0m\u001b[0;34m(\u001b[0m\u001b[0mcombined\u001b[0m\u001b[0;34m)\u001b[0m\u001b[0;34m\u001b[0m\u001b[0;34m\u001b[0m\u001b[0m\n",
      "\u001b[0;31mNameError\u001b[0m: name 'calculate_delta' is not defined"
     ]
    }
   ],
   "source": [
    "for i in kl:\n",
    "    y,sr=librosa.load(i,sr=SAMPLE_RATE)\n",
    "    mfcc_feature = mfcc.mfcc(y,sr, 0.025, 0.01,20,nfft = 1200, appendEnergy = True)    \n",
    "    mfcc_feature = preprocessing.scale(mfcc_feature)\n",
    "    delta = calculate_delta(mfcc_feature)\n",
    "    combined = np.hstack((mfcc_feature,delta))\n",
    "    gl.append(combined)"
   ]
  },
  {
   "cell_type": "code",
   "execution_count": null,
   "metadata": {
    "id": "6XLCSMrLIhCq"
   },
   "outputs": [],
   "source": [
    "gl=[]"
   ]
  },
  {
   "cell_type": "code",
   "execution_count": null,
   "metadata": {
    "colab": {
     "base_uri": "https://localhost:8080/"
    },
    "id": "TxbMCA3XPecZ",
    "outputId": "53f11759-a0cd-4c75-a8ed-7d95c338cf26"
   },
   "outputs": [
    {
     "data": {
      "text/plain": [
       "(72,)"
      ]
     },
     "execution_count": 76,
     "metadata": {
      "tags": []
     },
     "output_type": "execute_result"
    }
   ],
   "source": [
    "gl[0].shape"
   ]
  },
  {
   "cell_type": "code",
   "execution_count": null,
   "metadata": {
    "colab": {
     "base_uri": "https://localhost:8080/"
    },
    "id": "StO6uWtSPjJa",
    "outputId": "5606f314-22ed-47f5-c893-a7b80556db29"
   },
   "outputs": [
    {
     "data": {
      "text/plain": [
       "(77,)"
      ]
     },
     "execution_count": 77,
     "metadata": {
      "tags": []
     },
     "output_type": "execute_result"
    }
   ],
   "source": [
    "gl[1].shape"
   ]
  },
  {
   "cell_type": "code",
   "execution_count": null,
   "metadata": {
    "id": "HlAdRi2FQMeO"
   },
   "outputs": [],
   "source": [
    "from sklearn import preprocessing\n",
    "import python_speech_features as mfcc"
   ]
  },
  {
   "cell_type": "code",
   "execution_count": null,
   "metadata": {
    "colab": {
     "base_uri": "https://localhost:8080/"
    },
    "id": "rhWP36doX8aM",
    "outputId": "45a7e244-351d-4e92-c2be-68945ebc2437"
   },
   "outputs": [
    {
     "name": "stdout",
     "output_type": "stream",
     "text": [
      "Collecting python_speech_features\n",
      "  Downloading https://files.pythonhosted.org/packages/ff/d1/94c59e20a2631985fbd2124c45177abaa9e0a4eee8ba8a305aa26fc02a8e/python_speech_features-0.6.tar.gz\n",
      "Building wheels for collected packages: python-speech-features\n",
      "  Building wheel for python-speech-features (setup.py) ... \u001b[?25l\u001b[?25hdone\n",
      "  Created wheel for python-speech-features: filename=python_speech_features-0.6-cp36-none-any.whl size=5890 sha256=b964d1004061cbb52e0a329293be99026f2c971a50a9451824e87ab7f9a0e99f\n",
      "  Stored in directory: /root/.cache/pip/wheels/3c/42/7c/f60e9d1b40015cd69b213ad90f7c18a9264cd745b9888134be\n",
      "Successfully built python-speech-features\n",
      "Installing collected packages: python-speech-features\n",
      "Successfully installed python-speech-features-0.6\n"
     ]
    }
   ],
   "source": [
    "!pip install python_speech_features"
   ]
  },
  {
   "cell_type": "code",
   "execution_count": null,
   "metadata": {
    "id": "QdXCX7w1YLFz"
   },
   "outputs": [],
   "source": []
  },
  {
   "cell_type": "code",
   "execution_count": null,
   "metadata": {
    "id": "_pyR1JZTa43r"
   },
   "outputs": [],
   "source": [
    "fn_list_1=[\n",
    "           feature.mfcc,\n",
    "           feature.chroma_stft,\n",
    "           feature.melspectrogram,\n",
    "           feature.spectral_contrast,\n",
    "           feature.spectral_rolloff,\n",
    "           feature.tonnetz\n",
    "]\n",
    "\n",
    "\n",
    "\n",
    "def Get_feature_vec(y,sr):\n",
    "    feat_vec=[np.mean(funct(y,sr),axis=0) for funct in fn_list_1 ]\n",
    "    \n",
    "\n",
    "    \n",
    "    return feat_vec"
   ]
  },
  {
   "cell_type": "code",
   "execution_count": null,
   "metadata": {
    "id": "gfVG_8hQcmh2"
   },
   "outputs": [],
   "source": [
    "gl=[]"
   ]
  },
  {
   "cell_type": "code",
   "execution_count": null,
   "metadata": {
    "id": "I9LmzZj0bAlP"
   },
   "outputs": [],
   "source": [
    "for i in kl:\n",
    "    y,sr=librosa.load(i,sr=SAMPLE_RATE)\n",
    "    h=Get_feature_vec(y,sr)\n",
    "    gl.append(h)"
   ]
  },
  {
   "cell_type": "code",
   "execution_count": null,
   "metadata": {
    "id": "HSmbfVWCidVV"
   },
   "outputs": [],
   "source": [
    "gl"
   ]
  },
  {
   "cell_type": "code",
   "execution_count": null,
   "metadata": {
    "colab": {
     "base_uri": "https://localhost:8080/"
    },
    "id": "bxzQup1PbbWv",
    "outputId": "ae1118b0-78c6-41ab-d003-60a42ea26f0e"
   },
   "outputs": [
    {
     "name": "stderr",
     "output_type": "stream",
     "text": [
      "/usr/local/lib/python3.6/dist-packages/ipykernel_launcher.py:1: VisibleDeprecationWarning: Creating an ndarray from ragged nested sequences (which is a list-or-tuple of lists-or-tuples-or ndarrays with different lengths or shapes) is deprecated. If you meant to do this, you must specify 'dtype=object' when creating the ndarray\n",
      "  \"\"\"Entry point for launching an IPython kernel.\n"
     ]
    }
   ],
   "source": [
    "l=np.array(gl)"
   ]
  },
  {
   "cell_type": "code",
   "execution_count": null,
   "metadata": {
    "colab": {
     "base_uri": "https://localhost:8080/"
    },
    "id": "IXUtrCAsbmCH",
    "outputId": "9d81537f-47ed-4d3d-bb89-70ae84d80ec1"
   },
   "outputs": [
    {
     "data": {
      "text/plain": [
       "(2, 6)"
      ]
     },
     "execution_count": 149,
     "metadata": {
      "tags": []
     },
     "output_type": "execute_result"
    }
   ],
   "source": [
    "l.shape"
   ]
  },
  {
   "cell_type": "code",
   "execution_count": null,
   "metadata": {
    "id": "mewjXI-AsY3n"
   },
   "outputs": [],
   "source": [
    "d=l.reshape(2,1,6)"
   ]
  },
  {
   "cell_type": "code",
   "execution_count": null,
   "metadata": {
    "colab": {
     "base_uri": "https://localhost:8080/"
    },
    "id": "0Ox3HfIckejb",
    "outputId": "0942c750-d12f-4a58-e9e6-ed1c7858fede"
   },
   "outputs": [
    {
     "data": {
      "text/plain": [
       "3"
      ]
     },
     "execution_count": 134,
     "metadata": {
      "tags": []
     },
     "output_type": "execute_result"
    }
   ],
   "source": [
    "l.ndim"
   ]
  },
  {
   "cell_type": "code",
   "execution_count": null,
   "metadata": {
    "colab": {
     "base_uri": "https://localhost:8080/"
    },
    "id": "p1r9-TYNkegX",
    "outputId": "d32db07e-b800-40b0-a909-f56a1c951822"
   },
   "outputs": [
    {
     "data": {
      "text/plain": [
       "(2, 1, 6)"
      ]
     },
     "execution_count": 147,
     "metadata": {
      "tags": []
     },
     "output_type": "execute_result"
    }
   ],
   "source": [
    "d.shape"
   ]
  },
  {
   "cell_type": "code",
   "execution_count": null,
   "metadata": {
    "id": "dU6VBixccUFq"
   },
   "outputs": [],
   "source": [
    "d=pd.DataFrame(l)"
   ]
  },
  {
   "cell_type": "code",
   "execution_count": null,
   "metadata": {
    "colab": {
     "base_uri": "https://localhost:8080/"
    },
    "id": "KVuKE4c9caOG",
    "outputId": "2891ed67-7164-40af-9814-84b4f89396bd"
   },
   "outputs": [
    {
     "data": {
      "text/plain": [
       "0    [-24.07883410962672, -19.99170660712136, -17.7...\n",
       "1    [-15.412120229561435, -16.472610693349683, -15...\n",
       "Name: 0, dtype: object"
      ]
     },
     "execution_count": 129,
     "metadata": {
      "tags": []
     },
     "output_type": "execute_result"
    }
   ],
   "source": [
    "d[0]"
   ]
  },
  {
   "cell_type": "code",
   "execution_count": null,
   "metadata": {
    "id": "hPzYoGSoj7He"
   },
   "outputs": [],
   "source": [
    "sent=pd.read_csv('/content/drive/MyDrive/Proj DATA/files_details.csv')"
   ]
  },
  {
   "cell_type": "code",
   "execution_count": null,
   "metadata": {
    "colab": {
     "base_uri": "https://localhost:8080/",
     "height": 343
    },
    "id": "0uaEPqvGNTMv",
    "outputId": "994e22f6-5e4a-40b8-8f4a-3bd6456947f2"
   },
   "outputs": [
    {
     "data": {
      "text/html": [
       "<div>\n",
       "<style scoped>\n",
       "    .dataframe tbody tr th:only-of-type {\n",
       "        vertical-align: middle;\n",
       "    }\n",
       "\n",
       "    .dataframe tbody tr th {\n",
       "        vertical-align: top;\n",
       "    }\n",
       "\n",
       "    .dataframe thead th {\n",
       "        text-align: right;\n",
       "    }\n",
       "</style>\n",
       "<table border=\"1\" class=\"dataframe\">\n",
       "  <thead>\n",
       "    <tr style=\"text-align: right;\">\n",
       "      <th></th>\n",
       "      <th>Unnamed: 0</th>\n",
       "      <th>Labels</th>\n",
       "      <th>Age</th>\n",
       "      <th>gender</th>\n",
       "      <th>file</th>\n",
       "    </tr>\n",
       "  </thead>\n",
       "  <tbody>\n",
       "    <tr>\n",
       "      <th>3852</th>\n",
       "      <td>3852</td>\n",
       "      <td>happy</td>\n",
       "      <td>25</td>\n",
       "      <td>Female</td>\n",
       "      <td>/content/drive/MyDrive/Proj DATA/AudioWAV_crem...</td>\n",
       "    </tr>\n",
       "    <tr>\n",
       "      <th>804</th>\n",
       "      <td>804</td>\n",
       "      <td>happy</td>\n",
       "      <td>46</td>\n",
       "      <td>Female</td>\n",
       "      <td>/content/drive/MyDrive/Proj DATA/AudioWAV_crem...</td>\n",
       "    </tr>\n",
       "    <tr>\n",
       "      <th>2510</th>\n",
       "      <td>2510</td>\n",
       "      <td>sad</td>\n",
       "      <td>51</td>\n",
       "      <td>Female</td>\n",
       "      <td>/content/drive/MyDrive/Proj DATA/AudioWAV_crem...</td>\n",
       "    </tr>\n",
       "    <tr>\n",
       "      <th>6743</th>\n",
       "      <td>6743</td>\n",
       "      <td>neutral</td>\n",
       "      <td>32</td>\n",
       "      <td>Male</td>\n",
       "      <td>/content/drive/MyDrive/Proj DATA/AudioWAV_crem...</td>\n",
       "    </tr>\n",
       "    <tr>\n",
       "      <th>6300</th>\n",
       "      <td>6300</td>\n",
       "      <td>neutral</td>\n",
       "      <td>42</td>\n",
       "      <td>Male</td>\n",
       "      <td>/content/drive/MyDrive/Proj DATA/AudioWAV_crem...</td>\n",
       "    </tr>\n",
       "    <tr>\n",
       "      <th>3039</th>\n",
       "      <td>3039</td>\n",
       "      <td>happy</td>\n",
       "      <td>52</td>\n",
       "      <td>Female</td>\n",
       "      <td>/content/drive/MyDrive/Proj DATA/AudioWAV_crem...</td>\n",
       "    </tr>\n",
       "    <tr>\n",
       "      <th>6023</th>\n",
       "      <td>6023</td>\n",
       "      <td>disgust</td>\n",
       "      <td>22</td>\n",
       "      <td>Female</td>\n",
       "      <td>/content/drive/MyDrive/Proj DATA/AudioWAV_crem...</td>\n",
       "    </tr>\n",
       "    <tr>\n",
       "      <th>981</th>\n",
       "      <td>981</td>\n",
       "      <td>sad</td>\n",
       "      <td>25</td>\n",
       "      <td>Female</td>\n",
       "      <td>/content/drive/MyDrive/Proj DATA/AudioWAV_crem...</td>\n",
       "    </tr>\n",
       "    <tr>\n",
       "      <th>3800</th>\n",
       "      <td>3800</td>\n",
       "      <td>sad</td>\n",
       "      <td>25</td>\n",
       "      <td>Female</td>\n",
       "      <td>/content/drive/MyDrive/Proj DATA/AudioWAV_crem...</td>\n",
       "    </tr>\n",
       "    <tr>\n",
       "      <th>1898</th>\n",
       "      <td>1898</td>\n",
       "      <td>happy</td>\n",
       "      <td>53</td>\n",
       "      <td>Male</td>\n",
       "      <td>/content/drive/MyDrive/Proj DATA/AudioWAV_crem...</td>\n",
       "    </tr>\n",
       "  </tbody>\n",
       "</table>\n",
       "</div>"
      ],
      "text/plain": [
       "      Unnamed: 0  ...                                               file\n",
       "3852        3852  ...  /content/drive/MyDrive/Proj DATA/AudioWAV_crem...\n",
       "804          804  ...  /content/drive/MyDrive/Proj DATA/AudioWAV_crem...\n",
       "2510        2510  ...  /content/drive/MyDrive/Proj DATA/AudioWAV_crem...\n",
       "6743        6743  ...  /content/drive/MyDrive/Proj DATA/AudioWAV_crem...\n",
       "6300        6300  ...  /content/drive/MyDrive/Proj DATA/AudioWAV_crem...\n",
       "3039        3039  ...  /content/drive/MyDrive/Proj DATA/AudioWAV_crem...\n",
       "6023        6023  ...  /content/drive/MyDrive/Proj DATA/AudioWAV_crem...\n",
       "981          981  ...  /content/drive/MyDrive/Proj DATA/AudioWAV_crem...\n",
       "3800        3800  ...  /content/drive/MyDrive/Proj DATA/AudioWAV_crem...\n",
       "1898        1898  ...  /content/drive/MyDrive/Proj DATA/AudioWAV_crem...\n",
       "\n",
       "[10 rows x 5 columns]"
      ]
     },
     "execution_count": 8,
     "metadata": {
      "tags": []
     },
     "output_type": "execute_result"
    }
   ],
   "source": [
    "sent.sample(10)"
   ]
  },
  {
   "cell_type": "code",
   "execution_count": null,
   "metadata": {
    "id": "Jn3IHcNsRZJ2"
   },
   "outputs": [],
   "source": [
    "def sentence(name):\n",
    "    lables={ 'IEO':'It\\'s eleven o\\'clock',\n",
    "            'TIE':'That is exactly what happened', \n",
    "            'IOM' : 'I\\'m on my way to the meeting', \n",
    "            'IWW': 'I wonder what this is about', \n",
    "            'TAI': 'The airplane is almost full',\n",
    "            'MTI': 'Maybe tomorrow it will be cold' ,\n",
    "            'IWL' :'I would like a new alarm clock', \n",
    "            'ITH': 'I think I have a doctor\\'s appointment',\n",
    "            'DFA':'Don\\'t forget a jacket',\n",
    "            'ITS':'I think I\\'ve seen this before ',\n",
    "            'TSI':'The surface is slick',\n",
    "            'WSI':'We\\'ll stop in a couple of minutes'}\n",
    "    \n",
    "    tag=name[5:8]\n",
    "    for keys,tags in lables.items():\n",
    "        if tag in keys :\n",
    "            return tags"
   ]
  },
  {
   "cell_type": "code",
   "execution_count": null,
   "metadata": {
    "colab": {
     "base_uri": "https://localhost:8080/"
    },
    "id": "Lv5Xg3nRTYhg",
    "outputId": "53f37899-6c04-444e-be80-437468819530"
   },
   "outputs": [
    {
     "name": "stdout",
     "output_type": "stream",
     "text": [
      "- - - - - - - - - - - - - - - - - - - - - - - - - - - - - - - - - - - - - - - - - - - - - - - - - - - - - - - - - - - - - - - - - - - - - - - - - - - - - - - - - - - - - - - - - - - - - - - - - - - - - - - - - - - - - - - - - - - - - - - - - - - - - - - - - - - - - - - - - - - - - - - - - - - - - - - - - - - - - - - - - - - - - - - - - - - - - - - - - - - - - - - - - - - - - - - - - - - - - - - - - - - - - - - - - - - - - - - - - - - - - - - - - - - - - - - - - - - - - - - - - - - - - - - - - - - - - - - - - - - - - - - - - - - - - - - - - - - - - - - - - - - - - - - - - - - - - - - - - - - - - - - - - - - - - - - - - - - - - - - - - - - - - - - - - - - - - - - - - - - - - - - - - - - - - - - - - - - - - - - - - - - - - - - - - - - - - - - - - - - - - - - - - - - - - - - - - - - - - - - - - - - - - - - - - - - - - - - - - - - - - - - - - - - - - - - - - - - - - - - - - - - - - - - - - - - - - - - - - - - - - - - - - - - - - - - - - - - - - - - - - - - - - - - - - - - - - - - - - - - - - - - - - - - - - - - - - - - - - - - - - - - - - - - - - - - - - - - - - - - - - - - - - - - - - - - - - - - - - - - - - - - - - - - - - - - - - - - - - - - - - - - - - - - - - - - - - - - - - - - - - - - - - - - - - - - - - - - - - - - - - - - - - - - - - - - - - - - - - - - - - - - - - - - - - - - - - - - - - - - - - - - - - - - - - - - - - - - - - - - - - - - - - - - - - - - - - - - - - - - - - - - - - - - - - - - - - - - - - - - - - - - - - - - - - - - - - - - - - - - - - - - - - - - - - - - - - - - - - - - - - - - - - - - - - - - - - - - - - - - - - - - - - - - - - - - - - - - - - - - - - - - - - - - - - - - - - - - - - - - - - - - - - - - - - - - - - - - - - - - - - - - - - - - - - - - - - - - - - - - - - - - - - - - - - - - - - - - - - - - - - - - - - - - - - - - - - - - - - - - - - - - - - - - - - - - - - - - - - - - - - - - - - - - - - - - - - - - - - - - - - - - - - - - - - - - - - - - - - - - - - - - - - - - - - - - - - - - - - - - - - - - - - - - - - - - - - - - - - - - - - - - - - - - - - - - - - - - - - - - - - - - - - - - - - - - - - - - - - - - - - - - - - - - - - - - - - - - - - - - - - - - - - - - - - - - - - - - - - - - - - - - - - - - - - - - - - - - - - - - - - - - - - - - - - - - - - - - - - - - - - - - - - - - - - - - - - - - - - - - - - - - - - - - - - - - - - - - - - - - - - - - - - - - - - - - - - - - - - - - - - - - - - - - - - - - - - - - - - - - - - - - - - - - - - - - - - - - - - - - - - - - - - - - - - - - - - - - - - - - - - - - - - - - - - - - - - - - - - - - - - - - - - - - - - - - - - - - - - - - - - - - - - - - - - - - - - - - - - - - - - - - - - - - - - - - - - - - - - - - - - - - - - - - - - - - - - - - - - - - - - - - - - - - - - - - - - - - - - - - - - - - - - - - - - - - - - - - - - - - - - - - - - - - - - - - - - - - - - - - - - - - - - - - - - - - - - - - - - - - - - - - - - - - - - - - - - - - - - - - - - - - - - - - - - - - - - - - - - - - - - - - - - - - - - - - - - - - - - - - - - - - - - - - - - - - - - - - - - - - - - - - - - - - - - - - - - - - - - - - - - - - - - - - - - - - - - - - - - - - - - - - - - - - - - - - - - - - - - - - - - - - - - - - - - - - - - - - - - - - - - - - - - - - - - - - - - - - - - - - - - - - - - - - - - - - - - - - - - - - - - - - - - - - - - - - - - - - - - - - - - - - - - - - - - - - - - - - - - - - - - - - - - - - - - - - - - - - - - - - - - - - - - - - - - - - - - - - - - - - - - - - - - - - - - - - - - - - - - - - - - - - - - - - - - - - - - - - - - - - - - - - - - - - - - - - - - - - - - - - - - - - - - - - - - - - - - - - - - - - - - - - - - - - - - - - - - - - - - - - - - - - - - - - - - - - - - - - - - - - - - - - - - - - - - - - - - - - - - - - - - - - - - - - - - - - - - - - - - - - - - - - - - - - - - - - - - - - - - - - - - - - - - - - - - - - - - - - - - - - - - - - - - - - - - - - - - - - - - - - - - - - - - - - - - - - - - - - - - - - - - - - - - - - - - - - - - - - - - - - - - - - - - - - - - - - - - - - - - - - - - - - - - - - - - - - - - - - - - - - - - - - - - - - - - - - - - - - - - - - - - - - - - - - - - - - - - - - - - - - - - - - - - - - - - - - - - - - - - - - - - - - - - - - - - - - - - - - - - - - - - - - - - - - - - - - - - - - - - - - - - - - - - - - - - - - - - - - - - - - - - - - - - - - - - - - - - - - - - - - - - - - - - - - - - - - - - - - - - - - - - - - - - - - - - - - - - - - - - - - - - - - - - - - - - - - - - - - - - - - - - - - - - - - - - - - - - - - - - - - - - - - - - - - - - - - - - - - - - - - - - - - - - - - - - - - - - - - - - - - - - - - - - - - - - - - - - - - - - - - - - - - - - - - - - - - - - - - - - - - - - - - - - - - - - - - - - - - - - - - - - - - - - - - - - - - - - - - - - - - - - - - - - - - - - - - - - - - - - - - - - - - - - - - - - - - - - - - - - - - - - - - - - - - - - - - - - - - - - - - - - - - - - - - - - - - - - - - - - - - - - - - - - - - - - - - - - - - - - - - - - - - - - - - - - - - - - - - - - - - - - - - - - - - - - - - - - - - - - - - - - - - - - - - - - - - - - - - - - - - - - - - - - - - - - - - - - - - - - - - - - - - - - - - - - - - - - - - - - - - - - - - - - - - - - - - - - - - - - - - - - - - - - - - - - - - - - - - - - - - - - - - - - - - - - - - - - - - - - - - - - - - - - - - - - - - - - - - - - - - - - - - - - - - - - - - - - - - - - - - - - - - - - - - - - - - - - - - - - - - - - - - - - - - - - - - - - - - - - - - - - - - - - - - - - - - - - - - - - - - - - - - - - - - - - - - - - - - - - - - - - - - - - - - - - - - - - - - - - - - - - - - - - - - - - - - - - - - - - - - - - - - - - - - - - - - - - - - - - - - - - - - - - - - - - - - - - - - - - - - - - - - - - - - - - - - - - - - - - - - - - - - - - - - - - - - - - - - - - - - - - - - - - - - - - - - - - - - - - - - - - - - - - - - - - - - - - - - - - - - - - - - - - - - - - - - - - - - - - - - - - - - - - - - - - - - - - - - - - - - - - - - - - - - - - - - - - - - - - - - - - - - - - - - - - - - - - - - - - - - - - - - - - - - - - - - - - - - - - - - - - - - - - - - - - - - - - - - - - - - - - - - - - - - - - - - - - - - - - - - - - - - - - - - - - - - - - - - - - - - - - - - - - - - - - - - - - - - - - - - - - - - - - - - - - - - - - - - - - - - - - - - - - - - - - - - - - - - - - - - - - - - - - - - - - - - - - - - - - - - - - - - - - - - - - - - - - - - - - - - - - - - - - - - - - - - - - - - - - - - - - - - - - - - - - - - - - - - - - - - - - - - - - - - - - - - - - - - - - - - - - - - - - - - - - - - - - - - - - - - - - - - - - - - - - - - - - - - - - - - - - - - - - - - - - - - - - - - - - - - - - - - - - - - - - - - - - - - - - - - - - - - - - - - - - - - - - - - - - - - - - - - - - - - - - - - - - - - - - - - - - - - - - - - - - - - - - - - - - - - - - - - - - - - - - - - - - - - - - - - - - - - - - - - - - - - - - - - - - - - - - - - - - - - - - - - - - - - - - - - - - - - - - - - - - - - - - - - - - - - - - - - - - - - - - - - - - - - - - - - - - - - - - - - - - - - - - - - - - - - - - - - - - - - - - - - - - - - - - - - - - - - - - - - - - - - - - - - - - - - - - - - - - - - - - - - - - - - - - - - - - - - - - - - - - - - - - - - - - - - - - - - - - - - - - - - - - - - - - - - - - - - - - - - - - - - - - - - - - - - - - - - - - - - - - - - - - - - - - - - - - - - - - - - - - - - - - - - - - - - - - - - - - - - - - - - - - - - - - - - - - - - - - - - - - - - - - - - - - - - - - - - - - - - - - - - - - - - - - - - - - - - - - - - - - - - - - - - - - - - - - - - - - - - - - - - - - - - - - - - - - - - - - - - - - - - - - - - - - - - - - - - - - - - - - - - - - - - - - - - - - - - - - - - - - - - - - - - - - - - - - - - - - - - - - - - - - - - - - - - - - - - - - - - - - - - - - - - - - - - - - - - - - - - - - - - - - - - - - - - - - - - - - - - - - - - - - - - - - - - - - - - - - - - - - - - - - - - - - - - - - - - - - - - - - - - - - - - - - - - - - - - - - - - - - - - - - - - - - - - - - - - - - - - - - - - - - - - - - - - - - - - - - - - - - - - - - - - - - - - - - - - - - - - - - - - - - - - - - - - - - - - - - - - - - - - - - - - - - - - - - - - - - - - - - - - - - - - - - - - - - - - - - - - - - - - - - - - - - - - - - - - - - - - - - - - - - - - - - - - - - - - - - - - - - - - - - - - - - - - - - - - - - - - - - - - - - - - - - - - - - - - - - - - - - - - - - - - - - - - - - - - - - - - - - - - - - - - - - - - - - - - - - - - - - - - - - - - - - - - - - - - - - - - - - - - - - - - - - - - - - - - - - - - - - - - - - - - - - - - - - - - - - - - - - - - - - - - - - - - - - - - - - - - - - - - - - - - - - - - - - - - - - - - - - - - - - - - - - - - - - - - - - - - - - - - - - - - - - - - - - - - - - - - - - - - - - - - - - - - - - - - - - - - - - - - - - - - - - - - - - - - - - - - - - - - - - - - - - - - - - - - - - - - - - - - - - - - - - - - - - - - - - - - - - - - - - - - - - - - - - - - - - - - - - - - - - - - - - - - - - - - - - - - - - - - - - - - - - - - - - - - - - - - - - - - - - - - - - - - - - - - - - - - - - - - - - - - - - - - - - - - - - - - - - - - - - - - - - - - - - - - - - - - - - - - - - - - - - - - - - - - - - - - - - - - - - - - - - - - - - - - - - - - - - - - - - - - - - - - - - - - - - - - - - - - - - - - - - - - - - - - - - - - - - - - - - - - - - - - - - - - - - - - - - - - - - - - - - - - - - - - - - - - - - - - - - - - - - - - - - - - - - - - - - - - - - - - - - - - - - - - - - - - - - - - - - - - - - - - - - - - - - - - - - - - - - - - - - - - - - - - - - - - - - - - - - - - - - - - - - - - - - - - - - - - - - - - - - - - - - - - - - - - - - - - - - - - - - - - - - - - - - - - - - - - - - - - - - - - - - - - - - - - - - - - - - - - - - - - - - - - - - - - - - - - - - - - - - - - - - - - - - - - - - - - - - - - - - - - - - - - - - - - - - - - - - - - - - - - - - - - - - - - - - - - - - - - - - - - - - - - - - - - - - - - - - - - - - - - - - - - - - - - - - - - - - - - - - - - - - - - - - - - - - - - - - - - - - - - - - - - - - - - - - - - - - - - - - - - - - - - - - - - - - - - - - - - - - - - - - - - - - - - - - - - - - - - - - - - - - - - - - - - - - - - - - - - - - - - - - - - - - - - - - - - - - - - - - - - - - - - - - - - - - - - - - - - - - - - - - - - - - - - - - - - - - - - - - - - - - - - - - - - - - - - - - - - - - - - - - - - - - - - - - - - - - - - - - - - - - - - - - - - - - - - - - - - - - - - - - - - - - - - - - - - - - - - - - - - - - - - - - - - - - - - - - - - - - - - - - - - - - - - - - - - - - - - - - - - - - - - - - - - - - - - - - - - - - - - - - - - - - - - - - - - - - - - - - - - - - - - - - - - - - - - - - - - - - - - - - - - - - - - - - - - - - - - - - - - - - - - - - - - - - - - - - - - - - - - - - - - - - - - - - - - - - - - - - - - - - - - - - - - - - - - - - - - - - - - - - - - - - - - - - - - - - - - - - - - - - - - - - - - - - - - - - - - - - - - - - - - - - - - - - - - - - - - - - - - - - - - - - - - - - - - - - - - - - - - - - - - - - - - - - - - - - - - - - - - - - - - - - - - - - - - - - - - - - - - - - - - - - - - - - - - - - - - - - - - - - - - - - - - - - - - - - - - - - - - - - - - - - - - - - - - - - - - - - - - - - - - - - - - - - - - - - - - - - - - - - - - - - - - - - - - - - - - - - - - - - - - - - - - - - - - - - - - - - - - - - - - - - - - - - - - - - - - - - - - - - - - - - - - - - - - - - - - - - - - - - - - - - - - - - - - - - - - - - - - - - - - - - - - - - - - - - - - - - - - - - - - - - - - - - - - - - - - - - - - - - - - - - - - - - - - - - - - - - - - - - - - - - - - - - - - - - - - - - - - - - - - - - - - - - - - - - - - - - - - - - - - - - - - - - - - - - - - - - - - - - - - - - - - - - - - - - - - - - - - - - - - - - - - - - - - - - - - - - - - - - - - - - - - - - - - - - - - - - - - - - - - - - - - - - - - - - - - - - - - - - - - - - - - - - - - - - - - - - - - - - - - - - - - - - - - - - - - - - - - - - - - - - - - - - - - - - - - - - - - - - - - - - - - - - - - - - - - - - - - - - - - - - - - - - - - - - - - - - - - - - - - - - - - - - - - - - - - - - - - - - - - - - - - - - - - - - - - - - - - - - - - - - - - - - - - - - - - - - - - - - - - - - - - - - - - - - - - - - - - - - - - - - - - - - - - - - - - - - - - - - - - - - - - - - - - - - - - - - - - - - - - - - - - - - - - - - - - - - - - - - - - - - - - - - - - - - - - - - - - - - - - - - - - - - - - - - - - - - - - - - - - - - - - - - - - - - - - - - - - - - - - - - - - - - - - - - - - - - - - - - - - - - - - - - - - - - - - - - - - - - - - - - - - - - - - - - - - - - - - - - - - - - - - - - - - - - - - - - - - - - - - - - - - - - - - - - - - - - - - - - - - - - - - - - - - - - - - - - - - - - - - - - - - - - - - - - - - - - - - - - - - - - - - - - - - - - - - - - - - - - - - - - - - - - - - - - - - - - - - - - - - - - - - - - - - - - - - - - - - - - - - - - - - - - - - - - - - - - - - - - - - - - - - - - - - - - - - - - - - - - - - - - - - - - - - - - - - - - - - - - - - - - - - - - - - - - - - - - - - - - - - - - - - - - - - - - - - - - - - - - - - - - - - - - - - - - - - - - - - - - - - - - - - - - - - - - - - - - - - - - - - - - - - - - - - - - - - - - - - - - - - - - - - - - - - - - - - - - - - - - - - - - - - - - - - - - - - - - - - - - - - - - - - - - - - - - - - - - - - - - - - - - - - - - - - - - - - - - - - - - - - - - - - - - - - - - - - - - - - - - - - - - - - - - - - - - - - - - - - - - - - - - - - - - - - - - - - - - - - - - - - - - - - - - - - - - - - - - - - - - - - - - - - - - - - - - - - - - - - - - - - - - - - - - - - - - - - - - - - - - - - - - - - - - - - - - - - - - - - - - - - - - - - - - - - - - - - - - - - - - - - - - - - - - - - - - - - - - - - - - - - - - - - - - - - - - - - - - - - - - - - - - - - - - - - - - - - - - - - - - - - - - - - - - - - - - - - - - - - - - - - - - - - - - - - - - - - - - - - - - - - - - - - - - - - - - - - - - - - - - - - - - - - - - - - - - - - - - - - - - - - - - - - - - - - - - - - - - - - - - - - - - - - - - - - - - - - - - - - - - - - - - - - - - - - - - - - - - - - - - - - - - - - - - - - - - - - - - - - - - - - - - - - - - - - - - - - - - - - - - - - - - - - - - - - - - - - - - - - - - - - - - - - - - - - - - - - - - - - - - - - - - - - - - - - - - - - - - - - - - - - - - - - - - - - - - - - - - - - - - - - - - - - - - - - - - - - - - - - - - - - - - - - - - - - - - - - - - - - - - - - - - - - - - - - - - - - - - - - - - - - - - - - - - - - - - - - - - - - - - - - - - - - - - - - - - - - - - - - - - - - - - - - - - - - - - - - - - - - - - - - - - - - - - - - - - - - - - - - - - - - - - - - - - - - - - - - - - - - - - - - - - - - - - - - - - - - - - - - - - - - - - - - - - - - - - - - - - - - - - - - - - - - - - - - - - - - - - - - - - - - - - - - - - - - - - - - - - - - - - - - - - - - - - - - - - - - - - - - - - - - - - - - - - - - - - - - - - - - - - - - - - - - - - - - - - - - - - - - - - - - - - - - - - - - - - - - - - - - - - - - - - - - - - - - - - - - - - - - - - - - - - - - - - - - - - - - - - - - - - - - - - - - - - - - - - - - - - - - - - - - - - - - - - - - - - - - - - - - - - - "
     ]
    }
   ],
   "source": [
    "speec=[]\n",
    "for file in sent_c:\n",
    "  \n",
    "    basename = os.path.basename(file)\n",
    "    speec.append(sentence(basename))\n",
    "    print('-',end=\" \")"
   ]
  },
  {
   "cell_type": "code",
   "execution_count": null,
   "metadata": {
    "id": "lnvDhwVmU3JN"
   },
   "outputs": [],
   "source": [
    "speec"
   ]
  },
  {
   "cell_type": "code",
   "execution_count": null,
   "metadata": {
    "id": "0CP5XffLUBVJ"
   },
   "outputs": [],
   "source": [
    "sent_c=sent.file.to_list()"
   ]
  },
  {
   "cell_type": "code",
   "execution_count": null,
   "metadata": {
    "id": "WCW1Hf9SUKpn"
   },
   "outputs": [],
   "source": [
    "key=sent_c[1]"
   ]
  },
  {
   "cell_type": "code",
   "execution_count": null,
   "metadata": {
    "colab": {
     "base_uri": "https://localhost:8080/",
     "height": 35
    },
    "id": "MOYG4mqWUMwt",
    "outputId": "964bbcf9-8553-4c6a-b0ec-334c844e7355"
   },
   "outputs": [
    {
     "data": {
      "application/vnd.google.colaboratory.intrinsic+json": {
       "type": "string"
      },
      "text/plain": [
       "'/content/drive/MyDrive/Proj DATA/AudioWAV_cremad/1086_TIE_SAD_XX.wav'"
      ]
     },
     "execution_count": 12,
     "metadata": {
      "tags": []
     },
     "output_type": "execute_result"
    }
   ],
   "source": [
    "key"
   ]
  },
  {
   "cell_type": "code",
   "execution_count": null,
   "metadata": {
    "colab": {
     "base_uri": "https://localhost:8080/"
    },
    "id": "PFdao30YUbvV",
    "outputId": "98485252-49c7-4c2a-b7db-9f247b627d9b"
   },
   "outputs": [
    {
     "name": "stdout",
     "output_type": "stream",
     "text": [
      "1086_TIE_SAD_XX.wav\n"
     ]
    }
   ],
   "source": [
    "l=os.path.basename(key)\n",
    "print(l)"
   ]
  },
  {
   "cell_type": "code",
   "execution_count": null,
   "metadata": {
    "colab": {
     "base_uri": "https://localhost:8080/",
     "height": 35
    },
    "id": "8w3wdhDUUhKV",
    "outputId": "7fc5a3f0-b423-439f-9ac7-a6bcc02ed784"
   },
   "outputs": [
    {
     "data": {
      "application/vnd.google.colaboratory.intrinsic+json": {
       "type": "string"
      },
      "text/plain": [
       "'TIE'"
      ]
     },
     "execution_count": 16,
     "metadata": {
      "tags": []
     },
     "output_type": "execute_result"
    }
   ],
   "source": [
    "l[5:8]"
   ]
  },
  {
   "cell_type": "code",
   "execution_count": null,
   "metadata": {
    "id": "A2pZ-YDSUsXt"
   },
   "outputs": [],
   "source": [
    "sent['speech']=speec"
   ]
  },
  {
   "cell_type": "code",
   "execution_count": null,
   "metadata": {
    "colab": {
     "base_uri": "https://localhost:8080/",
     "height": 528
    },
    "id": "2d3UQWMuVdIF",
    "outputId": "4acf6234-219c-47cd-e65f-0067afc8991d"
   },
   "outputs": [
    {
     "data": {
      "text/html": [
       "<div>\n",
       "<style scoped>\n",
       "    .dataframe tbody tr th:only-of-type {\n",
       "        vertical-align: middle;\n",
       "    }\n",
       "\n",
       "    .dataframe tbody tr th {\n",
       "        vertical-align: top;\n",
       "    }\n",
       "\n",
       "    .dataframe thead th {\n",
       "        text-align: right;\n",
       "    }\n",
       "</style>\n",
       "<table border=\"1\" class=\"dataframe\">\n",
       "  <thead>\n",
       "    <tr style=\"text-align: right;\">\n",
       "      <th></th>\n",
       "      <th>Unnamed: 0</th>\n",
       "      <th>Labels</th>\n",
       "      <th>Age</th>\n",
       "      <th>gender</th>\n",
       "      <th>file</th>\n",
       "      <th>speech</th>\n",
       "    </tr>\n",
       "  </thead>\n",
       "  <tbody>\n",
       "    <tr>\n",
       "      <th>3121</th>\n",
       "      <td>3121</td>\n",
       "      <td>angry</td>\n",
       "      <td>25</td>\n",
       "      <td>Male</td>\n",
       "      <td>/content/drive/MyDrive/Proj DATA/AudioWAV_crem...</td>\n",
       "      <td>That is exactly what happened</td>\n",
       "    </tr>\n",
       "    <tr>\n",
       "      <th>3441</th>\n",
       "      <td>3441</td>\n",
       "      <td>fearful</td>\n",
       "      <td>62</td>\n",
       "      <td>Male</td>\n",
       "      <td>/content/drive/MyDrive/Proj DATA/AudioWAV_crem...</td>\n",
       "      <td>I think I have a doctor's appointment</td>\n",
       "    </tr>\n",
       "    <tr>\n",
       "      <th>2274</th>\n",
       "      <td>2274</td>\n",
       "      <td>fearful</td>\n",
       "      <td>27</td>\n",
       "      <td>Male</td>\n",
       "      <td>/content/drive/MyDrive/Proj DATA/AudioWAV_crem...</td>\n",
       "      <td>It's eleven o'clock</td>\n",
       "    </tr>\n",
       "    <tr>\n",
       "      <th>3160</th>\n",
       "      <td>3160</td>\n",
       "      <td>sad</td>\n",
       "      <td>25</td>\n",
       "      <td>Male</td>\n",
       "      <td>/content/drive/MyDrive/Proj DATA/AudioWAV_crem...</td>\n",
       "      <td>The surface is slick</td>\n",
       "    </tr>\n",
       "    <tr>\n",
       "      <th>3823</th>\n",
       "      <td>3823</td>\n",
       "      <td>fearful</td>\n",
       "      <td>25</td>\n",
       "      <td>Female</td>\n",
       "      <td>/content/drive/MyDrive/Proj DATA/AudioWAV_crem...</td>\n",
       "      <td>I would like a new alarm clock</td>\n",
       "    </tr>\n",
       "    <tr>\n",
       "      <th>2689</th>\n",
       "      <td>2689</td>\n",
       "      <td>angry</td>\n",
       "      <td>56</td>\n",
       "      <td>Male</td>\n",
       "      <td>/content/drive/MyDrive/Proj DATA/AudioWAV_crem...</td>\n",
       "      <td>Don't forget a jacket</td>\n",
       "    </tr>\n",
       "    <tr>\n",
       "      <th>5158</th>\n",
       "      <td>5158</td>\n",
       "      <td>fearful</td>\n",
       "      <td>48</td>\n",
       "      <td>Female</td>\n",
       "      <td>/content/drive/MyDrive/Proj DATA/AudioWAV_crem...</td>\n",
       "      <td>I wonder what this is about</td>\n",
       "    </tr>\n",
       "    <tr>\n",
       "      <th>7243</th>\n",
       "      <td>7243</td>\n",
       "      <td>neutral</td>\n",
       "      <td>58</td>\n",
       "      <td>Female</td>\n",
       "      <td>/content/drive/MyDrive/Proj DATA/AudioWAV_crem...</td>\n",
       "      <td>I would like a new alarm clock</td>\n",
       "    </tr>\n",
       "    <tr>\n",
       "      <th>201</th>\n",
       "      <td>201</td>\n",
       "      <td>fearful</td>\n",
       "      <td>24</td>\n",
       "      <td>Female</td>\n",
       "      <td>/content/drive/MyDrive/Proj DATA/AudioWAV_crem...</td>\n",
       "      <td>It's eleven o'clock</td>\n",
       "    </tr>\n",
       "    <tr>\n",
       "      <th>5681</th>\n",
       "      <td>5681</td>\n",
       "      <td>fearful</td>\n",
       "      <td>30</td>\n",
       "      <td>Female</td>\n",
       "      <td>/content/drive/MyDrive/Proj DATA/AudioWAV_crem...</td>\n",
       "      <td>I think I've seen this before</td>\n",
       "    </tr>\n",
       "  </tbody>\n",
       "</table>\n",
       "</div>"
      ],
      "text/plain": [
       "      Unnamed: 0  ...                                 speech\n",
       "3121        3121  ...          That is exactly what happened\n",
       "3441        3441  ...  I think I have a doctor's appointment\n",
       "2274        2274  ...                    It's eleven o'clock\n",
       "3160        3160  ...                   The surface is slick\n",
       "3823        3823  ...         I would like a new alarm clock\n",
       "2689        2689  ...                  Don't forget a jacket\n",
       "5158        5158  ...            I wonder what this is about\n",
       "7243        7243  ...         I would like a new alarm clock\n",
       "201          201  ...                    It's eleven o'clock\n",
       "5681        5681  ...         I think I've seen this before \n",
       "\n",
       "[10 rows x 6 columns]"
      ]
     },
     "execution_count": 23,
     "metadata": {
      "tags": []
     },
     "output_type": "execute_result"
    }
   ],
   "source": [
    "sent.sample(10)"
   ]
  },
  {
   "cell_type": "code",
   "execution_count": null,
   "metadata": {
    "id": "CWCF-VgbVfus"
   },
   "outputs": [],
   "source": [
    "sent.to_csv('All_file_detail_with_speech.csv',index=False)"
   ]
  },
  {
   "cell_type": "markdown",
   "metadata": {
    "id": "d3FpQ1CmWdzs"
   },
   "source": [
    "# 3rd extraction\n",
    "\n"
   ]
  },
  {
   "cell_type": "code",
   "execution_count": null,
   "metadata": {
    "id": "vJWNNfLjJJvW"
   },
   "outputs": [],
   "source": [
    "dataset_db=pd.read_csv('/content/drive/MyDrive/Proj DATA/files_details.csv')"
   ]
  },
  {
   "cell_type": "code",
   "execution_count": null,
   "metadata": {
    "colab": {
     "base_uri": "https://localhost:8080/",
     "height": 195
    },
    "id": "3ESOaVruJu5_",
    "outputId": "46a566bb-1064-48b1-afb2-2ce18d514251"
   },
   "outputs": [
    {
     "data": {
      "text/html": [
       "<div>\n",
       "<style scoped>\n",
       "    .dataframe tbody tr th:only-of-type {\n",
       "        vertical-align: middle;\n",
       "    }\n",
       "\n",
       "    .dataframe tbody tr th {\n",
       "        vertical-align: top;\n",
       "    }\n",
       "\n",
       "    .dataframe thead th {\n",
       "        text-align: right;\n",
       "    }\n",
       "</style>\n",
       "<table border=\"1\" class=\"dataframe\">\n",
       "  <thead>\n",
       "    <tr style=\"text-align: right;\">\n",
       "      <th></th>\n",
       "      <th>Unnamed: 0</th>\n",
       "      <th>Labels</th>\n",
       "      <th>Age</th>\n",
       "      <th>gender</th>\n",
       "      <th>file</th>\n",
       "    </tr>\n",
       "  </thead>\n",
       "  <tbody>\n",
       "    <tr>\n",
       "      <th>0</th>\n",
       "      <td>0</td>\n",
       "      <td>happy</td>\n",
       "      <td>62</td>\n",
       "      <td>Male</td>\n",
       "      <td>/content/drive/MyDrive/Proj DATA/AudioWAV_crem...</td>\n",
       "    </tr>\n",
       "    <tr>\n",
       "      <th>1</th>\n",
       "      <td>1</td>\n",
       "      <td>sad</td>\n",
       "      <td>33</td>\n",
       "      <td>Male</td>\n",
       "      <td>/content/drive/MyDrive/Proj DATA/AudioWAV_crem...</td>\n",
       "    </tr>\n",
       "    <tr>\n",
       "      <th>2</th>\n",
       "      <td>2</td>\n",
       "      <td>disgust</td>\n",
       "      <td>62</td>\n",
       "      <td>Male</td>\n",
       "      <td>/content/drive/MyDrive/Proj DATA/AudioWAV_crem...</td>\n",
       "    </tr>\n",
       "    <tr>\n",
       "      <th>3</th>\n",
       "      <td>3</td>\n",
       "      <td>sad</td>\n",
       "      <td>62</td>\n",
       "      <td>Male</td>\n",
       "      <td>/content/drive/MyDrive/Proj DATA/AudioWAV_crem...</td>\n",
       "    </tr>\n",
       "    <tr>\n",
       "      <th>4</th>\n",
       "      <td>4</td>\n",
       "      <td>disgust</td>\n",
       "      <td>62</td>\n",
       "      <td>Male</td>\n",
       "      <td>/content/drive/MyDrive/Proj DATA/AudioWAV_crem...</td>\n",
       "    </tr>\n",
       "  </tbody>\n",
       "</table>\n",
       "</div>"
      ],
      "text/plain": [
       "   Unnamed: 0  ...                                               file\n",
       "0           0  ...  /content/drive/MyDrive/Proj DATA/AudioWAV_crem...\n",
       "1           1  ...  /content/drive/MyDrive/Proj DATA/AudioWAV_crem...\n",
       "2           2  ...  /content/drive/MyDrive/Proj DATA/AudioWAV_crem...\n",
       "3           3  ...  /content/drive/MyDrive/Proj DATA/AudioWAV_crem...\n",
       "4           4  ...  /content/drive/MyDrive/Proj DATA/AudioWAV_crem...\n",
       "\n",
       "[5 rows x 5 columns]"
      ]
     },
     "execution_count": 5,
     "metadata": {
      "tags": []
     },
     "output_type": "execute_result"
    }
   ],
   "source": [
    "dataset_db.head()"
   ]
  },
  {
   "cell_type": "code",
   "execution_count": null,
   "metadata": {
    "colab": {
     "base_uri": "https://localhost:8080/",
     "height": 35
    },
    "id": "YSZKktkbcTiU",
    "outputId": "d76d055e-d4e5-4649-9a3a-f6f1d5d425d6"
   },
   "outputs": [
    {
     "data": {
      "application/vnd.google.colaboratory.intrinsic+json": {
       "type": "string"
      },
      "text/plain": [
       "'/content/drive/MyDrive/Proj DATA/AudioWAV_cremad/1076_MTI_SAD_XX.wav'"
      ]
     },
     "execution_count": 13,
     "metadata": {
      "tags": []
     },
     "output_type": "execute_result"
    }
   ],
   "source": [
    "dataset_db.file[1066]"
   ]
  },
  {
   "cell_type": "code",
   "execution_count": null,
   "metadata": {
    "id": "lBwj_Ml-_vPh"
   },
   "outputs": [],
   "source": [
    "\n",
    "audio_duration = 3\n",
    "sampling_rate = 22050*2\n",
    "input_length = sampling_rate * audio_duration\n",
    "n_mfcc = 20"
   ]
  },
  {
   "cell_type": "code",
   "execution_count": null,
   "metadata": {
    "colab": {
     "base_uri": "https://localhost:8080/"
    },
    "id": "awB8NZo8_0RO",
    "outputId": "3ee92d31-8e07-48d2-ddc9-dba08400b173"
   },
   "outputs": [
    {
     "data": {
      "text/plain": [
       "(20, 259)"
      ]
     },
     "execution_count": 7,
     "metadata": {
      "tags": []
     },
     "output_type": "execute_result"
    }
   ],
   "source": [
    "\n",
    "data_sample= np.zeros(input_length)\n",
    "MFCC = librosa.feature.mfcc(data_sample, sr=sampling_rate, n_mfcc=n_mfcc)\n",
    "MFCC.shape"
   ]
  },
  {
   "cell_type": "code",
   "execution_count": null,
   "metadata": {
    "id": "5Ftn4J2Q_vGZ"
   },
   "outputs": [],
   "source": [
    "signal, sample_rate = librosa.load(dataset_db.file[52], res_type='kaiser_fast',sr=22050*2)\n",
    "signal,index = librosa.effects.trim(signal,top_db = 25)\n",
    "signal = scipy.signal.wiener(signal)\n",
    "\n",
    "if len(signal) > input_length:\n",
    "    signal = signal[0:input_length]\n",
    "elif  input_length > len(signal):\n",
    "    max_offset = input_length - len(signal)  \n",
    "    signal = np.pad(signal, (0, max_offset), \"constant\")"
   ]
  },
  {
   "cell_type": "code",
   "execution_count": null,
   "metadata": {
    "colab": {
     "base_uri": "https://localhost:8080/"
    },
    "id": "1f6914IsXovq",
    "outputId": "a9493d3d-f4a5-4615-b1c6-1b1e671bd570"
   },
   "outputs": [
    {
     "data": {
      "text/plain": [
       "array([-0.00190958, -0.00238412, -0.0025483 , ...,  0.        ,\n",
       "        0.        ,  0.        ])"
      ]
     },
     "execution_count": 9,
     "metadata": {
      "tags": []
     },
     "output_type": "execute_result"
    }
   ],
   "source": [
    "signal"
   ]
  },
  {
   "cell_type": "code",
   "execution_count": null,
   "metadata": {
    "id": "htVzTLakXomE"
   },
   "outputs": [],
   "source": []
  },
  {
   "cell_type": "code",
   "execution_count": null,
   "metadata": {
    "id": "Gu35UYKO_8zA"
   },
   "outputs": [],
   "source": [
    "\n",
    "import h5py\n",
    "with h5py.File('/content/gdrive/My Drive/Colab Notebooks/Ravdess_audio_full.h5', 'w') as hf:\n",
    "    hf.create_dataset(\"Ravdess_audio_data\",  data=audios)"
   ]
  },
  {
   "cell_type": "code",
   "execution_count": null,
   "metadata": {
    "id": "Md8QryBocSnE"
   },
   "outputs": [],
   "source": []
  },
  {
   "cell_type": "code",
   "execution_count": null,
   "metadata": {
    "id": "gmDM6wMyIyoW"
   },
   "outputs": [],
   "source": [
    "from tqdm import tqdm_notebook as tqdm\n"
   ]
  },
  {
   "cell_type": "code",
   "execution_count": null,
   "metadata": {
    "colab": {
     "base_uri": "https://localhost:8080/",
     "height": 590,
     "referenced_widgets": [
      "71aaaa3588854b3aaec2154aad60d1d7",
      "276eda39f6ad4068959959837cdb2208",
      "fdc0584ff3dc4aa1a2455b0f60ae71c0",
      "f10b34ae70b14ee7a87bff26b22b93c3",
      "7f57933c822d43a0bbe7ed2d13681e25",
      "7dd986f912ee49188feca24bf59e3045",
      "b3d1efb75cf44ebea5f97edffe62cb44",
      "978bd9ecbb07478f8a05524eca2fd9ec"
     ]
    },
    "id": "SHyso3-wItDx",
    "outputId": "68bedbf0-a9cc-4769-e92c-ece9ccf4f577"
   },
   "outputs": [
    {
     "name": "stderr",
     "output_type": "stream",
     "text": [
      "/usr/local/lib/python3.6/dist-packages/ipykernel_launcher.py:4: TqdmDeprecationWarning: This function will be removed in tqdm==5.0.0\n",
      "Please use `tqdm.notebook.tqdm` instead of `tqdm.tqdm_notebook`\n",
      "  after removing the cwd from sys.path.\n"
     ]
    },
    {
     "data": {
      "application/vnd.jupyter.widget-view+json": {
       "model_id": "71aaaa3588854b3aaec2154aad60d1d7",
       "version_major": 2,
       "version_minor": 0
      },
      "text/plain": [
       "HBox(children=(FloatProgress(value=0.0, max=7442.0), HTML(value='')))"
      ]
     },
     "metadata": {
      "tags": []
     },
     "output_type": "display_data"
    },
    {
     "name": "stderr",
     "output_type": "stream",
     "text": [
      "/usr/local/lib/python3.6/dist-packages/scipy/signal/signaltools.py:1456: RuntimeWarning: divide by zero encountered in true_divide\n",
      "  res *= (1 - noise / lVar)\n",
      "/usr/local/lib/python3.6/dist-packages/scipy/signal/signaltools.py:1456: RuntimeWarning: invalid value encountered in multiply\n",
      "  res *= (1 - noise / lVar)\n",
      "/usr/local/lib/python3.6/dist-packages/scipy/signal/signaltools.py:1456: RuntimeWarning: invalid value encountered in true_divide\n",
      "  res *= (1 - noise / lVar)\n"
     ]
    },
    {
     "ename": "ParameterError",
     "evalue": "ignored",
     "output_type": "error",
     "traceback": [
      "\u001b[0;31m---------------------------------------------------------------------------\u001b[0m",
      "\u001b[0;31mParameterError\u001b[0m                            Traceback (most recent call last)",
      "\u001b[0;32m<ipython-input-11-7701f1ce5cdd>\u001b[0m in \u001b[0;36m<module>\u001b[0;34m()\u001b[0m\n\u001b[1;32m     17\u001b[0m \u001b[0;34m\u001b[0m\u001b[0m\n\u001b[1;32m     18\u001b[0m \u001b[0;34m\u001b[0m\u001b[0m\n\u001b[0;32m---> 19\u001b[0;31m     \u001b[0mmelspec\u001b[0m \u001b[0;34m=\u001b[0m \u001b[0mlibrosa\u001b[0m\u001b[0;34m.\u001b[0m\u001b[0mfeature\u001b[0m\u001b[0;34m.\u001b[0m\u001b[0mmelspectrogram\u001b[0m\u001b[0;34m(\u001b[0m\u001b[0msignal\u001b[0m\u001b[0;34m.\u001b[0m\u001b[0mastype\u001b[0m\u001b[0;34m(\u001b[0m\u001b[0;34m'float32'\u001b[0m\u001b[0;34m)\u001b[0m\u001b[0;34m,\u001b[0m \u001b[0msr\u001b[0m\u001b[0;34m=\u001b[0m\u001b[0msample_rate\u001b[0m\u001b[0;34m,\u001b[0m \u001b[0mn_mels\u001b[0m\u001b[0;34m=\u001b[0m\u001b[0;36m128\u001b[0m\u001b[0;34m,\u001b[0m\u001b[0mn_fft\u001b[0m\u001b[0;34m=\u001b[0m\u001b[0;36m2048\u001b[0m\u001b[0;34m,\u001b[0m\u001b[0mhop_length\u001b[0m\u001b[0;34m=\u001b[0m\u001b[0;36m512\u001b[0m\u001b[0;34m)\u001b[0m\u001b[0;34m\u001b[0m\u001b[0;34m\u001b[0m\u001b[0m\n\u001b[0m\u001b[1;32m     20\u001b[0m     \u001b[0mlogspec\u001b[0m \u001b[0;34m=\u001b[0m \u001b[0mlibrosa\u001b[0m\u001b[0;34m.\u001b[0m\u001b[0mamplitude_to_db\u001b[0m\u001b[0;34m(\u001b[0m\u001b[0mmelspec\u001b[0m\u001b[0;34m)\u001b[0m\u001b[0;34m\u001b[0m\u001b[0;34m\u001b[0m\u001b[0m\n\u001b[1;32m     21\u001b[0m     \u001b[0mlogspec\u001b[0m \u001b[0;34m=\u001b[0m \u001b[0mnp\u001b[0m\u001b[0;34m.\u001b[0m\u001b[0mexpand_dims\u001b[0m\u001b[0;34m(\u001b[0m\u001b[0mlogspec\u001b[0m\u001b[0;34m,\u001b[0m \u001b[0maxis\u001b[0m\u001b[0;34m=\u001b[0m\u001b[0;34m-\u001b[0m\u001b[0;36m1\u001b[0m\u001b[0;34m)\u001b[0m\u001b[0;34m\u001b[0m\u001b[0;34m\u001b[0m\u001b[0m\n",
      "\u001b[0;32m/usr/local/lib/python3.6/dist-packages/librosa/feature/spectral.py\u001b[0m in \u001b[0;36mmelspectrogram\u001b[0;34m(y, sr, S, n_fft, hop_length, win_length, window, center, pad_mode, power, **kwargs)\u001b[0m\n\u001b[1;32m   2003\u001b[0m         \u001b[0mwindow\u001b[0m\u001b[0;34m=\u001b[0m\u001b[0mwindow\u001b[0m\u001b[0;34m,\u001b[0m\u001b[0;34m\u001b[0m\u001b[0;34m\u001b[0m\u001b[0m\n\u001b[1;32m   2004\u001b[0m         \u001b[0mcenter\u001b[0m\u001b[0;34m=\u001b[0m\u001b[0mcenter\u001b[0m\u001b[0;34m,\u001b[0m\u001b[0;34m\u001b[0m\u001b[0;34m\u001b[0m\u001b[0m\n\u001b[0;32m-> 2005\u001b[0;31m         \u001b[0mpad_mode\u001b[0m\u001b[0;34m=\u001b[0m\u001b[0mpad_mode\u001b[0m\u001b[0;34m,\u001b[0m\u001b[0;34m\u001b[0m\u001b[0;34m\u001b[0m\u001b[0m\n\u001b[0m\u001b[1;32m   2006\u001b[0m     )\n\u001b[1;32m   2007\u001b[0m \u001b[0;34m\u001b[0m\u001b[0m\n",
      "\u001b[0;32m/usr/local/lib/python3.6/dist-packages/librosa/core/spectrum.py\u001b[0m in \u001b[0;36m_spectrogram\u001b[0;34m(y, S, n_fft, hop_length, power, win_length, window, center, pad_mode)\u001b[0m\n\u001b[1;32m   2517\u001b[0m                     \u001b[0mcenter\u001b[0m\u001b[0;34m=\u001b[0m\u001b[0mcenter\u001b[0m\u001b[0;34m,\u001b[0m\u001b[0;34m\u001b[0m\u001b[0;34m\u001b[0m\u001b[0m\n\u001b[1;32m   2518\u001b[0m                     \u001b[0mwindow\u001b[0m\u001b[0;34m=\u001b[0m\u001b[0mwindow\u001b[0m\u001b[0;34m,\u001b[0m\u001b[0;34m\u001b[0m\u001b[0;34m\u001b[0m\u001b[0m\n\u001b[0;32m-> 2519\u001b[0;31m                     \u001b[0mpad_mode\u001b[0m\u001b[0;34m=\u001b[0m\u001b[0mpad_mode\u001b[0m\u001b[0;34m,\u001b[0m\u001b[0;34m\u001b[0m\u001b[0;34m\u001b[0m\u001b[0m\n\u001b[0m\u001b[1;32m   2520\u001b[0m                 )\n\u001b[1;32m   2521\u001b[0m             )\n",
      "\u001b[0;32m/usr/local/lib/python3.6/dist-packages/librosa/core/spectrum.py\u001b[0m in \u001b[0;36mstft\u001b[0;34m(y, n_fft, hop_length, win_length, window, center, dtype, pad_mode)\u001b[0m\n\u001b[1;32m    215\u001b[0m \u001b[0;34m\u001b[0m\u001b[0m\n\u001b[1;32m    216\u001b[0m     \u001b[0;31m# Check audio is valid\u001b[0m\u001b[0;34m\u001b[0m\u001b[0;34m\u001b[0m\u001b[0;34m\u001b[0m\u001b[0m\n\u001b[0;32m--> 217\u001b[0;31m     \u001b[0mutil\u001b[0m\u001b[0;34m.\u001b[0m\u001b[0mvalid_audio\u001b[0m\u001b[0;34m(\u001b[0m\u001b[0my\u001b[0m\u001b[0;34m)\u001b[0m\u001b[0;34m\u001b[0m\u001b[0;34m\u001b[0m\u001b[0m\n\u001b[0m\u001b[1;32m    218\u001b[0m \u001b[0;34m\u001b[0m\u001b[0m\n\u001b[1;32m    219\u001b[0m     \u001b[0;31m# Pad the time series so that frames are centered\u001b[0m\u001b[0;34m\u001b[0m\u001b[0;34m\u001b[0m\u001b[0;34m\u001b[0m\u001b[0m\n",
      "\u001b[0;32m/usr/local/lib/python3.6/dist-packages/librosa/util/utils.py\u001b[0m in \u001b[0;36mvalid_audio\u001b[0;34m(y, mono)\u001b[0m\n\u001b[1;32m    308\u001b[0m \u001b[0;34m\u001b[0m\u001b[0m\n\u001b[1;32m    309\u001b[0m     \u001b[0;32mif\u001b[0m \u001b[0;32mnot\u001b[0m \u001b[0mnp\u001b[0m\u001b[0;34m.\u001b[0m\u001b[0misfinite\u001b[0m\u001b[0;34m(\u001b[0m\u001b[0my\u001b[0m\u001b[0;34m)\u001b[0m\u001b[0;34m.\u001b[0m\u001b[0mall\u001b[0m\u001b[0;34m(\u001b[0m\u001b[0;34m)\u001b[0m\u001b[0;34m:\u001b[0m\u001b[0;34m\u001b[0m\u001b[0;34m\u001b[0m\u001b[0m\n\u001b[0;32m--> 310\u001b[0;31m         \u001b[0;32mraise\u001b[0m \u001b[0mParameterError\u001b[0m\u001b[0;34m(\u001b[0m\u001b[0;34m\"Audio buffer is not finite everywhere\"\u001b[0m\u001b[0;34m)\u001b[0m\u001b[0;34m\u001b[0m\u001b[0;34m\u001b[0m\u001b[0m\n\u001b[0m\u001b[1;32m    311\u001b[0m \u001b[0;34m\u001b[0m\u001b[0m\n\u001b[1;32m    312\u001b[0m     \u001b[0;32mreturn\u001b[0m \u001b[0;32mTrue\u001b[0m\u001b[0;34m\u001b[0m\u001b[0;34m\u001b[0m\u001b[0m\n",
      "\u001b[0;31mParameterError\u001b[0m: Audio buffer is not finite everywhere"
     ]
    }
   ],
   "source": [
    "audios= np.empty(shape=(dataset_db.shape[0],128, MFCC.shape[1], 1))\n",
    "\n",
    "count=0\n",
    "for i in tqdm(range(len(dataset_db))):\n",
    "    signal, sample_rate = librosa.load(dataset_db.file[i], res_type='kaiser_fast',sr=sampling_rate)\n",
    "    signal,index = librosa.effects.trim(signal,top_db = 25)\n",
    "    signal = scipy.signal.wiener(signal)\n",
    "    \n",
    "    if len(signal) > input_length:\n",
    "        signal = signal[0:input_length]\n",
    "    elif  input_length > len(signal):\n",
    "        max_offset = input_length - len(signal)  \n",
    "        signal = np.pad(signal, (0, max_offset), \"constant\")\n",
    "\n",
    "\n",
    "\n",
    "        \n",
    "\n",
    "    melspec = librosa.feature.melspectrogram(signal.astype('float32'), sr=sample_rate, n_mels=128,n_fft=2048,hop_length=512)   \n",
    "    logspec = librosa.amplitude_to_db(melspec)\n",
    "    logspec = np.expand_dims(logspec, axis=-1)\n",
    "    audios[count,] = logspec \n",
    "    count+=1"
   ]
  },
  {
   "cell_type": "markdown",
   "metadata": {
    "id": "tvUxR-ikATSU"
   },
   "source": [
    "# 4th extactrion"
   ]
  },
  {
   "cell_type": "code",
   "execution_count": null,
   "metadata": {
    "id": "QQuCRx5RATH_"
   },
   "outputs": [],
   "source": [
    "import librosa\n",
    "import librosa.display\n",
    "import numpy as np\n",
    "import matplotlib.pyplot as plt\n",
    "import pandas as pd\n",
    "from matplotlib.backend_bases import RendererBase\n",
    "from scipy import signal\n",
    "from scipy.io import wavfile\n",
    "import os\n",
    "from PIL import Image\n",
    "\n",
    "from scipy.fftpack import fft\n"
   ]
  },
  {
   "cell_type": "code",
   "execution_count": null,
   "metadata": {
    "id": "VoHv83nJA542"
   },
   "outputs": [],
   "source": [
    "data=pd.read_csv('/content/drive/MyDrive/Proj DATA/All_file_detail_with_speech.csv')"
   ]
  },
  {
   "cell_type": "code",
   "execution_count": null,
   "metadata": {
    "colab": {
     "base_uri": "https://localhost:8080/",
     "height": 343
    },
    "id": "bHNu97RLBIOH",
    "outputId": "df950fdb-27fb-4fde-d5cd-f47a6b87fb2d"
   },
   "outputs": [
    {
     "data": {
      "text/html": [
       "<div>\n",
       "<style scoped>\n",
       "    .dataframe tbody tr th:only-of-type {\n",
       "        vertical-align: middle;\n",
       "    }\n",
       "\n",
       "    .dataframe tbody tr th {\n",
       "        vertical-align: top;\n",
       "    }\n",
       "\n",
       "    .dataframe thead th {\n",
       "        text-align: right;\n",
       "    }\n",
       "</style>\n",
       "<table border=\"1\" class=\"dataframe\">\n",
       "  <thead>\n",
       "    <tr style=\"text-align: right;\">\n",
       "      <th></th>\n",
       "      <th>Unnamed: 0</th>\n",
       "      <th>Labels</th>\n",
       "      <th>Age</th>\n",
       "      <th>gender</th>\n",
       "      <th>file</th>\n",
       "      <th>speech</th>\n",
       "    </tr>\n",
       "  </thead>\n",
       "  <tbody>\n",
       "    <tr>\n",
       "      <th>5060</th>\n",
       "      <td>5060</td>\n",
       "      <td>sad</td>\n",
       "      <td>59</td>\n",
       "      <td>Female</td>\n",
       "      <td>/content/drive/MyDrive/Proj DATA/AudioWAV_crem...</td>\n",
       "      <td>I think I've seen this before</td>\n",
       "    </tr>\n",
       "    <tr>\n",
       "      <th>2830</th>\n",
       "      <td>2830</td>\n",
       "      <td>disgust</td>\n",
       "      <td>36</td>\n",
       "      <td>Female</td>\n",
       "      <td>/content/drive/MyDrive/Proj DATA/AudioWAV_crem...</td>\n",
       "      <td>It's eleven o'clock</td>\n",
       "    </tr>\n",
       "    <tr>\n",
       "      <th>3080</th>\n",
       "      <td>3080</td>\n",
       "      <td>fearful</td>\n",
       "      <td>57</td>\n",
       "      <td>Female</td>\n",
       "      <td>/content/drive/MyDrive/Proj DATA/AudioWAV_crem...</td>\n",
       "      <td>The surface is slick</td>\n",
       "    </tr>\n",
       "    <tr>\n",
       "      <th>1407</th>\n",
       "      <td>1407</td>\n",
       "      <td>sad</td>\n",
       "      <td>27</td>\n",
       "      <td>Male</td>\n",
       "      <td>/content/drive/MyDrive/Proj DATA/AudioWAV_crem...</td>\n",
       "      <td>Maybe tomorrow it will be cold</td>\n",
       "    </tr>\n",
       "    <tr>\n",
       "      <th>4807</th>\n",
       "      <td>4807</td>\n",
       "      <td>neutral</td>\n",
       "      <td>30</td>\n",
       "      <td>Male</td>\n",
       "      <td>/content/drive/MyDrive/Proj DATA/AudioWAV_crem...</td>\n",
       "      <td>We'll stop in a couple of minutes</td>\n",
       "    </tr>\n",
       "    <tr>\n",
       "      <th>5854</th>\n",
       "      <td>5854</td>\n",
       "      <td>disgust</td>\n",
       "      <td>22</td>\n",
       "      <td>Male</td>\n",
       "      <td>/content/drive/MyDrive/Proj DATA/AudioWAV_crem...</td>\n",
       "      <td>The airplane is almost full</td>\n",
       "    </tr>\n",
       "    <tr>\n",
       "      <th>5247</th>\n",
       "      <td>5247</td>\n",
       "      <td>disgust</td>\n",
       "      <td>44</td>\n",
       "      <td>Male</td>\n",
       "      <td>/content/drive/MyDrive/Proj DATA/AudioWAV_crem...</td>\n",
       "      <td>Don't forget a jacket</td>\n",
       "    </tr>\n",
       "    <tr>\n",
       "      <th>2171</th>\n",
       "      <td>2171</td>\n",
       "      <td>neutral</td>\n",
       "      <td>66</td>\n",
       "      <td>Male</td>\n",
       "      <td>/content/drive/MyDrive/Proj DATA/AudioWAV_crem...</td>\n",
       "      <td>The surface is slick</td>\n",
       "    </tr>\n",
       "    <tr>\n",
       "      <th>3380</th>\n",
       "      <td>3380</td>\n",
       "      <td>fearful</td>\n",
       "      <td>38</td>\n",
       "      <td>Male</td>\n",
       "      <td>/content/drive/MyDrive/Proj DATA/AudioWAV_crem...</td>\n",
       "      <td>The surface is slick</td>\n",
       "    </tr>\n",
       "    <tr>\n",
       "      <th>253</th>\n",
       "      <td>253</td>\n",
       "      <td>angry</td>\n",
       "      <td>24</td>\n",
       "      <td>Female</td>\n",
       "      <td>/content/drive/MyDrive/Proj DATA/AudioWAV_crem...</td>\n",
       "      <td>It's eleven o'clock</td>\n",
       "    </tr>\n",
       "  </tbody>\n",
       "</table>\n",
       "</div>"
      ],
      "text/plain": [
       "      Unnamed: 0  ...                             speech\n",
       "5060        5060  ...     I think I've seen this before \n",
       "2830        2830  ...                It's eleven o'clock\n",
       "3080        3080  ...               The surface is slick\n",
       "1407        1407  ...     Maybe tomorrow it will be cold\n",
       "4807        4807  ...  We'll stop in a couple of minutes\n",
       "5854        5854  ...        The airplane is almost full\n",
       "5247        5247  ...              Don't forget a jacket\n",
       "2171        2171  ...               The surface is slick\n",
       "3380        3380  ...               The surface is slick\n",
       "253          253  ...                It's eleven o'clock\n",
       "\n",
       "[10 rows x 6 columns]"
      ]
     },
     "execution_count": 7,
     "metadata": {
      "tags": []
     },
     "output_type": "execute_result"
    }
   ],
   "source": [
    "data.sample(10)"
   ]
  },
  {
   "cell_type": "code",
   "execution_count": null,
   "metadata": {
    "id": "JXLu9zgRJhjM"
   },
   "outputs": [],
   "source": [
    "def audio2spectrogram(filepath):\n",
    "    #fig = plt.figure(figsize=(5,5))\n",
    "    samplerate, test_sound  = wavfile.read(filepath,mmap=True)\n",
    "    #print('samplerate',samplerate)\n",
    "    _, spectrogram = log_specgram(test_sound, samplerate)\n",
    "    #print(spectrogram.shape)\n",
    "    #print(type(spectrogram))\n",
    "    #plt.imshow(spectrogram.T, aspect='auto', origin='lower')\n",
    "    return spectrogram\n",
    "    \n",
    "def audio2wave(filepath):\n",
    "    fig = plt.figure(figsize=(5,5))\n",
    "    samplerate, test_sound  = wavfile.read(filepath,mmap=True)\n",
    "    plt.plot(test_sound)"
   ]
  },
  {
   "cell_type": "code",
   "execution_count": null,
   "metadata": {
    "id": "pyApseKFJhle"
   },
   "outputs": [],
   "source": [
    "def log_specgram(audio, sample_rate, window_size=40,\n",
    "                 step_size=20, eps=1e-10):\n",
    "    nperseg = int(round(window_size * sample_rate / 1e3))\n",
    "    noverlap = int(round(step_size * sample_rate / 1e3))\n",
    "    #print('noverlap',noverlap)\n",
    "    #print('nperseg',nperseg)\n",
    "    freqs, _, spec = signal.spectrogram(audio,\n",
    "                                    fs=sample_rate,\n",
    "                                    window='hann',\n",
    "                                    nperseg=nperseg,\n",
    "                                    noverlap=noverlap,\n",
    "                                    detrend=False)\n",
    "    return freqs, np.log(spec.T.astype(np.float32) + eps)"
   ]
  },
  {
   "cell_type": "code",
   "execution_count": null,
   "metadata": {
    "id": "xpeBAa7zKGQc"
   },
   "outputs": [],
   "source": [
    "N_CHANNELS = 3\n",
    "def get_3d_spec(Sxx_in, moments=None):\n",
    "    if moments is not None:\n",
    "        (base_mean, base_std, delta_mean, delta_std,\n",
    "             delta2_mean, delta2_std) = moments\n",
    "    else:\n",
    "        base_mean, delta_mean, delta2_mean = (0, 0, 0)\n",
    "        base_std, delta_std, delta2_std = (1, 1, 1)\n",
    "    h, w = Sxx_in.shape\n",
    "    right1 = np.concatenate([Sxx_in[:, 0].reshape((h, -1)), Sxx_in], axis=1)[:, :-1]\n",
    "    delta = (Sxx_in - right1)[:, 1:]\n",
    "    delta_pad = delta[:, 0].reshape((h, -1))\n",
    "    delta = np.concatenate([delta_pad, delta], axis=1)\n",
    "    right2 = np.concatenate([delta[:, 0].reshape((h, -1)), delta], axis=1)[:, :-1]\n",
    "    delta2 = (delta - right2)[:, 1:]\n",
    "    delta2_pad = delta2[:, 0].reshape((h, -1))\n",
    "    delta2 = np.concatenate([delta2_pad, delta2], axis=1)\n",
    "    base = (Sxx_in - base_mean) / base_std\n",
    "    delta = (delta - delta_mean) / delta_std\n",
    "    delta2 = (delta2 - delta2_mean) / delta2_std\n",
    "    stacked = [arr.reshape((h, w, 1)) for arr in (base, delta, delta2)]\n",
    "    return np.concatenate(stacked, axis=2)\n",
    "#Spectrogram: one axis represents the time(X-axis), the second axis represents frequencies(Y-axis) and the colors represent magnitude (amplitude) of the observed frequency at a particular time\n",
    "\n",
    "#read the processed transcription file to collect the labels\n",
    "\n",
    "\n",
    "\n"
   ]
  },
  {
   "cell_type": "code",
   "execution_count": null,
   "metadata": {
    "id": "D3Q4Hzgc_950"
   },
   "outputs": [],
   "source": [
    "#EXTACT THE MFCC FEATURE USING LIBROSA\n",
    "\n",
    "\n",
    "no_rows=len(list_files)\n",
    "index=0\n",
    "sprectrogram_shape=[]\n",
    "docs = []\n",
    "bookmark=0\n",
    "extraLabel=0\n",
    "for everyFile in list_files:\n",
    "  if(everyFile.split('/')[-1].endswith('.wav')):\n",
    "    filename=everyFile.split('/')[-1].strip('.wav')\n",
    "    lable=df.loc[df['sessionID']==filename]['label'].values[0]\n",
    "    text=df.loc[df['sessionID']==filename]['text'].values[0]\n",
    "    print('label',lable)\n",
    "    if(lable!=-1):\n",
    "      #sprectrogram_shape.append(audio2spectrogram(everyFile))\n",
    "      spector=audio2spectrogram(everyFile)\n",
    "      spector=get_3d_spec(spector)\n",
    "      npimg = np.transpose(spector,(2,0,1))\n",
    "      input_tensor=torch.tensor(npimg)\n",
    "      input_batch = input_tensor.unsqueeze(0) # create a mini-batch as expected by the model\n",
    "      #X, sample_rate = librosa.load(everyFile, res_type='kaiser_fast',sr=22050*2)\n",
    "      #sample_rate = np.array(sample_rate)\n",
    "      #mfccs = np.mean(librosa.feature.mfcc(y=X,sr=sample_rate,n_mfcc=13),axis=0)\n",
    "      #feature = mfccs\n",
    "      docs.append({\n",
    "         'fileName':everyFile.split('/')[-1].strip('.wav'),\n",
    "         'text':text,\n",
    "         'sprectrome':input_batch,\n",
    "         'label':lable\n",
    "              })\n",
    "      index+=1\n",
    "      print('index',index)\n",
    "    else:\n",
    "      extraLabel=extraLabel+1\n",
    "      print('extraLabel',extraLabel)"
   ]
  },
  {
   "cell_type": "code",
   "execution_count": null,
   "metadata": {
    "id": "8ajSNDWohw6m"
   },
   "outputs": [],
   "source": []
  },
  {
   "cell_type": "markdown",
   "metadata": {
    "id": "oNlwLQ4DVj-P"
   },
   "source": [
    "# Data Genration 5"
   ]
  },
  {
   "cell_type": "code",
   "execution_count": null,
   "metadata": {
    "id": "4eRTJPD1h1lC"
   },
   "outputs": [],
   "source": [
    "df=pd.read_csv('/content/drive/MyDrive/Proj DATA/files_details.csv')"
   ]
  },
  {
   "cell_type": "code",
   "execution_count": null,
   "metadata": {
    "id": "TT-PsvM-iM-1"
   },
   "outputs": [],
   "source": []
  },
  {
   "cell_type": "markdown",
   "metadata": {
    "id": "Eqjz3OhxSZBx"
   },
   "source": [
    "# Labling and encoding\n"
   ]
  },
  {
   "cell_type": "code",
   "execution_count": null,
   "metadata": {
    "id": "R6rpXr3UwRRP"
   },
   "outputs": [],
   "source": [
    "dataset_dict = {\n",
    "    'Emotion_id':{ 0:'neutral', \n",
    "            1 : 'happy', \n",
    "            2: 'sad', \n",
    "            3: 'angry', \n",
    "            4: 'fearful' ,\n",
    "            5 :'disgust'}\n",
    "    ,\n",
    "    'gender_id': {\n",
    "        0: 'Male',\n",
    "        1: 'Female'\n",
    "    }\n",
    "}\n",
    "\n",
    "dataset_dict['gender_alias'] = dict((g, i) for i, g in dataset_dict['gender_id'].items())\n",
    "dataset_dict['Emotion_alias'] = dict((g, i) for i, g in dataset_dict['Emotion_id'].items())"
   ]
  },
  {
   "cell_type": "code",
   "execution_count": null,
   "metadata": {
    "id": "tQSkVyxtSoyT"
   },
   "outputs": [],
   "source": [
    "df['gender_id']= df['gender'].map(lambda gender: dataset_dict['gender_alias'][gender])\n",
    "df['Label_id']= df['Labels'].map(lambda race: dataset_dict['Emotion_alias'][race])\n",
    "        "
   ]
  },
  {
   "cell_type": "code",
   "execution_count": null,
   "metadata": {
    "colab": {
     "base_uri": "https://localhost:8080/",
     "height": 343
    },
    "id": "g9hRqrMqEwZj",
    "outputId": "dd509a67-3f91-4766-ee23-7fee632dec02"
   },
   "outputs": [
    {
     "data": {
      "text/html": [
       "<div>\n",
       "<style scoped>\n",
       "    .dataframe tbody tr th:only-of-type {\n",
       "        vertical-align: middle;\n",
       "    }\n",
       "\n",
       "    .dataframe tbody tr th {\n",
       "        vertical-align: top;\n",
       "    }\n",
       "\n",
       "    .dataframe thead th {\n",
       "        text-align: right;\n",
       "    }\n",
       "</style>\n",
       "<table border=\"1\" class=\"dataframe\">\n",
       "  <thead>\n",
       "    <tr style=\"text-align: right;\">\n",
       "      <th></th>\n",
       "      <th>Unnamed: 0</th>\n",
       "      <th>Labels</th>\n",
       "      <th>Age</th>\n",
       "      <th>gender</th>\n",
       "      <th>file</th>\n",
       "      <th>gender_id</th>\n",
       "      <th>Label_id</th>\n",
       "    </tr>\n",
       "  </thead>\n",
       "  <tbody>\n",
       "    <tr>\n",
       "      <th>4240</th>\n",
       "      <td>4240</td>\n",
       "      <td>neutral</td>\n",
       "      <td>49</td>\n",
       "      <td>Male</td>\n",
       "      <td>/content/drive/MyDrive/Proj DATA/AudioWAV_crem...</td>\n",
       "      <td>0</td>\n",
       "      <td>0</td>\n",
       "    </tr>\n",
       "    <tr>\n",
       "      <th>4948</th>\n",
       "      <td>4948</td>\n",
       "      <td>sad</td>\n",
       "      <td>74</td>\n",
       "      <td>Male</td>\n",
       "      <td>/content/drive/MyDrive/Proj DATA/AudioWAV_crem...</td>\n",
       "      <td>0</td>\n",
       "      <td>2</td>\n",
       "    </tr>\n",
       "    <tr>\n",
       "      <th>4622</th>\n",
       "      <td>4622</td>\n",
       "      <td>happy</td>\n",
       "      <td>31</td>\n",
       "      <td>Male</td>\n",
       "      <td>/content/drive/MyDrive/Proj DATA/AudioWAV_crem...</td>\n",
       "      <td>0</td>\n",
       "      <td>1</td>\n",
       "    </tr>\n",
       "    <tr>\n",
       "      <th>6924</th>\n",
       "      <td>6924</td>\n",
       "      <td>fearful</td>\n",
       "      <td>21</td>\n",
       "      <td>Female</td>\n",
       "      <td>/content/drive/MyDrive/Proj DATA/AudioWAV_crem...</td>\n",
       "      <td>1</td>\n",
       "      <td>4</td>\n",
       "    </tr>\n",
       "    <tr>\n",
       "      <th>5986</th>\n",
       "      <td>5986</td>\n",
       "      <td>happy</td>\n",
       "      <td>22</td>\n",
       "      <td>Female</td>\n",
       "      <td>/content/drive/MyDrive/Proj DATA/AudioWAV_crem...</td>\n",
       "      <td>1</td>\n",
       "      <td>1</td>\n",
       "    </tr>\n",
       "    <tr>\n",
       "      <th>5850</th>\n",
       "      <td>5850</td>\n",
       "      <td>disgust</td>\n",
       "      <td>22</td>\n",
       "      <td>Male</td>\n",
       "      <td>/content/drive/MyDrive/Proj DATA/AudioWAV_crem...</td>\n",
       "      <td>0</td>\n",
       "      <td>5</td>\n",
       "    </tr>\n",
       "    <tr>\n",
       "      <th>1006</th>\n",
       "      <td>1006</td>\n",
       "      <td>sad</td>\n",
       "      <td>25</td>\n",
       "      <td>Female</td>\n",
       "      <td>/content/drive/MyDrive/Proj DATA/AudioWAV_crem...</td>\n",
       "      <td>1</td>\n",
       "      <td>2</td>\n",
       "    </tr>\n",
       "    <tr>\n",
       "      <th>1642</th>\n",
       "      <td>1642</td>\n",
       "      <td>sad</td>\n",
       "      <td>33</td>\n",
       "      <td>Female</td>\n",
       "      <td>/content/drive/MyDrive/Proj DATA/AudioWAV_crem...</td>\n",
       "      <td>1</td>\n",
       "      <td>2</td>\n",
       "    </tr>\n",
       "    <tr>\n",
       "      <th>5949</th>\n",
       "      <td>5949</td>\n",
       "      <td>angry</td>\n",
       "      <td>59</td>\n",
       "      <td>Female</td>\n",
       "      <td>/content/drive/MyDrive/Proj DATA/AudioWAV_crem...</td>\n",
       "      <td>1</td>\n",
       "      <td>3</td>\n",
       "    </tr>\n",
       "    <tr>\n",
       "      <th>2015</th>\n",
       "      <td>2015</td>\n",
       "      <td>sad</td>\n",
       "      <td>25</td>\n",
       "      <td>Male</td>\n",
       "      <td>/content/drive/MyDrive/Proj DATA/AudioWAV_crem...</td>\n",
       "      <td>0</td>\n",
       "      <td>2</td>\n",
       "    </tr>\n",
       "  </tbody>\n",
       "</table>\n",
       "</div>"
      ],
      "text/plain": [
       "      Unnamed: 0   Labels  ...  gender_id Label_id\n",
       "4240        4240  neutral  ...          0        0\n",
       "4948        4948      sad  ...          0        2\n",
       "4622        4622    happy  ...          0        1\n",
       "6924        6924  fearful  ...          1        4\n",
       "5986        5986    happy  ...          1        1\n",
       "5850        5850  disgust  ...          0        5\n",
       "1006        1006      sad  ...          1        2\n",
       "1642        1642      sad  ...          1        2\n",
       "5949        5949    angry  ...          1        3\n",
       "2015        2015      sad  ...          0        2\n",
       "\n",
       "[10 rows x 7 columns]"
      ]
     },
     "execution_count": 7,
     "metadata": {
      "tags": []
     },
     "output_type": "execute_result"
    }
   ],
   "source": [
    "df.sample(10)"
   ]
  },
  {
   "cell_type": "code",
   "execution_count": null,
   "metadata": {
    "colab": {
     "base_uri": "https://localhost:8080/"
    },
    "id": "nvjf3OPnEzKQ",
    "outputId": "730971ee-4358-472c-c515-5decae514bdc"
   },
   "outputs": [
    {
     "data": {
      "text/plain": [
       "array(['happy', 'sad', 'disgust', 'angry', 'fearful', 'neutral'],\n",
       "      dtype=object)"
      ]
     },
     "execution_count": 8,
     "metadata": {
      "tags": []
     },
     "output_type": "execute_result"
    }
   ],
   "source": [
    "df.Labels.unique()"
   ]
  },
  {
   "cell_type": "code",
   "execution_count": null,
   "metadata": {
    "colab": {
     "base_uri": "https://localhost:8080/"
    },
    "id": "3bZ7MCpaKeZe",
    "outputId": "87a6f703-fd7a-4f9f-9956-8a53c91a963d"
   },
   "outputs": [
    {
     "data": {
      "text/plain": [
       "happy      1271\n",
       "angry      1271\n",
       "disgust    1271\n",
       "fearful    1271\n",
       "sad        1271\n",
       "neutral    1087\n",
       "Name: Labels, dtype: int64"
      ]
     },
     "execution_count": 8,
     "metadata": {
      "tags": []
     },
     "output_type": "execute_result"
    }
   ],
   "source": [
    "df.Labels.value_counts()"
   ]
  },
  {
   "cell_type": "code",
   "execution_count": null,
   "metadata": {
    "colab": {
     "base_uri": "https://localhost:8080/"
    },
    "id": "2mQymleZFAbI",
    "outputId": "8efa2cdf-1e31-47ff-8d33-efcb403bdced"
   },
   "outputs": [
    {
     "data": {
      "text/plain": [
       "array([1, 2, 5, 3, 4, 0])"
      ]
     },
     "execution_count": 11,
     "metadata": {
      "tags": []
     },
     "output_type": "execute_result"
    }
   ],
   "source": [
    "df.Label_id.unique()"
   ]
  },
  {
   "cell_type": "code",
   "execution_count": null,
   "metadata": {
    "id": "pI7fhqMNFTUY"
   },
   "outputs": [],
   "source": [
    "from sklearn.model_selection import train_test_split\n",
    "trainin,valind=train_test_split(df,test_size=0.3,random_state=20)"
   ]
  },
  {
   "cell_type": "code",
   "execution_count": null,
   "metadata": {
    "colab": {
     "base_uri": "https://localhost:8080/",
     "height": 402
    },
    "id": "Ro4gSmhIjD83",
    "outputId": "c2b35c65-8064-4b52-93dc-12948bd0f383"
   },
   "outputs": [
    {
     "data": {
      "text/html": [
       "<div>\n",
       "<style scoped>\n",
       "    .dataframe tbody tr th:only-of-type {\n",
       "        vertical-align: middle;\n",
       "    }\n",
       "\n",
       "    .dataframe tbody tr th {\n",
       "        vertical-align: top;\n",
       "    }\n",
       "\n",
       "    .dataframe thead th {\n",
       "        text-align: right;\n",
       "    }\n",
       "</style>\n",
       "<table border=\"1\" class=\"dataframe\">\n",
       "  <thead>\n",
       "    <tr style=\"text-align: right;\">\n",
       "      <th></th>\n",
       "      <th>Unnamed: 0</th>\n",
       "      <th>Labels</th>\n",
       "      <th>Age</th>\n",
       "      <th>gender</th>\n",
       "      <th>file</th>\n",
       "      <th>gender_id</th>\n",
       "      <th>Label_id</th>\n",
       "    </tr>\n",
       "  </thead>\n",
       "  <tbody>\n",
       "    <tr>\n",
       "      <th>255</th>\n",
       "      <td>255</td>\n",
       "      <td>happy</td>\n",
       "      <td>24</td>\n",
       "      <td>Female</td>\n",
       "      <td>/content/drive/MyDrive/Proj DATA/AudioWAV_crem...</td>\n",
       "      <td>1</td>\n",
       "      <td>1</td>\n",
       "    </tr>\n",
       "    <tr>\n",
       "      <th>6610</th>\n",
       "      <td>6610</td>\n",
       "      <td>fearful</td>\n",
       "      <td>24</td>\n",
       "      <td>Female</td>\n",
       "      <td>/content/drive/MyDrive/Proj DATA/AudioWAV_crem...</td>\n",
       "      <td>1</td>\n",
       "      <td>4</td>\n",
       "    </tr>\n",
       "    <tr>\n",
       "      <th>3309</th>\n",
       "      <td>3309</td>\n",
       "      <td>sad</td>\n",
       "      <td>22</td>\n",
       "      <td>Female</td>\n",
       "      <td>/content/drive/MyDrive/Proj DATA/AudioWAV_crem...</td>\n",
       "      <td>1</td>\n",
       "      <td>2</td>\n",
       "    </tr>\n",
       "    <tr>\n",
       "      <th>5173</th>\n",
       "      <td>5173</td>\n",
       "      <td>angry</td>\n",
       "      <td>33</td>\n",
       "      <td>Male</td>\n",
       "      <td>/content/drive/MyDrive/Proj DATA/AudioWAV_crem...</td>\n",
       "      <td>0</td>\n",
       "      <td>3</td>\n",
       "    </tr>\n",
       "    <tr>\n",
       "      <th>2240</th>\n",
       "      <td>2240</td>\n",
       "      <td>fearful</td>\n",
       "      <td>27</td>\n",
       "      <td>Male</td>\n",
       "      <td>/content/drive/MyDrive/Proj DATA/AudioWAV_crem...</td>\n",
       "      <td>0</td>\n",
       "      <td>4</td>\n",
       "    </tr>\n",
       "    <tr>\n",
       "      <th>...</th>\n",
       "      <td>...</td>\n",
       "      <td>...</td>\n",
       "      <td>...</td>\n",
       "      <td>...</td>\n",
       "      <td>...</td>\n",
       "      <td>...</td>\n",
       "      <td>...</td>\n",
       "    </tr>\n",
       "    <tr>\n",
       "      <th>7386</th>\n",
       "      <td>7386</td>\n",
       "      <td>angry</td>\n",
       "      <td>51</td>\n",
       "      <td>Male</td>\n",
       "      <td>/content/drive/MyDrive/Proj DATA/AudioWAV_crem...</td>\n",
       "      <td>0</td>\n",
       "      <td>3</td>\n",
       "    </tr>\n",
       "    <tr>\n",
       "      <th>7068</th>\n",
       "      <td>7068</td>\n",
       "      <td>disgust</td>\n",
       "      <td>42</td>\n",
       "      <td>Female</td>\n",
       "      <td>/content/drive/MyDrive/Proj DATA/AudioWAV_crem...</td>\n",
       "      <td>1</td>\n",
       "      <td>5</td>\n",
       "    </tr>\n",
       "    <tr>\n",
       "      <th>7391</th>\n",
       "      <td>7391</td>\n",
       "      <td>neutral</td>\n",
       "      <td>51</td>\n",
       "      <td>Male</td>\n",
       "      <td>/content/drive/MyDrive/Proj DATA/AudioWAV_crem...</td>\n",
       "      <td>0</td>\n",
       "      <td>0</td>\n",
       "    </tr>\n",
       "    <tr>\n",
       "      <th>4367</th>\n",
       "      <td>4367</td>\n",
       "      <td>fearful</td>\n",
       "      <td>21</td>\n",
       "      <td>Male</td>\n",
       "      <td>/content/drive/MyDrive/Proj DATA/AudioWAV_crem...</td>\n",
       "      <td>0</td>\n",
       "      <td>4</td>\n",
       "    </tr>\n",
       "    <tr>\n",
       "      <th>2522</th>\n",
       "      <td>2522</td>\n",
       "      <td>angry</td>\n",
       "      <td>51</td>\n",
       "      <td>Female</td>\n",
       "      <td>/content/drive/MyDrive/Proj DATA/AudioWAV_crem...</td>\n",
       "      <td>1</td>\n",
       "      <td>3</td>\n",
       "    </tr>\n",
       "  </tbody>\n",
       "</table>\n",
       "<p>5209 rows × 7 columns</p>\n",
       "</div>"
      ],
      "text/plain": [
       "      Unnamed: 0   Labels  ...  gender_id Label_id\n",
       "255          255    happy  ...          1        1\n",
       "6610        6610  fearful  ...          1        4\n",
       "3309        3309      sad  ...          1        2\n",
       "5173        5173    angry  ...          0        3\n",
       "2240        2240  fearful  ...          0        4\n",
       "...          ...      ...  ...        ...      ...\n",
       "7386        7386    angry  ...          0        3\n",
       "7068        7068  disgust  ...          1        5\n",
       "7391        7391  neutral  ...          0        0\n",
       "4367        4367  fearful  ...          0        4\n",
       "2522        2522    angry  ...          1        3\n",
       "\n",
       "[5209 rows x 7 columns]"
      ]
     },
     "execution_count": 8,
     "metadata": {
      "tags": []
     },
     "output_type": "execute_result"
    }
   ],
   "source": [
    "trainin"
   ]
  },
  {
   "cell_type": "code",
   "execution_count": null,
   "metadata": {
    "id": "4LmDvEgaTsY2"
   },
   "outputs": [],
   "source": [
    "#to get index of the data for tranig and test\n",
    "def genrate_Split_idx(df,TRAIN_TEST_SPLIT):\n",
    "    p = np.random.permutation(len(df))\n",
    "\n",
    "    train_up_to = int(len(df) * TRAIN_TEST_SPLIT)\n",
    "    train_idx, valid_idx = p[:train_up_to], p[train_up_to:]\n",
    "\n",
    "    return train_idx,valid_idx\n",
    "\n",
    "     \n"
   ]
  },
  {
   "cell_type": "code",
   "execution_count": null,
   "metadata": {
    "id": "in6rO2SIHET6"
   },
   "outputs": [],
   "source": [
    "np.random.seed(20)\n",
    "train_ind,val_ind=genrate_Split_idx(df,0.7)"
   ]
  },
  {
   "cell_type": "code",
   "execution_count": null,
   "metadata": {
    "id": "loIRiaUzDdOU"
   },
   "outputs": [],
   "source": [
    "# Feature extraction of  a file\n",
    "def fearture_extrack(file_path):\n",
    "    SAMPLE_RATE = 22050\n",
    "    \n",
    "    signal,sr=librosa.load(file_path,sr=SAMPLE_RATE)\n",
    "\n",
    "    MFCC=librosa.feature.mfcc(signal,sr,n_mfcc=18,n_fft=2048,hop_length=512)\n",
    "    MFCC=np.pad(MFCC,(0,0))\n",
    "    MFCC=MFCC.T\n",
    "    \n",
    "    #new type\n",
    "     signal, sample_rate = librosa.load(file_path)\n",
    "\n",
    "                # drop audio files with less than pre-decided number of samples\n",
    "                if len(signal) >= SAMPLES_TO_CONSIDER:\n",
    "\n",
    "                    # ensure consistency of the length of the signal\n",
    "                    signal = signal[:SAMPLES_TO_CONSIDER]\n",
    "\n",
    "                    # extract MFCCs\n",
    "                    MFCCs = librosa.feature.mfcc(signal, sample_rate, n_mfcc=num_mfcc, n_fft=n_fft,\n",
    "                                                 hop_length=hop_length)\n",
    "\n",
    "    return MFCC"
   ]
  },
  {
   "cell_type": "code",
   "execution_count": null,
   "metadata": {
    "id": "nQndy4XhUpM9"
   },
   "outputs": [],
   "source": [
    "# start find max lenght\n",
    "def padding_n_reshape(audio_list):\n",
    "    l=[]\n",
    "\n",
    "    for i in range(len(audio_list)):\n",
    "        l.append(audio_list[i].shape[0])\n",
    "    maxy=max(l)\n",
    "    #print(maxy)\n",
    "\n",
    "    #padding\n",
    "\n",
    "    npp=[]\n",
    "    for i in audio_list:\n",
    "        result = np.zeros((maxy,18))\n",
    "        result[:i.shape[0],:i.shape[1]] = i\n",
    "        npp.append(result)\n",
    "\n",
    "    #retutn tensor\n",
    "    newarr=np.array(npp)\n",
    "\n",
    "    new=np.reshape(newarr,(newarr.shape[0],newarr.shape[1],newarr.shape[2],1))\n",
    "    \n",
    "    return new"
   ]
  },
  {
   "cell_type": "code",
   "execution_count": null,
   "metadata": {
    "id": "V9DuQYzsU7ot"
   },
   "outputs": [],
   "source": []
  },
  {
   "cell_type": "code",
   "execution_count": null,
   "metadata": {
    "id": "onutwUJIDwkV"
   },
   "outputs": [],
   "source": [
    "# genrator for data passing into model traning\n",
    "from keras.utils import to_categorical\n",
    "from tensorflow import convert_to_tensor\n",
    "def return_data(data_frame):\n",
    "\n",
    "    filea,age,sex,label=[],[],[],[]#filea,label=[],[]\n",
    "    \n",
    "    for inx,row in data_frame.iterrows():\n",
    "    \n",
    "        ag=row['Age']\n",
    "        gen=row['gender_id']\n",
    "        emot=row['Label_id']\n",
    "        file=row['file']\n",
    "        data=fearture_extrack(file)\n",
    "\n",
    "        age.append(ag)\n",
    "        label.append(to_categorical(emot,len(df.Labels.unique())))\n",
    "        sex.append(to_categorical(gen,len(df.gender.unique())))\n",
    "        filea.append(data)  \n",
    "    ret_data=padding_n_reshape(filea)\n",
    "    print(ret_data.shape)\n",
    "    return ret_data,[np.array(age,dtype=np.float32),np.array(sex,dtype=np.float32),np.array(label,dtype=np.float32)]\n",
    "    #filea,age,sex,label=[],[],[],[]#filea,label=[],[]"
   ]
  },
  {
   "cell_type": "code",
   "execution_count": null,
   "metadata": {
    "id": "B9P2JtdrnY73"
   },
   "outputs": [],
   "source": [
    "dem=trainin.sample(10)"
   ]
  },
  {
   "cell_type": "code",
   "execution_count": null,
   "metadata": {
    "colab": {
     "base_uri": "https://localhost:8080/",
     "height": 343
    },
    "id": "5gs1VoerntkM",
    "outputId": "2900172a-6623-47d6-8aee-0bc9983dccce"
   },
   "outputs": [
    {
     "data": {
      "text/html": [
       "<div>\n",
       "<style scoped>\n",
       "    .dataframe tbody tr th:only-of-type {\n",
       "        vertical-align: middle;\n",
       "    }\n",
       "\n",
       "    .dataframe tbody tr th {\n",
       "        vertical-align: top;\n",
       "    }\n",
       "\n",
       "    .dataframe thead th {\n",
       "        text-align: right;\n",
       "    }\n",
       "</style>\n",
       "<table border=\"1\" class=\"dataframe\">\n",
       "  <thead>\n",
       "    <tr style=\"text-align: right;\">\n",
       "      <th></th>\n",
       "      <th>Unnamed: 0</th>\n",
       "      <th>Labels</th>\n",
       "      <th>Age</th>\n",
       "      <th>gender</th>\n",
       "      <th>file</th>\n",
       "      <th>gender_id</th>\n",
       "      <th>Label_id</th>\n",
       "    </tr>\n",
       "  </thead>\n",
       "  <tbody>\n",
       "    <tr>\n",
       "      <th>3827</th>\n",
       "      <td>3827</td>\n",
       "      <td>sad</td>\n",
       "      <td>25</td>\n",
       "      <td>Female</td>\n",
       "      <td>/content/drive/MyDrive/Proj DATA/AudioWAV_crem...</td>\n",
       "      <td>1</td>\n",
       "      <td>2</td>\n",
       "    </tr>\n",
       "    <tr>\n",
       "      <th>6740</th>\n",
       "      <td>6740</td>\n",
       "      <td>neutral</td>\n",
       "      <td>27</td>\n",
       "      <td>Female</td>\n",
       "      <td>/content/drive/MyDrive/Proj DATA/AudioWAV_crem...</td>\n",
       "      <td>1</td>\n",
       "      <td>0</td>\n",
       "    </tr>\n",
       "    <tr>\n",
       "      <th>6932</th>\n",
       "      <td>6932</td>\n",
       "      <td>sad</td>\n",
       "      <td>21</td>\n",
       "      <td>Female</td>\n",
       "      <td>/content/drive/MyDrive/Proj DATA/AudioWAV_crem...</td>\n",
       "      <td>1</td>\n",
       "      <td>2</td>\n",
       "    </tr>\n",
       "    <tr>\n",
       "      <th>505</th>\n",
       "      <td>505</td>\n",
       "      <td>neutral</td>\n",
       "      <td>30</td>\n",
       "      <td>Male</td>\n",
       "      <td>/content/drive/MyDrive/Proj DATA/AudioWAV_crem...</td>\n",
       "      <td>0</td>\n",
       "      <td>0</td>\n",
       "    </tr>\n",
       "    <tr>\n",
       "      <th>4351</th>\n",
       "      <td>4351</td>\n",
       "      <td>happy</td>\n",
       "      <td>21</td>\n",
       "      <td>Male</td>\n",
       "      <td>/content/drive/MyDrive/Proj DATA/AudioWAV_crem...</td>\n",
       "      <td>0</td>\n",
       "      <td>1</td>\n",
       "    </tr>\n",
       "    <tr>\n",
       "      <th>3271</th>\n",
       "      <td>3271</td>\n",
       "      <td>happy</td>\n",
       "      <td>22</td>\n",
       "      <td>Female</td>\n",
       "      <td>/content/drive/MyDrive/Proj DATA/AudioWAV_crem...</td>\n",
       "      <td>1</td>\n",
       "      <td>1</td>\n",
       "    </tr>\n",
       "    <tr>\n",
       "      <th>6422</th>\n",
       "      <td>6422</td>\n",
       "      <td>sad</td>\n",
       "      <td>25</td>\n",
       "      <td>Female</td>\n",
       "      <td>/content/drive/MyDrive/Proj DATA/AudioWAV_crem...</td>\n",
       "      <td>1</td>\n",
       "      <td>2</td>\n",
       "    </tr>\n",
       "    <tr>\n",
       "      <th>6900</th>\n",
       "      <td>6900</td>\n",
       "      <td>disgust</td>\n",
       "      <td>21</td>\n",
       "      <td>Female</td>\n",
       "      <td>/content/drive/MyDrive/Proj DATA/AudioWAV_crem...</td>\n",
       "      <td>1</td>\n",
       "      <td>5</td>\n",
       "    </tr>\n",
       "    <tr>\n",
       "      <th>2823</th>\n",
       "      <td>2823</td>\n",
       "      <td>disgust</td>\n",
       "      <td>35</td>\n",
       "      <td>Female</td>\n",
       "      <td>/content/drive/MyDrive/Proj DATA/AudioWAV_crem...</td>\n",
       "      <td>1</td>\n",
       "      <td>5</td>\n",
       "    </tr>\n",
       "    <tr>\n",
       "      <th>1424</th>\n",
       "      <td>1424</td>\n",
       "      <td>sad</td>\n",
       "      <td>27</td>\n",
       "      <td>Male</td>\n",
       "      <td>/content/drive/MyDrive/Proj DATA/AudioWAV_crem...</td>\n",
       "      <td>0</td>\n",
       "      <td>2</td>\n",
       "    </tr>\n",
       "  </tbody>\n",
       "</table>\n",
       "</div>"
      ],
      "text/plain": [
       "      Unnamed: 0   Labels  ...  gender_id Label_id\n",
       "3827        3827      sad  ...          1        2\n",
       "6740        6740  neutral  ...          1        0\n",
       "6932        6932      sad  ...          1        2\n",
       "505          505  neutral  ...          0        0\n",
       "4351        4351    happy  ...          0        1\n",
       "3271        3271    happy  ...          1        1\n",
       "6422        6422      sad  ...          1        2\n",
       "6900        6900  disgust  ...          1        5\n",
       "2823        2823  disgust  ...          1        5\n",
       "1424        1424      sad  ...          0        2\n",
       "\n",
       "[10 rows x 7 columns]"
      ]
     },
     "execution_count": 36,
     "metadata": {
      "tags": []
     },
     "output_type": "execute_result"
    }
   ],
   "source": [
    "dem"
   ]
  },
  {
   "cell_type": "code",
   "execution_count": null,
   "metadata": {
    "colab": {
     "base_uri": "https://localhost:8080/"
    },
    "id": "-VSF-FUXZXKQ",
    "outputId": "074096fe-c509-40da-fb9e-1a4fc0bea5d7"
   },
   "outputs": [
    {
     "name": "stdout",
     "output_type": "stream",
     "text": [
      "(5209, 215, 18, 1)\n"
     ]
    }
   ],
   "source": [
    "train=return_data(trainin)\n"
   ]
  },
  {
   "cell_type": "code",
   "execution_count": null,
   "metadata": {
    "colab": {
     "base_uri": "https://localhost:8080/"
    },
    "id": "TXSB8ptvl4Sf",
    "outputId": "fc8aaeb2-68a0-4a25-eaeb-150188773661"
   },
   "outputs": [
    {
     "name": "stdout",
     "output_type": "stream",
     "text": [
      "(2233, 216, 18, 1)\n"
     ]
    }
   ],
   "source": [
    "validation=return_data(valind)"
   ]
  },
  {
   "cell_type": "code",
   "execution_count": null,
   "metadata": {
    "id": "lE59qhsQXTOj"
   },
   "outputs": [],
   "source": [
    "from tempfile import TemporaryFile\n",
    "outfile = TemporaryFile()"
   ]
  },
  {
   "cell_type": "code",
   "execution_count": null,
   "metadata": {
    "id": "NwFZpJ7KXcfF"
   },
   "outputs": [],
   "source": [
    "np.save(outfile, train,)"
   ]
  },
  {
   "cell_type": "code",
   "execution_count": null,
   "metadata": {
    "colab": {
     "base_uri": "https://localhost:8080/"
    },
    "id": "aKRYri_02Gc8",
    "outputId": "09d58636-1db8-4ffe-db61-9dbe2db30708"
   },
   "outputs": [
    {
     "name": "stderr",
     "output_type": "stream",
     "text": [
      "/usr/local/lib/python3.6/dist-packages/numpy/core/_asarray.py:136: VisibleDeprecationWarning: Creating an ndarray from ragged nested sequences (which is a list-or-tuple of lists-or-tuples-or ndarrays with different lengths or shapes) is deprecated. If you meant to do this, you must specify 'dtype=object' when creating the ndarray\n",
      "  return array(a, dtype, copy=False, order=order, subok=True)\n"
     ]
    }
   ],
   "source": [
    "with open('validation.npy', 'wb') as f:\n",
    "    np.save(f, validation,allow_pickle=True)"
   ]
  },
  {
   "cell_type": "code",
   "execution_count": null,
   "metadata": {
    "id": "vS90_Ume2dSr"
   },
   "outputs": [],
   "source": [
    "!cp /content/validation.npy '/content/drive/MyDrive/Proj DATA/Proccesed_Data/'"
   ]
  },
  {
   "cell_type": "code",
   "execution_count": null,
   "metadata": {
    "colab": {
     "base_uri": "https://localhost:8080/"
    },
    "id": "_4esgR-NZXDn",
    "outputId": "b2789c04-2733-4b20-9bfa-54caf8088573"
   },
   "outputs": [
    {
     "data": {
      "text/plain": [
       "(array([[[[-4.90499054e+02],\n",
       "          [ 1.24447960e+02],\n",
       "          [ 4.21381989e+01],\n",
       "          ...,\n",
       "          [-4.58188534e+00],\n",
       "          [ 1.11537838e+00],\n",
       "          [ 6.16676390e-01]],\n",
       " \n",
       "         [[-4.98690125e+02],\n",
       "          [ 1.19056190e+02],\n",
       "          [ 3.22247467e+01],\n",
       "          ...,\n",
       "          [-8.70808792e+00],\n",
       "          [ 3.15601468e-01],\n",
       "          [-4.09545660e+00]],\n",
       " \n",
       "         [[-5.05070862e+02],\n",
       "          [ 1.13634857e+02],\n",
       "          [ 2.59231224e+01],\n",
       "          ...,\n",
       "          [-1.30479078e+01],\n",
       "          [ 8.82996321e-02],\n",
       "          [-8.18265057e+00]],\n",
       " \n",
       "         ...,\n",
       " \n",
       "         [[-5.05589203e+02],\n",
       "          [ 1.16267349e+02],\n",
       "          [ 3.58185043e+01],\n",
       "          ...,\n",
       "          [-1.04412203e+01],\n",
       "          [ 2.05834341e+00],\n",
       "          [-7.88654518e+00]],\n",
       " \n",
       "         [[-5.06729309e+02],\n",
       "          [ 1.13592049e+02],\n",
       "          [ 3.84428711e+01],\n",
       "          ...,\n",
       "          [-9.97355843e+00],\n",
       "          [ 4.45005035e+00],\n",
       "          [-8.66821575e+00]],\n",
       " \n",
       "         [[-5.26423401e+02],\n",
       "          [ 1.17985634e+02],\n",
       "          [ 3.99743958e+01],\n",
       "          ...,\n",
       "          [-1.46584253e+01],\n",
       "          [ 4.44975948e+00],\n",
       "          [-8.08496952e+00]]]]),\n",
       " [array([], dtype=float32),\n",
       "  array([[0., 1.]], dtype=float32),\n",
       "  array([[1., 0., 0., 0., 0., 0.]], dtype=float32)])"
      ]
     },
     "execution_count": 208,
     "metadata": {
      "tags": []
     },
     "output_type": "execute_result"
    }
   ],
   "source": [
    "train"
   ]
  },
  {
   "cell_type": "code",
   "execution_count": 2,
   "metadata": {
    "id": "mHA0alHiZW6b"
   },
   "outputs": [],
   "source": [
    "tex=pd.read_csv('E:\\Work\\Audio DATA\\IEMOCAP_full_release_withoutVideos\\IEMOCAP_full_release\\Session1\\dialog\\EmoEvaluation\\Categorical\\Ses01F_impro01_e2_cat.txt',delimiter=':',names=['File_name','Emot'])"
   ]
  },
  {
   "cell_type": "code",
   "execution_count": 3,
   "metadata": {
    "id": "pyHT6dg5ZWyy"
   },
   "outputs": [
    {
     "data": {
      "text/html": [
       "<div>\n",
       "<style scoped>\n",
       "    .dataframe tbody tr th:only-of-type {\n",
       "        vertical-align: middle;\n",
       "    }\n",
       "\n",
       "    .dataframe tbody tr th {\n",
       "        vertical-align: top;\n",
       "    }\n",
       "\n",
       "    .dataframe thead th {\n",
       "        text-align: right;\n",
       "    }\n",
       "</style>\n",
       "<table border=\"1\" class=\"dataframe\">\n",
       "  <thead>\n",
       "    <tr style=\"text-align: right;\">\n",
       "      <th></th>\n",
       "      <th>File_name</th>\n",
       "      <th>Emot</th>\n",
       "    </tr>\n",
       "  </thead>\n",
       "  <tbody>\n",
       "    <tr>\n",
       "      <th>0</th>\n",
       "      <td>Ses01F_impro01_F000</td>\n",
       "      <td>Neutral state; ()</td>\n",
       "    </tr>\n",
       "    <tr>\n",
       "      <th>1</th>\n",
       "      <td>Ses01F_impro01_F001</td>\n",
       "      <td>Neutral state; ()</td>\n",
       "    </tr>\n",
       "    <tr>\n",
       "      <th>2</th>\n",
       "      <td>Ses01F_impro01_F002</td>\n",
       "      <td>Neutral state; ()</td>\n",
       "    </tr>\n",
       "    <tr>\n",
       "      <th>3</th>\n",
       "      <td>Ses01F_impro01_F003</td>\n",
       "      <td>Neutral state; ()</td>\n",
       "    </tr>\n",
       "    <tr>\n",
       "      <th>4</th>\n",
       "      <td>Ses01F_impro01_F004</td>\n",
       "      <td>Neutral state; ()</td>\n",
       "    </tr>\n",
       "  </tbody>\n",
       "</table>\n",
       "</div>"
      ],
      "text/plain": [
       "              File_name               Emot\n",
       "0  Ses01F_impro01_F000   Neutral state; ()\n",
       "1  Ses01F_impro01_F001   Neutral state; ()\n",
       "2  Ses01F_impro01_F002   Neutral state; ()\n",
       "3  Ses01F_impro01_F003   Neutral state; ()\n",
       "4  Ses01F_impro01_F004   Neutral state; ()"
      ]
     },
     "execution_count": 3,
     "metadata": {},
     "output_type": "execute_result"
    }
   ],
   "source": [
    "tex.head()"
   ]
  },
  {
   "cell_type": "code",
   "execution_count": 21,
   "metadata": {
    "id": "hxxUDNQmZWpz"
   },
   "outputs": [],
   "source": [
    "import glob\n",
    "import os"
   ]
  },
  {
   "cell_type": "code",
   "execution_count": 4,
   "metadata": {},
   "outputs": [],
   "source": [
    "nms=os.listdir('E:/Work\\Audio DATA/IEMOCAP_full_release_withoutVideos/IEMOCAP_full_release/Session1/sentences/wav/Ses01F_impro01/')"
   ]
  },
  {
   "cell_type": "code",
   "execution_count": 5,
   "metadata": {},
   "outputs": [
    {
     "data": {
      "text/plain": [
       "['Ses01F_impro01_F000.wav',\n",
       " 'Ses01F_impro01_F001.wav',\n",
       " 'Ses01F_impro01_F002.wav',\n",
       " 'Ses01F_impro01_F003.wav',\n",
       " 'Ses01F_impro01_F004.wav',\n",
       " 'Ses01F_impro01_F005.wav',\n",
       " 'Ses01F_impro01_F006.wav',\n",
       " 'Ses01F_impro01_F007.wav',\n",
       " 'Ses01F_impro01_F008.wav',\n",
       " 'Ses01F_impro01_F009.wav',\n",
       " 'Ses01F_impro01_F010.wav',\n",
       " 'Ses01F_impro01_F011.wav',\n",
       " 'Ses01F_impro01_F012.wav',\n",
       " 'Ses01F_impro01_F013.wav',\n",
       " 'Ses01F_impro01_F014.wav',\n",
       " 'Ses01F_impro01_F015.wav',\n",
       " 'Ses01F_impro01_M000.wav',\n",
       " 'Ses01F_impro01_M001.wav',\n",
       " 'Ses01F_impro01_M002.wav',\n",
       " 'Ses01F_impro01_M003.wav',\n",
       " 'Ses01F_impro01_M004.wav',\n",
       " 'Ses01F_impro01_M005.wav',\n",
       " 'Ses01F_impro01_M006.wav',\n",
       " 'Ses01F_impro01_M007.wav',\n",
       " 'Ses01F_impro01_M008.wav',\n",
       " 'Ses01F_impro01_M009.wav',\n",
       " 'Ses01F_impro01_M010.wav',\n",
       " 'Ses01F_impro01_M011.wav',\n",
       " 'Ses01F_impro01_M012.wav',\n",
       " 'Ses01F_impro01_M013.wav']"
      ]
     },
     "execution_count": 5,
     "metadata": {},
     "output_type": "execute_result"
    }
   ],
   "source": [
    "nms\n"
   ]
  },
  {
   "cell_type": "code",
   "execution_count": 6,
   "metadata": {},
   "outputs": [],
   "source": [
    "path='E:/Work/Audio DATA/IEMOCAP_full_release_withoutVideos/IEMOCAP_full_release/Session1/sentences/wav/Ses01F_impro01'\n",
    "\n",
    "files_paths=glob.glob(path+'/'+'*.wav')"
   ]
  },
  {
   "cell_type": "code",
   "execution_count": 7,
   "metadata": {},
   "outputs": [
    {
     "data": {
      "text/plain": [
       "['E:/Work/Audio DATA/IEMOCAP_full_release_withoutVideos/IEMOCAP_full_release/Session1/sentences/wav/Ses01F_impro01\\\\Ses01F_impro01_F000.wav',\n",
       " 'E:/Work/Audio DATA/IEMOCAP_full_release_withoutVideos/IEMOCAP_full_release/Session1/sentences/wav/Ses01F_impro01\\\\Ses01F_impro01_F001.wav',\n",
       " 'E:/Work/Audio DATA/IEMOCAP_full_release_withoutVideos/IEMOCAP_full_release/Session1/sentences/wav/Ses01F_impro01\\\\Ses01F_impro01_F002.wav',\n",
       " 'E:/Work/Audio DATA/IEMOCAP_full_release_withoutVideos/IEMOCAP_full_release/Session1/sentences/wav/Ses01F_impro01\\\\Ses01F_impro01_F003.wav',\n",
       " 'E:/Work/Audio DATA/IEMOCAP_full_release_withoutVideos/IEMOCAP_full_release/Session1/sentences/wav/Ses01F_impro01\\\\Ses01F_impro01_F004.wav',\n",
       " 'E:/Work/Audio DATA/IEMOCAP_full_release_withoutVideos/IEMOCAP_full_release/Session1/sentences/wav/Ses01F_impro01\\\\Ses01F_impro01_F005.wav',\n",
       " 'E:/Work/Audio DATA/IEMOCAP_full_release_withoutVideos/IEMOCAP_full_release/Session1/sentences/wav/Ses01F_impro01\\\\Ses01F_impro01_F006.wav',\n",
       " 'E:/Work/Audio DATA/IEMOCAP_full_release_withoutVideos/IEMOCAP_full_release/Session1/sentences/wav/Ses01F_impro01\\\\Ses01F_impro01_F007.wav',\n",
       " 'E:/Work/Audio DATA/IEMOCAP_full_release_withoutVideos/IEMOCAP_full_release/Session1/sentences/wav/Ses01F_impro01\\\\Ses01F_impro01_F008.wav',\n",
       " 'E:/Work/Audio DATA/IEMOCAP_full_release_withoutVideos/IEMOCAP_full_release/Session1/sentences/wav/Ses01F_impro01\\\\Ses01F_impro01_F009.wav',\n",
       " 'E:/Work/Audio DATA/IEMOCAP_full_release_withoutVideos/IEMOCAP_full_release/Session1/sentences/wav/Ses01F_impro01\\\\Ses01F_impro01_F010.wav',\n",
       " 'E:/Work/Audio DATA/IEMOCAP_full_release_withoutVideos/IEMOCAP_full_release/Session1/sentences/wav/Ses01F_impro01\\\\Ses01F_impro01_F011.wav',\n",
       " 'E:/Work/Audio DATA/IEMOCAP_full_release_withoutVideos/IEMOCAP_full_release/Session1/sentences/wav/Ses01F_impro01\\\\Ses01F_impro01_F012.wav',\n",
       " 'E:/Work/Audio DATA/IEMOCAP_full_release_withoutVideos/IEMOCAP_full_release/Session1/sentences/wav/Ses01F_impro01\\\\Ses01F_impro01_F013.wav',\n",
       " 'E:/Work/Audio DATA/IEMOCAP_full_release_withoutVideos/IEMOCAP_full_release/Session1/sentences/wav/Ses01F_impro01\\\\Ses01F_impro01_F014.wav',\n",
       " 'E:/Work/Audio DATA/IEMOCAP_full_release_withoutVideos/IEMOCAP_full_release/Session1/sentences/wav/Ses01F_impro01\\\\Ses01F_impro01_F015.wav',\n",
       " 'E:/Work/Audio DATA/IEMOCAP_full_release_withoutVideos/IEMOCAP_full_release/Session1/sentences/wav/Ses01F_impro01\\\\Ses01F_impro01_M000.wav',\n",
       " 'E:/Work/Audio DATA/IEMOCAP_full_release_withoutVideos/IEMOCAP_full_release/Session1/sentences/wav/Ses01F_impro01\\\\Ses01F_impro01_M001.wav',\n",
       " 'E:/Work/Audio DATA/IEMOCAP_full_release_withoutVideos/IEMOCAP_full_release/Session1/sentences/wav/Ses01F_impro01\\\\Ses01F_impro01_M002.wav',\n",
       " 'E:/Work/Audio DATA/IEMOCAP_full_release_withoutVideos/IEMOCAP_full_release/Session1/sentences/wav/Ses01F_impro01\\\\Ses01F_impro01_M003.wav',\n",
       " 'E:/Work/Audio DATA/IEMOCAP_full_release_withoutVideos/IEMOCAP_full_release/Session1/sentences/wav/Ses01F_impro01\\\\Ses01F_impro01_M004.wav',\n",
       " 'E:/Work/Audio DATA/IEMOCAP_full_release_withoutVideos/IEMOCAP_full_release/Session1/sentences/wav/Ses01F_impro01\\\\Ses01F_impro01_M005.wav',\n",
       " 'E:/Work/Audio DATA/IEMOCAP_full_release_withoutVideos/IEMOCAP_full_release/Session1/sentences/wav/Ses01F_impro01\\\\Ses01F_impro01_M006.wav',\n",
       " 'E:/Work/Audio DATA/IEMOCAP_full_release_withoutVideos/IEMOCAP_full_release/Session1/sentences/wav/Ses01F_impro01\\\\Ses01F_impro01_M007.wav',\n",
       " 'E:/Work/Audio DATA/IEMOCAP_full_release_withoutVideos/IEMOCAP_full_release/Session1/sentences/wav/Ses01F_impro01\\\\Ses01F_impro01_M008.wav',\n",
       " 'E:/Work/Audio DATA/IEMOCAP_full_release_withoutVideos/IEMOCAP_full_release/Session1/sentences/wav/Ses01F_impro01\\\\Ses01F_impro01_M009.wav',\n",
       " 'E:/Work/Audio DATA/IEMOCAP_full_release_withoutVideos/IEMOCAP_full_release/Session1/sentences/wav/Ses01F_impro01\\\\Ses01F_impro01_M010.wav',\n",
       " 'E:/Work/Audio DATA/IEMOCAP_full_release_withoutVideos/IEMOCAP_full_release/Session1/sentences/wav/Ses01F_impro01\\\\Ses01F_impro01_M011.wav',\n",
       " 'E:/Work/Audio DATA/IEMOCAP_full_release_withoutVideos/IEMOCAP_full_release/Session1/sentences/wav/Ses01F_impro01\\\\Ses01F_impro01_M012.wav',\n",
       " 'E:/Work/Audio DATA/IEMOCAP_full_release_withoutVideos/IEMOCAP_full_release/Session1/sentences/wav/Ses01F_impro01\\\\Ses01F_impro01_M013.wav']"
      ]
     },
     "execution_count": 7,
     "metadata": {},
     "output_type": "execute_result"
    }
   ],
   "source": [
    "files_paths"
   ]
  },
  {
   "cell_type": "code",
   "execution_count": 8,
   "metadata": {},
   "outputs": [],
   "source": [
    "folders=os.listdir('E:/Work/Audio DATA/IEMOCAP_full_release_withoutVideos/IEMOCAP_full_release/Session1/sentences/wav/')"
   ]
  },
  {
   "cell_type": "markdown",
   "metadata": {},
   "source": [
    "folders"
   ]
  },
  {
   "cell_type": "code",
   "execution_count": 9,
   "metadata": {},
   "outputs": [],
   "source": [
    "cat=\"E:/Work/Audio DATA/IEMOCAP_full_release_withoutVideos/IEMOCAP_full_release/Session1/dialog/EmoEvaluation/Categorical/\"\n",
    "categories=glob.glob(cat+'*.txt')"
   ]
  },
  {
   "cell_type": "code",
   "execution_count": 10,
   "metadata": {},
   "outputs": [
    {
     "data": {
      "text/plain": [
       "['E:/Work/Audio DATA/IEMOCAP_full_release_withoutVideos/IEMOCAP_full_release/Session1/dialog/EmoEvaluation/Categorical\\\\Ses01F_impro01_e2_cat.txt',\n",
       " 'E:/Work/Audio DATA/IEMOCAP_full_release_withoutVideos/IEMOCAP_full_release/Session1/dialog/EmoEvaluation/Categorical\\\\Ses01F_impro01_e3_cat.txt',\n",
       " 'E:/Work/Audio DATA/IEMOCAP_full_release_withoutVideos/IEMOCAP_full_release/Session1/dialog/EmoEvaluation/Categorical\\\\Ses01F_impro01_e4_cat.txt',\n",
       " 'E:/Work/Audio DATA/IEMOCAP_full_release_withoutVideos/IEMOCAP_full_release/Session1/dialog/EmoEvaluation/Categorical\\\\Ses01F_impro02_e1_cat.txt',\n",
       " 'E:/Work/Audio DATA/IEMOCAP_full_release_withoutVideos/IEMOCAP_full_release/Session1/dialog/EmoEvaluation/Categorical\\\\Ses01F_impro02_e3_cat.txt',\n",
       " 'E:/Work/Audio DATA/IEMOCAP_full_release_withoutVideos/IEMOCAP_full_release/Session1/dialog/EmoEvaluation/Categorical\\\\Ses01F_impro02_e4_cat.txt',\n",
       " 'E:/Work/Audio DATA/IEMOCAP_full_release_withoutVideos/IEMOCAP_full_release/Session1/dialog/EmoEvaluation/Categorical\\\\Ses01F_impro03_e1_cat.txt',\n",
       " 'E:/Work/Audio DATA/IEMOCAP_full_release_withoutVideos/IEMOCAP_full_release/Session1/dialog/EmoEvaluation/Categorical\\\\Ses01F_impro03_e2_cat.txt',\n",
       " 'E:/Work/Audio DATA/IEMOCAP_full_release_withoutVideos/IEMOCAP_full_release/Session1/dialog/EmoEvaluation/Categorical\\\\Ses01F_impro03_e4_cat.txt',\n",
       " 'E:/Work/Audio DATA/IEMOCAP_full_release_withoutVideos/IEMOCAP_full_release/Session1/dialog/EmoEvaluation/Categorical\\\\Ses01F_impro04_e1_cat.txt',\n",
       " 'E:/Work/Audio DATA/IEMOCAP_full_release_withoutVideos/IEMOCAP_full_release/Session1/dialog/EmoEvaluation/Categorical\\\\Ses01F_impro04_e2_cat.txt',\n",
       " 'E:/Work/Audio DATA/IEMOCAP_full_release_withoutVideos/IEMOCAP_full_release/Session1/dialog/EmoEvaluation/Categorical\\\\Ses01F_impro04_e4_cat.txt',\n",
       " 'E:/Work/Audio DATA/IEMOCAP_full_release_withoutVideos/IEMOCAP_full_release/Session1/dialog/EmoEvaluation/Categorical\\\\Ses01F_impro05_e1_cat.txt',\n",
       " 'E:/Work/Audio DATA/IEMOCAP_full_release_withoutVideos/IEMOCAP_full_release/Session1/dialog/EmoEvaluation/Categorical\\\\Ses01F_impro05_e3_cat.txt',\n",
       " 'E:/Work/Audio DATA/IEMOCAP_full_release_withoutVideos/IEMOCAP_full_release/Session1/dialog/EmoEvaluation/Categorical\\\\Ses01F_impro05_e4_cat.txt',\n",
       " 'E:/Work/Audio DATA/IEMOCAP_full_release_withoutVideos/IEMOCAP_full_release/Session1/dialog/EmoEvaluation/Categorical\\\\Ses01F_impro06_e1_cat.txt',\n",
       " 'E:/Work/Audio DATA/IEMOCAP_full_release_withoutVideos/IEMOCAP_full_release/Session1/dialog/EmoEvaluation/Categorical\\\\Ses01F_impro06_e2_cat.txt',\n",
       " 'E:/Work/Audio DATA/IEMOCAP_full_release_withoutVideos/IEMOCAP_full_release/Session1/dialog/EmoEvaluation/Categorical\\\\Ses01F_impro06_e4_cat.txt',\n",
       " 'E:/Work/Audio DATA/IEMOCAP_full_release_withoutVideos/IEMOCAP_full_release/Session1/dialog/EmoEvaluation/Categorical\\\\Ses01F_impro07_e1_cat.txt',\n",
       " 'E:/Work/Audio DATA/IEMOCAP_full_release_withoutVideos/IEMOCAP_full_release/Session1/dialog/EmoEvaluation/Categorical\\\\Ses01F_impro07_e2_cat.txt',\n",
       " 'E:/Work/Audio DATA/IEMOCAP_full_release_withoutVideos/IEMOCAP_full_release/Session1/dialog/EmoEvaluation/Categorical\\\\Ses01F_impro07_e4_cat.txt',\n",
       " 'E:/Work/Audio DATA/IEMOCAP_full_release_withoutVideos/IEMOCAP_full_release/Session1/dialog/EmoEvaluation/Categorical\\\\Ses01F_script01_1_e1_cat.txt',\n",
       " 'E:/Work/Audio DATA/IEMOCAP_full_release_withoutVideos/IEMOCAP_full_release/Session1/dialog/EmoEvaluation/Categorical\\\\Ses01F_script01_1_e4_cat.txt',\n",
       " 'E:/Work/Audio DATA/IEMOCAP_full_release_withoutVideos/IEMOCAP_full_release/Session1/dialog/EmoEvaluation/Categorical\\\\Ses01F_script01_1_e5_cat.txt',\n",
       " 'E:/Work/Audio DATA/IEMOCAP_full_release_withoutVideos/IEMOCAP_full_release/Session1/dialog/EmoEvaluation/Categorical\\\\Ses01F_script01_2_e1_cat.txt',\n",
       " 'E:/Work/Audio DATA/IEMOCAP_full_release_withoutVideos/IEMOCAP_full_release/Session1/dialog/EmoEvaluation/Categorical\\\\Ses01F_script01_2_e2_cat.txt',\n",
       " 'E:/Work/Audio DATA/IEMOCAP_full_release_withoutVideos/IEMOCAP_full_release/Session1/dialog/EmoEvaluation/Categorical\\\\Ses01F_script01_2_e4_cat.txt',\n",
       " 'E:/Work/Audio DATA/IEMOCAP_full_release_withoutVideos/IEMOCAP_full_release/Session1/dialog/EmoEvaluation/Categorical\\\\Ses01F_script01_3_e1_cat.txt',\n",
       " 'E:/Work/Audio DATA/IEMOCAP_full_release_withoutVideos/IEMOCAP_full_release/Session1/dialog/EmoEvaluation/Categorical\\\\Ses01F_script01_3_e4_cat.txt',\n",
       " 'E:/Work/Audio DATA/IEMOCAP_full_release_withoutVideos/IEMOCAP_full_release/Session1/dialog/EmoEvaluation/Categorical\\\\Ses01F_script01_3_e5_cat.txt',\n",
       " 'E:/Work/Audio DATA/IEMOCAP_full_release_withoutVideos/IEMOCAP_full_release/Session1/dialog/EmoEvaluation/Categorical\\\\Ses01F_script02_1_e2_cat.txt',\n",
       " 'E:/Work/Audio DATA/IEMOCAP_full_release_withoutVideos/IEMOCAP_full_release/Session1/dialog/EmoEvaluation/Categorical\\\\Ses01F_script02_1_e3_cat.txt',\n",
       " 'E:/Work/Audio DATA/IEMOCAP_full_release_withoutVideos/IEMOCAP_full_release/Session1/dialog/EmoEvaluation/Categorical\\\\Ses01F_script02_1_e4_cat.txt',\n",
       " 'E:/Work/Audio DATA/IEMOCAP_full_release_withoutVideos/IEMOCAP_full_release/Session1/dialog/EmoEvaluation/Categorical\\\\Ses01F_script02_2_e2_cat.txt',\n",
       " 'E:/Work/Audio DATA/IEMOCAP_full_release_withoutVideos/IEMOCAP_full_release/Session1/dialog/EmoEvaluation/Categorical\\\\Ses01F_script02_2_e3_cat.txt',\n",
       " 'E:/Work/Audio DATA/IEMOCAP_full_release_withoutVideos/IEMOCAP_full_release/Session1/dialog/EmoEvaluation/Categorical\\\\Ses01F_script02_2_e4_cat.txt',\n",
       " 'E:/Work/Audio DATA/IEMOCAP_full_release_withoutVideos/IEMOCAP_full_release/Session1/dialog/EmoEvaluation/Categorical\\\\Ses01F_script03_1_e1_cat.txt',\n",
       " 'E:/Work/Audio DATA/IEMOCAP_full_release_withoutVideos/IEMOCAP_full_release/Session1/dialog/EmoEvaluation/Categorical\\\\Ses01F_script03_1_e2_cat.txt',\n",
       " 'E:/Work/Audio DATA/IEMOCAP_full_release_withoutVideos/IEMOCAP_full_release/Session1/dialog/EmoEvaluation/Categorical\\\\Ses01F_script03_1_e6_cat.txt',\n",
       " 'E:/Work/Audio DATA/IEMOCAP_full_release_withoutVideos/IEMOCAP_full_release/Session1/dialog/EmoEvaluation/Categorical\\\\Ses01F_script03_2_e1_cat.txt',\n",
       " 'E:/Work/Audio DATA/IEMOCAP_full_release_withoutVideos/IEMOCAP_full_release/Session1/dialog/EmoEvaluation/Categorical\\\\Ses01F_script03_2_e2_cat.txt',\n",
       " 'E:/Work/Audio DATA/IEMOCAP_full_release_withoutVideos/IEMOCAP_full_release/Session1/dialog/EmoEvaluation/Categorical\\\\Ses01F_script03_2_e4_cat.txt',\n",
       " 'E:/Work/Audio DATA/IEMOCAP_full_release_withoutVideos/IEMOCAP_full_release/Session1/dialog/EmoEvaluation/Categorical\\\\Ses01M_impro01_e1_cat.txt',\n",
       " 'E:/Work/Audio DATA/IEMOCAP_full_release_withoutVideos/IEMOCAP_full_release/Session1/dialog/EmoEvaluation/Categorical\\\\Ses01M_impro01_e2_cat.txt',\n",
       " 'E:/Work/Audio DATA/IEMOCAP_full_release_withoutVideos/IEMOCAP_full_release/Session1/dialog/EmoEvaluation/Categorical\\\\Ses01M_impro01_e4_cat.txt',\n",
       " 'E:/Work/Audio DATA/IEMOCAP_full_release_withoutVideos/IEMOCAP_full_release/Session1/dialog/EmoEvaluation/Categorical\\\\Ses01M_impro02_e1_cat.txt',\n",
       " 'E:/Work/Audio DATA/IEMOCAP_full_release_withoutVideos/IEMOCAP_full_release/Session1/dialog/EmoEvaluation/Categorical\\\\Ses01M_impro02_e2_cat.txt',\n",
       " 'E:/Work/Audio DATA/IEMOCAP_full_release_withoutVideos/IEMOCAP_full_release/Session1/dialog/EmoEvaluation/Categorical\\\\Ses01M_impro02_e4_cat.txt',\n",
       " 'E:/Work/Audio DATA/IEMOCAP_full_release_withoutVideos/IEMOCAP_full_release/Session1/dialog/EmoEvaluation/Categorical\\\\Ses01M_impro03_e1_cat.txt',\n",
       " 'E:/Work/Audio DATA/IEMOCAP_full_release_withoutVideos/IEMOCAP_full_release/Session1/dialog/EmoEvaluation/Categorical\\\\Ses01M_impro03_e2_cat.txt',\n",
       " 'E:/Work/Audio DATA/IEMOCAP_full_release_withoutVideos/IEMOCAP_full_release/Session1/dialog/EmoEvaluation/Categorical\\\\Ses01M_impro03_e4_cat.txt',\n",
       " 'E:/Work/Audio DATA/IEMOCAP_full_release_withoutVideos/IEMOCAP_full_release/Session1/dialog/EmoEvaluation/Categorical\\\\Ses01M_impro04_e1_cat.txt',\n",
       " 'E:/Work/Audio DATA/IEMOCAP_full_release_withoutVideos/IEMOCAP_full_release/Session1/dialog/EmoEvaluation/Categorical\\\\Ses01M_impro04_e2_cat.txt',\n",
       " 'E:/Work/Audio DATA/IEMOCAP_full_release_withoutVideos/IEMOCAP_full_release/Session1/dialog/EmoEvaluation/Categorical\\\\Ses01M_impro04_e4_cat.txt',\n",
       " 'E:/Work/Audio DATA/IEMOCAP_full_release_withoutVideos/IEMOCAP_full_release/Session1/dialog/EmoEvaluation/Categorical\\\\Ses01M_impro05_e1_cat.txt',\n",
       " 'E:/Work/Audio DATA/IEMOCAP_full_release_withoutVideos/IEMOCAP_full_release/Session1/dialog/EmoEvaluation/Categorical\\\\Ses01M_impro05_e2_cat.txt',\n",
       " 'E:/Work/Audio DATA/IEMOCAP_full_release_withoutVideos/IEMOCAP_full_release/Session1/dialog/EmoEvaluation/Categorical\\\\Ses01M_impro05_e4_cat.txt',\n",
       " 'E:/Work/Audio DATA/IEMOCAP_full_release_withoutVideos/IEMOCAP_full_release/Session1/dialog/EmoEvaluation/Categorical\\\\Ses01M_impro06_e1_cat.txt',\n",
       " 'E:/Work/Audio DATA/IEMOCAP_full_release_withoutVideos/IEMOCAP_full_release/Session1/dialog/EmoEvaluation/Categorical\\\\Ses01M_impro06_e2_cat.txt',\n",
       " 'E:/Work/Audio DATA/IEMOCAP_full_release_withoutVideos/IEMOCAP_full_release/Session1/dialog/EmoEvaluation/Categorical\\\\Ses01M_impro06_e4_cat.txt',\n",
       " 'E:/Work/Audio DATA/IEMOCAP_full_release_withoutVideos/IEMOCAP_full_release/Session1/dialog/EmoEvaluation/Categorical\\\\Ses01M_impro07_e1_cat.txt',\n",
       " 'E:/Work/Audio DATA/IEMOCAP_full_release_withoutVideos/IEMOCAP_full_release/Session1/dialog/EmoEvaluation/Categorical\\\\Ses01M_impro07_e2_cat.txt',\n",
       " 'E:/Work/Audio DATA/IEMOCAP_full_release_withoutVideos/IEMOCAP_full_release/Session1/dialog/EmoEvaluation/Categorical\\\\Ses01M_impro07_e6_cat.txt',\n",
       " 'E:/Work/Audio DATA/IEMOCAP_full_release_withoutVideos/IEMOCAP_full_release/Session1/dialog/EmoEvaluation/Categorical\\\\Ses01M_script01_1_e1_cat.txt',\n",
       " 'E:/Work/Audio DATA/IEMOCAP_full_release_withoutVideos/IEMOCAP_full_release/Session1/dialog/EmoEvaluation/Categorical\\\\Ses01M_script01_1_e2_cat.txt',\n",
       " 'E:/Work/Audio DATA/IEMOCAP_full_release_withoutVideos/IEMOCAP_full_release/Session1/dialog/EmoEvaluation/Categorical\\\\Ses01M_script01_1_e4_cat.txt',\n",
       " 'E:/Work/Audio DATA/IEMOCAP_full_release_withoutVideos/IEMOCAP_full_release/Session1/dialog/EmoEvaluation/Categorical\\\\Ses01M_script01_2_e1_cat.txt',\n",
       " 'E:/Work/Audio DATA/IEMOCAP_full_release_withoutVideos/IEMOCAP_full_release/Session1/dialog/EmoEvaluation/Categorical\\\\Ses01M_script01_2_e2_cat.txt',\n",
       " 'E:/Work/Audio DATA/IEMOCAP_full_release_withoutVideos/IEMOCAP_full_release/Session1/dialog/EmoEvaluation/Categorical\\\\Ses01M_script01_2_e4_cat.txt',\n",
       " 'E:/Work/Audio DATA/IEMOCAP_full_release_withoutVideos/IEMOCAP_full_release/Session1/dialog/EmoEvaluation/Categorical\\\\Ses01M_script01_3_e1_cat.txt',\n",
       " 'E:/Work/Audio DATA/IEMOCAP_full_release_withoutVideos/IEMOCAP_full_release/Session1/dialog/EmoEvaluation/Categorical\\\\Ses01M_script01_3_e2_cat.txt',\n",
       " 'E:/Work/Audio DATA/IEMOCAP_full_release_withoutVideos/IEMOCAP_full_release/Session1/dialog/EmoEvaluation/Categorical\\\\Ses01M_script01_3_e4_cat.txt',\n",
       " 'E:/Work/Audio DATA/IEMOCAP_full_release_withoutVideos/IEMOCAP_full_release/Session1/dialog/EmoEvaluation/Categorical\\\\Ses01M_script02_1_e1_cat.txt',\n",
       " 'E:/Work/Audio DATA/IEMOCAP_full_release_withoutVideos/IEMOCAP_full_release/Session1/dialog/EmoEvaluation/Categorical\\\\Ses01M_script02_1_e2_cat.txt',\n",
       " 'E:/Work/Audio DATA/IEMOCAP_full_release_withoutVideos/IEMOCAP_full_release/Session1/dialog/EmoEvaluation/Categorical\\\\Ses01M_script02_1_e4_cat.txt',\n",
       " 'E:/Work/Audio DATA/IEMOCAP_full_release_withoutVideos/IEMOCAP_full_release/Session1/dialog/EmoEvaluation/Categorical\\\\Ses01M_script02_2_e1_cat.txt',\n",
       " 'E:/Work/Audio DATA/IEMOCAP_full_release_withoutVideos/IEMOCAP_full_release/Session1/dialog/EmoEvaluation/Categorical\\\\Ses01M_script02_2_e2_cat.txt',\n",
       " 'E:/Work/Audio DATA/IEMOCAP_full_release_withoutVideos/IEMOCAP_full_release/Session1/dialog/EmoEvaluation/Categorical\\\\Ses01M_script02_2_e4_cat.txt',\n",
       " 'E:/Work/Audio DATA/IEMOCAP_full_release_withoutVideos/IEMOCAP_full_release/Session1/dialog/EmoEvaluation/Categorical\\\\Ses01M_script03_1_e1_cat.txt',\n",
       " 'E:/Work/Audio DATA/IEMOCAP_full_release_withoutVideos/IEMOCAP_full_release/Session1/dialog/EmoEvaluation/Categorical\\\\Ses01M_script03_1_e2_cat.txt',\n",
       " 'E:/Work/Audio DATA/IEMOCAP_full_release_withoutVideos/IEMOCAP_full_release/Session1/dialog/EmoEvaluation/Categorical\\\\Ses01M_script03_1_e6_cat.txt',\n",
       " 'E:/Work/Audio DATA/IEMOCAP_full_release_withoutVideos/IEMOCAP_full_release/Session1/dialog/EmoEvaluation/Categorical\\\\Ses01M_script03_2_e1_cat.txt',\n",
       " 'E:/Work/Audio DATA/IEMOCAP_full_release_withoutVideos/IEMOCAP_full_release/Session1/dialog/EmoEvaluation/Categorical\\\\Ses01M_script03_2_e2_cat.txt',\n",
       " 'E:/Work/Audio DATA/IEMOCAP_full_release_withoutVideos/IEMOCAP_full_release/Session1/dialog/EmoEvaluation/Categorical\\\\Ses01M_script03_2_e4_cat.txt']"
      ]
     },
     "execution_count": 10,
     "metadata": {},
     "output_type": "execute_result"
    }
   ],
   "source": [
    "categories"
   ]
  },
  {
   "cell_type": "code",
   "execution_count": 12,
   "metadata": {},
   "outputs": [],
   "source": [
    "status=pd.DataFrame(columns=['file','Emot'])"
   ]
  },
  {
   "cell_type": "code",
   "execution_count": 40,
   "metadata": {},
   "outputs": [
    {
     "ename": "NameError",
     "evalue": "name 'lamda' is not defined",
     "output_type": "error",
     "traceback": [
      "\u001b[1;31m---------------------------------------------------------------------------\u001b[0m",
      "\u001b[1;31mNameError\u001b[0m                                 Traceback (most recent call last)",
      "\u001b[1;32m<ipython-input-40-042c1336988c>\u001b[0m in \u001b[0;36m<module>\u001b[1;34m\u001b[0m\n\u001b[0;32m      1\u001b[0m \u001b[1;32mfor\u001b[0m \u001b[0mpath\u001b[0m \u001b[1;32min\u001b[0m \u001b[0mcategories\u001b[0m\u001b[1;33m:\u001b[0m\u001b[1;33m\u001b[0m\u001b[1;33m\u001b[0m\u001b[0m\n\u001b[1;32m----> 2\u001b[1;33m     \u001b[0mdf\u001b[0m\u001b[1;33m=\u001b[0m\u001b[0mpd\u001b[0m\u001b[1;33m.\u001b[0m\u001b[0mread_csv\u001b[0m\u001b[1;33m(\u001b[0m\u001b[0mpath\u001b[0m\u001b[1;33m,\u001b[0m\u001b[0mdelimiter\u001b[0m\u001b[1;33m=\u001b[0m\u001b[0mlamda\u001b[0m\u001b[1;33m(\u001b[0m\u001b[0mx\u001b[0m\u001b[1;33m.\u001b[0m\u001b[0msplit\u001b[0m\u001b[1;33m(\u001b[0m\u001b[1;34m':'\u001b[0m\u001b[1;33m,\u001b[0m\u001b[1;36m1\u001b[0m\u001b[1;33m)\u001b[0m\u001b[1;33m)\u001b[0m\u001b[1;33m)\u001b[0m\u001b[1;33m\u001b[0m\u001b[1;33m\u001b[0m\u001b[0m\n\u001b[0m\u001b[0;32m      3\u001b[0m     \u001b[0mstatus\u001b[0m\u001b[1;33m.\u001b[0m\u001b[0mappend\u001b[0m\u001b[1;33m(\u001b[0m\u001b[0mdf\u001b[0m\u001b[1;33m,\u001b[0m\u001b[0mignore_index\u001b[0m\u001b[1;33m=\u001b[0m\u001b[1;32mTrue\u001b[0m\u001b[1;33m)\u001b[0m\u001b[1;33m\u001b[0m\u001b[1;33m\u001b[0m\u001b[0m\n",
      "\u001b[1;31mNameError\u001b[0m: name 'lamda' is not defined"
     ]
    }
   ],
   "source": [
    "for path in categories:\n",
    "    df=pd.read_csv(path,delimiter=lamda(x.split(':',1)))\n",
    "    status.append(df,ignore_index=True)"
   ]
  },
  {
   "cell_type": "code",
   "execution_count": 27,
   "metadata": {},
   "outputs": [
    {
     "data": {
      "text/html": [
       "<div>\n",
       "<style scoped>\n",
       "    .dataframe tbody tr th:only-of-type {\n",
       "        vertical-align: middle;\n",
       "    }\n",
       "\n",
       "    .dataframe tbody tr th {\n",
       "        vertical-align: top;\n",
       "    }\n",
       "\n",
       "    .dataframe thead th {\n",
       "        text-align: right;\n",
       "    }\n",
       "</style>\n",
       "<table border=\"1\" class=\"dataframe\">\n",
       "  <thead>\n",
       "    <tr style=\"text-align: right;\">\n",
       "      <th></th>\n",
       "      <th>file</th>\n",
       "      <th>Emot</th>\n",
       "    </tr>\n",
       "  </thead>\n",
       "  <tbody>\n",
       "  </tbody>\n",
       "</table>\n",
       "</div>"
      ],
      "text/plain": [
       "Empty DataFrame\n",
       "Columns: [file, Emot]\n",
       "Index: []"
      ]
     },
     "execution_count": 27,
     "metadata": {},
     "output_type": "execute_result"
    }
   ],
   "source": [
    "status.head()"
   ]
  },
  {
   "cell_type": "code",
   "execution_count": 91,
   "metadata": {
    "scrolled": true
   },
   "outputs": [
    {
     "name": "stderr",
     "output_type": "stream",
     "text": [
      "C:\\Users\\parth\\.conda\\envs\\caps\\lib\\site-packages\\ipykernel_launcher.py:1: ParserWarning: Falling back to the 'python' engine because the 'c' engine does not support regex separators (separators > 1 char and different from '\\s+' are interpreted as regex); you can avoid this warning by specifying engine='python'.\n",
      "  \"\"\"Entry point for launching an IPython kernel.\n"
     ]
    }
   ],
   "source": [
    "df=pd.read_csv(path,delimiter='^:')"
   ]
  },
  {
   "cell_type": "code",
   "execution_count": 92,
   "metadata": {},
   "outputs": [
    {
     "data": {
      "text/html": [
       "<div>\n",
       "<style scoped>\n",
       "    .dataframe tbody tr th:only-of-type {\n",
       "        vertical-align: middle;\n",
       "    }\n",
       "\n",
       "    .dataframe tbody tr th {\n",
       "        vertical-align: top;\n",
       "    }\n",
       "\n",
       "    .dataframe thead th {\n",
       "        text-align: right;\n",
       "    }\n",
       "</style>\n",
       "<table border=\"1\" class=\"dataframe\">\n",
       "  <thead>\n",
       "    <tr style=\"text-align: right;\">\n",
       "      <th></th>\n",
       "      <th>Ses01M_script03_2_F000 :Neutral state; ()</th>\n",
       "    </tr>\n",
       "  </thead>\n",
       "  <tbody>\n",
       "    <tr>\n",
       "      <th>0</th>\n",
       "      <td>Ses01M_script03_2_F001 :Neutral state; ()</td>\n",
       "    </tr>\n",
       "    <tr>\n",
       "      <th>1</th>\n",
       "      <td>Ses01M_script03_2_F002 :Neutral state; ()</td>\n",
       "    </tr>\n",
       "    <tr>\n",
       "      <th>2</th>\n",
       "      <td>Ses01M_script03_2_F003 :Surprise; ()</td>\n",
       "    </tr>\n",
       "    <tr>\n",
       "      <th>3</th>\n",
       "      <td>Ses01M_script03_2_F004 :Neutral state; ()</td>\n",
       "    </tr>\n",
       "    <tr>\n",
       "      <th>4</th>\n",
       "      <td>Ses01M_script03_2_F005 :Neutral state; ()</td>\n",
       "    </tr>\n",
       "    <tr>\n",
       "      <th>...</th>\n",
       "      <td>...</td>\n",
       "    </tr>\n",
       "    <tr>\n",
       "      <th>80</th>\n",
       "      <td>Ses01M_script03_2_M039 :Anger; ()</td>\n",
       "    </tr>\n",
       "    <tr>\n",
       "      <th>81</th>\n",
       "      <td>Ses01M_script03_2_M040 :Anger; ()</td>\n",
       "    </tr>\n",
       "    <tr>\n",
       "      <th>82</th>\n",
       "      <td>Ses01M_script03_2_M041 :Anger; ()</td>\n",
       "    </tr>\n",
       "    <tr>\n",
       "      <th>83</th>\n",
       "      <td>Ses01M_script03_2_M042 :Anger; ()</td>\n",
       "    </tr>\n",
       "    <tr>\n",
       "      <th>84</th>\n",
       "      <td>Ses01M_script03_2_M043 :Anger; ()</td>\n",
       "    </tr>\n",
       "  </tbody>\n",
       "</table>\n",
       "<p>85 rows × 1 columns</p>\n",
       "</div>"
      ],
      "text/plain": [
       "    Ses01M_script03_2_F000 :Neutral state; ()\n",
       "0   Ses01M_script03_2_F001 :Neutral state; ()\n",
       "1   Ses01M_script03_2_F002 :Neutral state; ()\n",
       "2        Ses01M_script03_2_F003 :Surprise; ()\n",
       "3   Ses01M_script03_2_F004 :Neutral state; ()\n",
       "4   Ses01M_script03_2_F005 :Neutral state; ()\n",
       "..                                        ...\n",
       "80          Ses01M_script03_2_M039 :Anger; ()\n",
       "81          Ses01M_script03_2_M040 :Anger; ()\n",
       "82          Ses01M_script03_2_M041 :Anger; ()\n",
       "83          Ses01M_script03_2_M042 :Anger; ()\n",
       "84          Ses01M_script03_2_M043 :Anger; ()\n",
       "\n",
       "[85 rows x 1 columns]"
      ]
     },
     "execution_count": 92,
     "metadata": {},
     "output_type": "execute_result"
    }
   ],
   "source": [
    "df"
   ]
  },
  {
   "cell_type": "code",
   "execution_count": null,
   "metadata": {},
   "outputs": [],
   "source": [
    "pin='Ses01F_impro01_F007 :Frustration; :Disgust; :Anger; ()'"
   ]
  },
  {
   "cell_type": "code",
   "execution_count": 94,
   "metadata": {},
   "outputs": [],
   "source": [
    "import re"
   ]
  },
  {
   "cell_type": "code",
   "execution_count": 36,
   "metadata": {},
   "outputs": [],
   "source": [
    "sta='Ses01F_impro01_F009 :Frustration; :Disgust; :Anger; ()'"
   ]
  },
  {
   "cell_type": "code",
   "execution_count": 38,
   "metadata": {},
   "outputs": [
    {
     "data": {
      "text/plain": [
       "['Ses01F_impro01_F009 ', 'Frustration; :Disgust; :Anger; ()']"
      ]
     },
     "execution_count": 38,
     "metadata": {},
     "output_type": "execute_result"
    }
   ],
   "source": []
  },
  {
   "cell_type": "code",
   "execution_count": 72,
   "metadata": {},
   "outputs": [],
   "source": [
    "fd=pd.read_csv(categories[10])"
   ]
  },
  {
   "cell_type": "code",
   "execution_count": 66,
   "metadata": {},
   "outputs": [],
   "source": [
    "sd=fd.apply(lambda x: str(x).split(':'))"
   ]
  },
  {
   "cell_type": "code",
   "execution_count": 56,
   "metadata": {},
   "outputs": [
    {
     "data": {
      "text/html": [
       "<div>\n",
       "<style scoped>\n",
       "    .dataframe tbody tr th:only-of-type {\n",
       "        vertical-align: middle;\n",
       "    }\n",
       "\n",
       "    .dataframe tbody tr th {\n",
       "        vertical-align: top;\n",
       "    }\n",
       "\n",
       "    .dataframe thead th {\n",
       "        text-align: right;\n",
       "    }\n",
       "</style>\n",
       "<table border=\"1\" class=\"dataframe\">\n",
       "  <thead>\n",
       "    <tr style=\"text-align: right;\">\n",
       "      <th></th>\n",
       "      <th>Ses01F_impro04_F000 :Neutral state; ()</th>\n",
       "    </tr>\n",
       "  </thead>\n",
       "  <tbody>\n",
       "    <tr>\n",
       "      <th>0</th>\n",
       "      <td>0     Ses01F_impro04_F001</td>\n",
       "    </tr>\n",
       "    <tr>\n",
       "      <th>1</th>\n",
       "      <td>Neutral state; ()\\n1       Ses01F_impro04_F002...</td>\n",
       "    </tr>\n",
       "  </tbody>\n",
       "</table>\n",
       "</div>"
      ],
      "text/plain": [
       "              Ses01F_impro04_F000 :Neutral state; ()\n",
       "0                         0     Ses01F_impro04_F001 \n",
       "1  Neutral state; ()\\n1       Ses01F_impro04_F002..."
      ]
     },
     "execution_count": 56,
     "metadata": {},
     "output_type": "execute_result"
    }
   ],
   "source": [
    "sd"
   ]
  },
  {
   "cell_type": "code",
   "execution_count": 53,
   "metadata": {},
   "outputs": [
    {
     "data": {
      "text/html": [
       "<div>\n",
       "<style scoped>\n",
       "    .dataframe tbody tr th:only-of-type {\n",
       "        vertical-align: middle;\n",
       "    }\n",
       "\n",
       "    .dataframe tbody tr th {\n",
       "        vertical-align: top;\n",
       "    }\n",
       "\n",
       "    .dataframe thead th {\n",
       "        text-align: right;\n",
       "    }\n",
       "</style>\n",
       "<table border=\"1\" class=\"dataframe\">\n",
       "  <thead>\n",
       "    <tr style=\"text-align: right;\">\n",
       "      <th></th>\n",
       "      <th>Ses01F_impro04_F000 :Neutral state; ()</th>\n",
       "    </tr>\n",
       "  </thead>\n",
       "  <tbody>\n",
       "    <tr>\n",
       "      <th>0</th>\n",
       "      <td>Ses01F_impro04_F001 :Neutral state; ()</td>\n",
       "    </tr>\n",
       "    <tr>\n",
       "      <th>1</th>\n",
       "      <td>Ses01F_impro04_F002 :Frustration; ()</td>\n",
       "    </tr>\n",
       "    <tr>\n",
       "      <th>2</th>\n",
       "      <td>Ses01F_impro04_F003 :Disgust; ()</td>\n",
       "    </tr>\n",
       "    <tr>\n",
       "      <th>3</th>\n",
       "      <td>Ses01F_impro04_F004 :Surprise; ()</td>\n",
       "    </tr>\n",
       "    <tr>\n",
       "      <th>4</th>\n",
       "      <td>Ses01F_impro04_F005 :Neutral state; ()</td>\n",
       "    </tr>\n",
       "    <tr>\n",
       "      <th>...</th>\n",
       "      <td>...</td>\n",
       "    </tr>\n",
       "    <tr>\n",
       "      <th>65</th>\n",
       "      <td>Ses01F_impro04_M032 :Neutral state; ()</td>\n",
       "    </tr>\n",
       "    <tr>\n",
       "      <th>66</th>\n",
       "      <td>Ses01F_impro04_M033 :Surprise; ()</td>\n",
       "    </tr>\n",
       "    <tr>\n",
       "      <th>67</th>\n",
       "      <td>Ses01F_impro04_M034 :Frustration; ()</td>\n",
       "    </tr>\n",
       "    <tr>\n",
       "      <th>68</th>\n",
       "      <td>Ses01F_impro04_M035 :Frustration; ()</td>\n",
       "    </tr>\n",
       "    <tr>\n",
       "      <th>69</th>\n",
       "      <td>Ses01F_impro04_M036 :Neutral state; ()</td>\n",
       "    </tr>\n",
       "  </tbody>\n",
       "</table>\n",
       "<p>70 rows × 1 columns</p>\n",
       "</div>"
      ],
      "text/plain": [
       "    Ses01F_impro04_F000 :Neutral state; ()\n",
       "0   Ses01F_impro04_F001 :Neutral state; ()\n",
       "1     Ses01F_impro04_F002 :Frustration; ()\n",
       "2         Ses01F_impro04_F003 :Disgust; ()\n",
       "3        Ses01F_impro04_F004 :Surprise; ()\n",
       "4   Ses01F_impro04_F005 :Neutral state; ()\n",
       "..                                     ...\n",
       "65  Ses01F_impro04_M032 :Neutral state; ()\n",
       "66       Ses01F_impro04_M033 :Surprise; ()\n",
       "67    Ses01F_impro04_M034 :Frustration; ()\n",
       "68    Ses01F_impro04_M035 :Frustration; ()\n",
       "69  Ses01F_impro04_M036 :Neutral state; ()\n",
       "\n",
       "[70 rows x 1 columns]"
      ]
     },
     "execution_count": 53,
     "metadata": {},
     "output_type": "execute_result"
    }
   ],
   "source": [
    "fd"
   ]
  },
  {
   "cell_type": "code",
   "execution_count": 76,
   "metadata": {},
   "outputs": [
    {
     "ename": "AttributeError",
     "evalue": "'DataFrame' object has no attribute 'str'",
     "output_type": "error",
     "traceback": [
      "\u001b[1;31m---------------------------------------------------------------------------\u001b[0m",
      "\u001b[1;31mAttributeError\u001b[0m                            Traceback (most recent call last)",
      "\u001b[1;32m<ipython-input-76-4d0be705d53f>\u001b[0m in \u001b[0;36m<module>\u001b[1;34m\u001b[0m\n\u001b[1;32m----> 1\u001b[1;33m \u001b[0msd\u001b[0m\u001b[1;33m=\u001b[0m\u001b[0mfd\u001b[0m\u001b[1;33m.\u001b[0m\u001b[0mstr\u001b[0m\u001b[1;33m.\u001b[0m\u001b[0mpartition\u001b[0m\u001b[1;33m(\u001b[0m\u001b[1;34m':'\u001b[0m\u001b[1;33m)\u001b[0m\u001b[1;33m\u001b[0m\u001b[1;33m\u001b[0m\u001b[0m\n\u001b[0m",
      "\u001b[1;32m~\\.conda\\envs\\caps\\lib\\site-packages\\pandas\\core\\generic.py\u001b[0m in \u001b[0;36m__getattr__\u001b[1;34m(self, name)\u001b[0m\n\u001b[0;32m   5460\u001b[0m             \u001b[1;32mif\u001b[0m \u001b[0mself\u001b[0m\u001b[1;33m.\u001b[0m\u001b[0m_info_axis\u001b[0m\u001b[1;33m.\u001b[0m\u001b[0m_can_hold_identifiers_and_holds_name\u001b[0m\u001b[1;33m(\u001b[0m\u001b[0mname\u001b[0m\u001b[1;33m)\u001b[0m\u001b[1;33m:\u001b[0m\u001b[1;33m\u001b[0m\u001b[1;33m\u001b[0m\u001b[0m\n\u001b[0;32m   5461\u001b[0m                 \u001b[1;32mreturn\u001b[0m \u001b[0mself\u001b[0m\u001b[1;33m[\u001b[0m\u001b[0mname\u001b[0m\u001b[1;33m]\u001b[0m\u001b[1;33m\u001b[0m\u001b[1;33m\u001b[0m\u001b[0m\n\u001b[1;32m-> 5462\u001b[1;33m             \u001b[1;32mreturn\u001b[0m \u001b[0mobject\u001b[0m\u001b[1;33m.\u001b[0m\u001b[0m__getattribute__\u001b[0m\u001b[1;33m(\u001b[0m\u001b[0mself\u001b[0m\u001b[1;33m,\u001b[0m \u001b[0mname\u001b[0m\u001b[1;33m)\u001b[0m\u001b[1;33m\u001b[0m\u001b[1;33m\u001b[0m\u001b[0m\n\u001b[0m\u001b[0;32m   5463\u001b[0m \u001b[1;33m\u001b[0m\u001b[0m\n\u001b[0;32m   5464\u001b[0m     \u001b[1;32mdef\u001b[0m \u001b[0m__setattr__\u001b[0m\u001b[1;33m(\u001b[0m\u001b[0mself\u001b[0m\u001b[1;33m,\u001b[0m \u001b[0mname\u001b[0m\u001b[1;33m:\u001b[0m \u001b[0mstr\u001b[0m\u001b[1;33m,\u001b[0m \u001b[0mvalue\u001b[0m\u001b[1;33m)\u001b[0m \u001b[1;33m->\u001b[0m \u001b[1;32mNone\u001b[0m\u001b[1;33m:\u001b[0m\u001b[1;33m\u001b[0m\u001b[1;33m\u001b[0m\u001b[0m\n",
      "\u001b[1;31mAttributeError\u001b[0m: 'DataFrame' object has no attribute 'str'"
     ]
    }
   ],
   "source": [
    "sd=fd.str.partition(':')"
   ]
  },
  {
   "cell_type": "code",
   "execution_count": null,
   "metadata": {},
   "outputs": [],
   "source": []
  }
 ],
 "metadata": {
  "accelerator": "TPU",
  "colab": {
   "name": "Feature Extraction.ipynb",
   "provenance": [],
   "toc_visible": true
  },
  "kernelspec": {
   "display_name": "Python 3",
   "language": "python",
   "name": "python3"
  },
  "language_info": {
   "codemirror_mode": {
    "name": "ipython",
    "version": 3
   },
   "file_extension": ".py",
   "mimetype": "text/x-python",
   "name": "python",
   "nbconvert_exporter": "python",
   "pygments_lexer": "ipython3",
   "version": "3.7.9"
  },
  "widgets": {
   "application/vnd.jupyter.widget-state+json": {
    "276eda39f6ad4068959959837cdb2208": {
     "model_module": "@jupyter-widgets/base",
     "model_name": "LayoutModel",
     "state": {
      "_model_module": "@jupyter-widgets/base",
      "_model_module_version": "1.2.0",
      "_model_name": "LayoutModel",
      "_view_count": null,
      "_view_module": "@jupyter-widgets/base",
      "_view_module_version": "1.2.0",
      "_view_name": "LayoutView",
      "align_content": null,
      "align_items": null,
      "align_self": null,
      "border": null,
      "bottom": null,
      "display": null,
      "flex": null,
      "flex_flow": null,
      "grid_area": null,
      "grid_auto_columns": null,
      "grid_auto_flow": null,
      "grid_auto_rows": null,
      "grid_column": null,
      "grid_gap": null,
      "grid_row": null,
      "grid_template_areas": null,
      "grid_template_columns": null,
      "grid_template_rows": null,
      "height": null,
      "justify_content": null,
      "justify_items": null,
      "left": null,
      "margin": null,
      "max_height": null,
      "max_width": null,
      "min_height": null,
      "min_width": null,
      "object_fit": null,
      "object_position": null,
      "order": null,
      "overflow": null,
      "overflow_x": null,
      "overflow_y": null,
      "padding": null,
      "right": null,
      "top": null,
      "visibility": null,
      "width": null
     }
    },
    "71aaaa3588854b3aaec2154aad60d1d7": {
     "model_module": "@jupyter-widgets/controls",
     "model_name": "HBoxModel",
     "state": {
      "_dom_classes": [],
      "_model_module": "@jupyter-widgets/controls",
      "_model_module_version": "1.5.0",
      "_model_name": "HBoxModel",
      "_view_count": null,
      "_view_module": "@jupyter-widgets/controls",
      "_view_module_version": "1.5.0",
      "_view_name": "HBoxView",
      "box_style": "",
      "children": [
       "IPY_MODEL_fdc0584ff3dc4aa1a2455b0f60ae71c0",
       "IPY_MODEL_f10b34ae70b14ee7a87bff26b22b93c3"
      ],
      "layout": "IPY_MODEL_276eda39f6ad4068959959837cdb2208"
     }
    },
    "7dd986f912ee49188feca24bf59e3045": {
     "model_module": "@jupyter-widgets/base",
     "model_name": "LayoutModel",
     "state": {
      "_model_module": "@jupyter-widgets/base",
      "_model_module_version": "1.2.0",
      "_model_name": "LayoutModel",
      "_view_count": null,
      "_view_module": "@jupyter-widgets/base",
      "_view_module_version": "1.2.0",
      "_view_name": "LayoutView",
      "align_content": null,
      "align_items": null,
      "align_self": null,
      "border": null,
      "bottom": null,
      "display": null,
      "flex": null,
      "flex_flow": null,
      "grid_area": null,
      "grid_auto_columns": null,
      "grid_auto_flow": null,
      "grid_auto_rows": null,
      "grid_column": null,
      "grid_gap": null,
      "grid_row": null,
      "grid_template_areas": null,
      "grid_template_columns": null,
      "grid_template_rows": null,
      "height": null,
      "justify_content": null,
      "justify_items": null,
      "left": null,
      "margin": null,
      "max_height": null,
      "max_width": null,
      "min_height": null,
      "min_width": null,
      "object_fit": null,
      "object_position": null,
      "order": null,
      "overflow": null,
      "overflow_x": null,
      "overflow_y": null,
      "padding": null,
      "right": null,
      "top": null,
      "visibility": null,
      "width": null
     }
    },
    "7f57933c822d43a0bbe7ed2d13681e25": {
     "model_module": "@jupyter-widgets/controls",
     "model_name": "ProgressStyleModel",
     "state": {
      "_model_module": "@jupyter-widgets/controls",
      "_model_module_version": "1.5.0",
      "_model_name": "ProgressStyleModel",
      "_view_count": null,
      "_view_module": "@jupyter-widgets/base",
      "_view_module_version": "1.2.0",
      "_view_name": "StyleView",
      "bar_color": null,
      "description_width": "initial"
     }
    },
    "978bd9ecbb07478f8a05524eca2fd9ec": {
     "model_module": "@jupyter-widgets/base",
     "model_name": "LayoutModel",
     "state": {
      "_model_module": "@jupyter-widgets/base",
      "_model_module_version": "1.2.0",
      "_model_name": "LayoutModel",
      "_view_count": null,
      "_view_module": "@jupyter-widgets/base",
      "_view_module_version": "1.2.0",
      "_view_name": "LayoutView",
      "align_content": null,
      "align_items": null,
      "align_self": null,
      "border": null,
      "bottom": null,
      "display": null,
      "flex": null,
      "flex_flow": null,
      "grid_area": null,
      "grid_auto_columns": null,
      "grid_auto_flow": null,
      "grid_auto_rows": null,
      "grid_column": null,
      "grid_gap": null,
      "grid_row": null,
      "grid_template_areas": null,
      "grid_template_columns": null,
      "grid_template_rows": null,
      "height": null,
      "justify_content": null,
      "justify_items": null,
      "left": null,
      "margin": null,
      "max_height": null,
      "max_width": null,
      "min_height": null,
      "min_width": null,
      "object_fit": null,
      "object_position": null,
      "order": null,
      "overflow": null,
      "overflow_x": null,
      "overflow_y": null,
      "padding": null,
      "right": null,
      "top": null,
      "visibility": null,
      "width": null
     }
    },
    "b3d1efb75cf44ebea5f97edffe62cb44": {
     "model_module": "@jupyter-widgets/controls",
     "model_name": "DescriptionStyleModel",
     "state": {
      "_model_module": "@jupyter-widgets/controls",
      "_model_module_version": "1.5.0",
      "_model_name": "DescriptionStyleModel",
      "_view_count": null,
      "_view_module": "@jupyter-widgets/base",
      "_view_module_version": "1.2.0",
      "_view_name": "StyleView",
      "description_width": ""
     }
    },
    "f10b34ae70b14ee7a87bff26b22b93c3": {
     "model_module": "@jupyter-widgets/controls",
     "model_name": "HTMLModel",
     "state": {
      "_dom_classes": [],
      "_model_module": "@jupyter-widgets/controls",
      "_model_module_version": "1.5.0",
      "_model_name": "HTMLModel",
      "_view_count": null,
      "_view_module": "@jupyter-widgets/controls",
      "_view_module_version": "1.5.0",
      "_view_name": "HTMLView",
      "description": "",
      "description_tooltip": null,
      "layout": "IPY_MODEL_978bd9ecbb07478f8a05524eca2fd9ec",
      "placeholder": "​",
      "style": "IPY_MODEL_b3d1efb75cf44ebea5f97edffe62cb44",
      "value": " 1066/7442 [10:25&lt;58:49,  1.81it/s]"
     }
    },
    "fdc0584ff3dc4aa1a2455b0f60ae71c0": {
     "model_module": "@jupyter-widgets/controls",
     "model_name": "FloatProgressModel",
     "state": {
      "_dom_classes": [],
      "_model_module": "@jupyter-widgets/controls",
      "_model_module_version": "1.5.0",
      "_model_name": "FloatProgressModel",
      "_view_count": null,
      "_view_module": "@jupyter-widgets/controls",
      "_view_module_version": "1.5.0",
      "_view_name": "ProgressView",
      "bar_style": "danger",
      "description": " 14%",
      "description_tooltip": null,
      "layout": "IPY_MODEL_7dd986f912ee49188feca24bf59e3045",
      "max": 7442,
      "min": 0,
      "orientation": "horizontal",
      "style": "IPY_MODEL_7f57933c822d43a0bbe7ed2d13681e25",
      "value": 1066
     }
    }
   }
  }
 },
 "nbformat": 4,
 "nbformat_minor": 1
}
